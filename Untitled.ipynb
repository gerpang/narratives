{
 "cells": [
  {
   "cell_type": "code",
   "execution_count": 15,
   "metadata": {},
   "outputs": [
    {
     "name": "stdout",
     "output_type": "stream",
     "text": [
      "[462, 445, 420, 471, 421, 445, 394, 421, 495, 426, 431, 450, 455, 471, 450, 402, 395, 395, 381, 414, 391, 443, 415]\n",
      "495\n",
      "381\n",
      "114\n"
     ]
    }
   ],
   "source": [
    "import csv\n",
    "from datetime import datetime\n",
    "\n",
    "with open('data.csv') as csv_file:\n",
    "    csv_reader = csv.reader(csv_file, delimiter=',')\n",
    "    line_count = 0\n",
    "    time_list = []\n",
    "    total_time = 0\n",
    "    x = 3600\n",
    "    count_list = []\n",
    "    count = 0\n",
    "    for i, row in enumerate(csv_reader, 0):\n",
    "        if i == 0:\n",
    "            continue\n",
    "        try:\n",
    "            time_list = row[1].split(':')\n",
    "            hours = time_list[0]\n",
    "            minutes = int(time_list[1])\n",
    "            seconds = int(time_list[2])\n",
    "        except:\n",
    "            continue\n",
    "        total_time = int(hours)*3600 + minutes*60 + seconds\n",
    "        if total_time < x:\n",
    "            count += 1\n",
    "        else:\n",
    "            count_list.append(count)\n",
    "            x += 3600\n",
    "            count = 0\n",
    "    dif = max(count_list)-min(count_list)\n",
    "    print(count_list)\n",
    "    print(max(count_list))\n",
    "    print(min(count_list))\n",
    "    print(dif)\n",
    " "
   ]
  },
  {
   "cell_type": "code",
   "execution_count": null,
   "metadata": {},
   "outputs": [],
   "source": []
  },
  {
   "cell_type": "code",
   "execution_count": null,
   "metadata": {},
   "outputs": [],
   "source": []
  }
 ],
 "metadata": {
  "kernelspec": {
   "display_name": "Python 3",
   "language": "python",
   "name": "python3"
  },
  "language_info": {
   "codemirror_mode": {
    "name": "ipython",
    "version": 3
   },
   "file_extension": ".py",
   "mimetype": "text/x-python",
   "name": "python",
   "nbconvert_exporter": "python",
   "pygments_lexer": "ipython3",
   "version": "3.7.4"
  }
 },
 "nbformat": 4,
 "nbformat_minor": 2
}
