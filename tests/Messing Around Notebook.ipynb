{
 "cells": [
  {
   "cell_type": "code",
   "execution_count": 31,
   "metadata": {},
   "outputs": [],
   "source": [
    "from bs4 import BeautifulSoup\n",
    "import progressbar\n",
    "import urllib.request\n",
    "import urllib.parse"
   ]
  },
  {
   "cell_type": "code",
   "execution_count": 1,
   "metadata": {},
   "outputs": [],
   "source": [
    "def gen_url(tag, type_of=\"works\", sort='date_posted', date_from='all'):\n",
    "    # generate url\n",
    "    ''' \n",
    "    type_of = 'works' or 'bookmarks'\n",
    "    tag = string, tested on fandom name tags, but possibly any tags?\n",
    "    sort = 'date_posted' any other sort may not work???\n",
    "    date_from = defaults to all otherwise assume '2017-12-01' format December 1, 2017\n",
    "    '''\n",
    "\n",
    "    url_params = {'utf8': '✓', \n",
    "                    'commit': 'Sort and Filter', \n",
    "                    'work_search[sort_column]':'',\n",
    "                    'work_search[other_tag_names]': '', \n",
    "                    'work_search[excluded_tag_names]': '',\n",
    "                    'work_search[crossover]': '',\n",
    "                    'work_search[complete]': '',\n",
    "                    'work_search[words_from]': '',\n",
    "                    'work_search[words_to]': '',\n",
    "                    'work_search[date_from]': '',\n",
    "                    'work_search[date_to]': '',\n",
    "                    'work_search[query]': '',\n",
    "                    'work_search[language_id]': '',\n",
    "                    'tag_id': tag\n",
    "                    }\n",
    "    if sort == 'date_posted':\n",
    "        url_params['work_search[sort_column]'] = 'created_at'\n",
    "    if date_from != 'all':\n",
    "        url_params['work_search[date_from]'] = date_from\n",
    "\n",
    "    params = urllib.parse.urlencode(url_params)\n",
    "    \n",
    "    url = \"https://archiveofourown.org/\" + type_of + \"?%s\" % params\n",
    "\n",
    "    return url"
   ]
  },
  {
   "cell_type": "code",
   "execution_count": 23,
   "metadata": {},
   "outputs": [],
   "source": [
    "def get_works_list(tag, type_of, sort, date_from):\n",
    "    ''' type = \"bookmarks\" '''\n",
    "\n",
    "    base_url = gen_url(tag, type_of, sort, date_from)\n",
    "    print(base_url)\n",
    "    with urllib.request.urlopen(base_url) as f:\n",
    "        soup = BeautifulSoup(f.read().decode('utf-8'))\n",
    "        #print(f.read().decode('utf-8'))\n"
   ]
  },
  {
   "cell_type": "code",
   "execution_count": 26,
   "metadata": {},
   "outputs": [
    {
     "name": "stdout",
     "output_type": "stream",
     "text": [
      "https://archiveofourown.org/works?utf8=%E2%9C%93&commit=Sort+and+Filter&work_search%5Bsort_column%5D=created_at&work_search%5Bother_tag_names%5D=&work_search%5Bexcluded_tag_names%5D=&work_search%5Bcrossover%5D=&work_search%5Bcomplete%5D=&work_search%5Bwords_from%5D=&work_search%5Bwords_to%5D=&work_search%5Bdate_from%5D=2017-12-01&work_search%5Bdate_to%5D=&work_search%5Bquery%5D=&work_search%5Blanguage_id%5D=&tag_id=Star+Wars+-+All+Media+Types\n"
     ]
    }
   ],
   "source": [
    "base_url = gen_url(\"Star Wars - All Media Types\", type_of='works', sort='date_posted', date_from='2017-12-01')\n",
    "print(base_url)\n",
    "with urllib.request.urlopen(base_url) as f:\n",
    "    soup = BeautifulSoup(f.read().decode('utf-8'))"
   ]
  },
  {
   "cell_type": "code",
   "execution_count": 25,
   "metadata": {},
   "outputs": [
    {
     "data": {
      "text/plain": [
       "44849"
      ]
     },
     "execution_count": 25,
     "metadata": {},
     "output_type": "execute_result"
    }
   ],
   "source": [
    "heading = soup.find('h2')\n",
    "page_count = int(heading.get_text().split(' of ')[1].split(' Works in ')[0])\n",
    "page_count"
   ]
  },
  {
   "cell_type": "code",
   "execution_count": 30,
   "metadata": {},
   "outputs": [
    {
     "name": "stdout",
     "output_type": "stream",
     "text": [
      "21701653\n",
      "21701476\n",
      "21701293\n",
      "21701062\n",
      "21701056\n",
      "21700765\n",
      "21700636\n",
      "21700474\n",
      "21700459\n",
      "21700345\n",
      "21700171\n",
      "21699997\n",
      "21699817\n",
      "21699628\n",
      "21699571\n",
      "21699277\n",
      "21699220\n",
      "21699073\n",
      "21698473\n",
      "21698209\n"
     ]
    }
   ],
   "source": [
    "work_blurb_groups = soup.find_all(class_=\"work blurb group\")\n",
    "for work in work_blurb_groups:\n",
    "    print(work.find('a').get('href').lstrip('/works/'))"
   ]
  },
  {
   "cell_type": "code",
   "execution_count": null,
   "metadata": {},
   "outputs": [],
   "source": []
  }
 ],
 "metadata": {
  "kernelspec": {
   "display_name": "Python 3",
   "language": "python",
   "name": "python3"
  },
  "language_info": {
   "codemirror_mode": {
    "name": "ipython",
    "version": 3
   },
   "file_extension": ".py",
   "mimetype": "text/x-python",
   "name": "python",
   "nbconvert_exporter": "python",
   "pygments_lexer": "ipython3",
   "version": "3.7.4"
  }
 },
 "nbformat": 4,
 "nbformat_minor": 2
}
