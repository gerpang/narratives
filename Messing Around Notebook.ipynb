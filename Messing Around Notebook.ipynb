{
 "cells": [
  {
   "cell_type": "code",
   "execution_count": 1,
   "metadata": {},
   "outputs": [],
   "source": [
    "from bs4 import BeautifulSoup\n",
    "import progressbar\n",
    "import urllib.request\n",
    "import urllib.parse"
   ]
  },
  {
   "cell_type": "code",
   "execution_count": null,
   "metadata": {},
   "outputs": [],
   "source": [
    "heading = soup.find('h2')\n",
    "page_count = int(heading.get_text().split(' of ')[1].split(' Works in ')[0])\n",
    "page_count"
   ]
  },
  {
   "cell_type": "code",
   "execution_count": null,
   "metadata": {},
   "outputs": [],
   "source": [
    "work_blurb_groups = soup.find_all(class_=\"work blurb group\")\n",
    "for work in work_blurb_groups:\n",
    "    print(work.find('a').get('href').lstrip('/works/'))"
   ]
  },
  {
   "cell_type": "code",
   "execution_count": 26,
   "metadata": {},
   "outputs": [],
   "source": [
    "url = \"https://archiveofourown.org/works/14388135?view_adult=true&amp;view_full_work=true\"\n",
    "with urllib.request.urlopen(url) as f:\n",
    "    soup = BeautifulSoup(f.read().decode('utf-8'))"
   ]
  },
  {
   "cell_type": "code",
   "execution_count": 24,
   "metadata": {},
   "outputs": [
    {
     "name": "stdout",
     "output_type": "stream",
     "text": [
      "3\n"
     ]
    }
   ],
   "source": [
    "warnings = soup.find_all(class_=\"category tags\")[1].find_all(class_='tag')\n",
    "print(len(warnings))\n",
    "#for warning in warnings:\n",
    "#    print(warning.get)"
   ]
  },
  {
   "cell_type": "code",
   "execution_count": 25,
   "metadata": {},
   "outputs": [
    {
     "name": "stdout",
     "output_type": "stream",
     "text": [
      "['F/F', 'F/M', 'Gen']\n"
     ]
    }
   ],
   "source": [
    "warning_list = [warning.get_text().strip() for warning in warnings]\n",
    "print(warning_list)"
   ]
  },
  {
   "cell_type": "code",
   "execution_count": 31,
   "metadata": {},
   "outputs": [
    {
     "name": "stdout",
     "output_type": "stream",
     "text": [
      "Ever-so-reylo\n",
      "Ever_So_Reylo\n"
     ]
    }
   ],
   "source": [
    "psued = ''\n",
    "primary = ''\n",
    "\n",
    "user_entire = soup.find(class_=\"byline heading\").get_text().strip()\n",
    "if ' ' in user_entire:\n",
    "    psued, primary = user_entire.split()\n",
    "    primary = primary.lstrip('(').rstrip(')')\n",
    "    print(psued)\n",
    "    print(primary)\n",
    "\n"
   ]
  },
  {
   "cell_type": "code",
   "execution_count": 46,
   "metadata": {},
   "outputs": [
    {
     "name": "stdout",
     "output_type": "stream",
     "text": [
      "24\n"
     ]
    },
    {
     "data": {
      "text/plain": [
       "['thornhands',\n",
       " 'vucizalis',\n",
       " 'phantomess92',\n",
       " 'dridri93',\n",
       " 'DreamWings231',\n",
       " 'kara_alyssa',\n",
       " 'Masquerade_24601',\n",
       " 'ScalyshArc',\n",
       " 'lorrdsnow',\n",
       " 'TheOneYouNeverSaw',\n",
       " 'IrethWaverly',\n",
       " 'artista508',\n",
       " 'thrice_a_fool',\n",
       " 'MetamorphicRocky',\n",
       " 'mea_19',\n",
       " 'AvengingLegendHobo',\n",
       " 'SIC_Prowl',\n",
       " 'scarletbenoitismyrolemodel',\n",
       " 'SavingGrace21',\n",
       " 'NovaWeezy',\n",
       " 'Hopeless_Romantic_Dreamer',\n",
       " 'Irisofthesky',\n",
       " 'AsunaChinaDoll',\n",
       " 'Soreidy_27',\n",
       " 'fallenleeft',\n",
       " 'joonfired',\n",
       " 'Starlight24',\n",
       " 'GentleViking1993',\n",
       " 'AJB1318',\n",
       " 'cahtali']"
      ]
     },
     "execution_count": 46,
     "metadata": {},
     "output_type": "execute_result"
    }
   ],
   "source": [
    "url = \"https://archiveofourown.org/works/21705841/kudos\"\n",
    "with urllib.request.urlopen(url) as f:\n",
    "    soup = BeautifulSoup(f.read().decode('utf-8'))\n",
    "user_list_soup = soup.find(class_=\"kudos\")\n",
    "_, guest_text = user_list_soup.get_text().split('as well as')\n",
    "guest_count = guest_text.replace('\\n', '').strip().rstrip('guests left kudos on this work!')\n",
    "print(guest_count)\n",
    "users = [user.get_text() for user in user_list_soup.find_all('a')]\n",
    "users"
   ]
  },
  {
   "cell_type": "code",
   "execution_count": null,
   "metadata": {},
   "outputs": [],
   "source": [
    "test = sub."
   ]
  }
 ],
 "metadata": {
  "kernelspec": {
   "display_name": "Python 3",
   "language": "python",
   "name": "python3"
  },
  "language_info": {
   "codemirror_mode": {
    "name": "ipython",
    "version": 3
   },
   "file_extension": ".py",
   "mimetype": "text/x-python",
   "name": "python",
   "nbconvert_exporter": "python",
   "pygments_lexer": "ipython3",
   "version": "3.7.4"
  }
 },
 "nbformat": 4,
 "nbformat_minor": 2
}
