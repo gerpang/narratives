{
 "cells": [
  {
   "cell_type": "markdown",
   "metadata": {},
   "source": [
    "# Model 1"
   ]
  },
  {
   "cell_type": "markdown",
   "metadata": {},
   "source": [
    "### This is a first attempt at creating a recsys model from data scraped from AO3."
   ]
  },
  {
   "cell_type": "code",
   "execution_count": 135,
   "metadata": {},
   "outputs": [],
   "source": [
    "import numpy as np\n",
    "from lightfm import LightFM\n",
    "from lightfm import cross_validation\n",
    "import json, csv, zipfile\n",
    "from lightfm.data import Dataset\n",
    "import json, os\n",
    "from itertools import islice\n",
    "import matplotlib.pyplot as plt"
   ]
  },
  {
   "cell_type": "markdown",
   "metadata": {},
   "source": [
    "# Quick Start Example"
   ]
  },
  {
   "cell_type": "code",
   "execution_count": 4,
   "metadata": {},
   "outputs": [
    {
     "name": "stdout",
     "output_type": "stream",
     "text": [
      "CPU times: user 423 ms, sys: 3.44 ms, total: 426 ms\n",
      "Wall time: 439 ms\n"
     ]
    },
    {
     "data": {
      "text/plain": [
       "<lightfm.lightfm.LightFM at 0x1a2454cfd0>"
      ]
     },
     "execution_count": 4,
     "metadata": {},
     "output_type": "execute_result"
    }
   ],
   "source": [
    "from lightfm.datasets import fetch_movielens\n",
    "from lightfm.evaluation import precision_at_k\n",
    "\n",
    "data = fetch_movielens(min_rating=5.0)\n",
    "model = LightFM(loss='warp')\n",
    "%time model.fit(data['train'], epochs=30, num_threads=2)"
   ]
  },
  {
   "cell_type": "code",
   "execution_count": 5,
   "metadata": {},
   "outputs": [
    {
     "name": "stdout",
     "output_type": "stream",
     "text": [
      "Train precision: 0.41\n",
      "Test precision: 0.05\n"
     ]
    }
   ],
   "source": [
    "print(\"Train precision: %.2f\" % precision_at_k(model, data['train'], k=5).mean())\n",
    "print(\"Test precision: %.2f\" % precision_at_k(model, data['test'], k=5).mean())"
   ]
  },
  {
   "cell_type": "code",
   "execution_count": 7,
   "metadata": {},
   "outputs": [],
   "source": [
    "def sample_recommendation(model, data, user_ids):\n",
    "\n",
    "\n",
    "    n_users, n_items = data['train'].shape\n",
    "\n",
    "    for user_id in user_ids:\n",
    "        known_positives = data['item_labels'][data['train'].tocsr()[user_id].indices]\n",
    "\n",
    "        scores = model.predict(user_id, np.arange(n_items))\n",
    "        top_items = data['item_labels'][np.argsort(-scores)]\n",
    "\n",
    "        print(\"User %s\" % user_id)\n",
    "        print(\"     Known positives:\")\n",
    "\n",
    "        for x in known_positives[:3]:\n",
    "            print(\"        %s\" % x)\n",
    "\n",
    "        print(\"     Recommended:\")\n",
    "\n",
    "        for x in top_items[:3]:\n",
    "            print(\"        %s\" % x)"
   ]
  },
  {
   "cell_type": "code",
   "execution_count": 37,
   "metadata": {},
   "outputs": [
    {
     "name": "stdout",
     "output_type": "stream",
     "text": [
      "['Toy Story (1995)' 'GoldenEye (1995)' 'Four Rooms (1995)' ...\n",
      " 'Sliding Doors (1998)' 'You So Crazy (1994)'\n",
      " 'Scream of Stone (Schrei aus Stein) (1991)']\n",
      "*******\n",
      "<class 'scipy.sparse.csr.csr_matrix'>\n",
      "*******\n",
      "[319 320 339 345 346]\n",
      "*******\n",
      "['Paradise Lost: The Child Murders at Robin Hood Hills (1996)'\n",
      " 'Mother (1996)' 'Boogie Nights (1997)' 'Jackie Brown (1997)'\n",
      " 'Wag the Dog (1997)']\n"
     ]
    }
   ],
   "source": [
    "print(data['item_labels'])\n",
    "print(\"*******\")\n",
    "print(type(data['train'].tocsr()[3]) )\n",
    "print(\"*******\")\n",
    "print(data['train'].tocsr()[2].indices)\n",
    "print(\"*******\")\n",
    "print(data['item_labels'][data['train'].tocsr()[2].indices])"
   ]
  },
  {
   "cell_type": "code",
   "execution_count": 102,
   "metadata": {},
   "outputs": [
    {
     "name": "stdout",
     "output_type": "stream",
     "text": [
      "['Toy Story (1995)' 'GoldenEye (1995)' 'Four Rooms (1995)']\n",
      "[  59   44  190 ... 3399 1644  342]\n",
      "Three Colors: Blue (1993)\n"
     ]
    }
   ],
   "source": [
    "print(data['item_labels'][0:3])\n",
    "print(np.argsort(-scores))\n",
    "print(data['item_labels'][59])"
   ]
  },
  {
   "cell_type": "code",
   "execution_count": null,
   "metadata": {},
   "outputs": [],
   "source": [
    "sample_recommendation(model, data, [3, 25, 450])"
   ]
  },
  {
   "cell_type": "markdown",
   "metadata": {},
   "source": [
    "### Create iterators from user interactions (i.e. works where kudos were given) and fanworks metadata (i.e. item features). LightFM is expecting these for the next step."
   ]
  },
  {
   "cell_type": "code",
   "execution_count": 38,
   "metadata": {},
   "outputs": [],
   "source": [
    "def get_data():\n",
    "\n",
    "    with zipfile.ZipFile(\"../data/swr_fanworks.zip\") as archive:\n",
    "        return (\n",
    "            csv.DictReader(\n",
    "                (x.decode(\"utf-8\", \"ignore\") for x in archive.open(\"swr_fanworks/fanworks_kudos2.csv\")),\n",
    "                delimiter=\",\",\n",
    "            ),\n",
    "            csv.DictReader(\n",
    "                (x.decode(\"utf-8\", \"ignore\") for x in archive.open(\"swr_fanworks/fanfics_metadata.csv\")), delimiter=\",\"\n",
    "            ),\n",
    "        )\n",
    "\n",
    "\n",
    "def get_kudos():\n",
    "\n",
    "    return get_data()[0]\n",
    "\n",
    "\n",
    "def get_fanworks_features():\n",
    "\n",
    "    return get_data()[1]"
   ]
  },
  {
   "cell_type": "markdown",
   "metadata": {},
   "source": [
    "### Make sure everything looks in order."
   ]
  },
  {
   "cell_type": "code",
   "execution_count": 39,
   "metadata": {},
   "outputs": [],
   "source": [
    "kudos, fanworks_features = get_data()"
   ]
  },
  {
   "cell_type": "code",
   "execution_count": 40,
   "metadata": {
    "scrolled": true
   },
   "outputs": [
    {
     "name": "stdout",
     "output_type": "stream",
     "text": [
      "{\n",
      "    \"user\": \"klutzyelf\",\n",
      "    \"work_id\": \"3104510\"\n",
      "}\n",
      "{\n",
      "    \"user\": \"Ello_its_meme\",\n",
      "    \"work_id\": \"3104510\"\n",
      "}\n"
     ]
    }
   ],
   "source": [
    "for line in islice(kudos, 2):\n",
    "    print(json.dumps(line, indent=4))"
   ]
  },
  {
   "cell_type": "code",
   "execution_count": 41,
   "metadata": {},
   "outputs": [
    {
     "name": "stdout",
     "output_type": "stream",
     "text": [
      "{\n",
      "    \"work_id\": \"3104510\",\n",
      "    \"title\": \"Second Chances\",\n",
      "    \"rating\": \"Teen And Up Audiences\",\n",
      "    \"category\": \"M/M, F/F\",\n",
      "    \"fandom\": \"Star Wars - All Media Types, Star Wars Prequel Trilogy, Star Wars Original Trilogy, Star Wars: The Clone Wars (2008) - All Media Types, Star Wars: Rebels, Star Wars (Marvel Comics), Star Wars: Expanded Universe (Comics)\",\n",
      "    \"relationship\": \"Obi-Wan Kenobi/Anakin Skywalker, Obi-Wan Kenobi & Anakin Skywalker, Obi-Wan Kenobi/Darth Vader, Minor or Background Relationship(s), Obi-Wan Kenobi & Darth Vader, Luke Skywalker & Han Solo, Luke Skywalker/Han Solo, Ambiguous or Implied Relationship(s), Barriss Offee/Ahsoka Tano, Leia Organa/Evaan Verlaine\",\n",
      "    \"character\": \"Leia Organa, Luke Skywalker, Anakin Skywalker, Anakin Skywalker | Darth Vader, Darth Vader, Obi-Wan Kenobi, Han Solo, Qui-Gon Jinn, R2-D2, C-3PO, Ahsoka Tano, Chewbacca, Evaan Verlaine, Mon Mothma, Ephraim Bridger, Ezra Bridger, Kanan Jarrus, Hera Syndulla, Sabine Wren, Garazeb \\\"Zeb\\\" Orrelios, C1-10P | Chopper, Galen Marek, Yoda, Hondo Ohnaka, Original Male Character(s), Barriss Offee, Sheev Palpatine | Darth Sidious, Aphra (Star Wars), Snoke (Star Wars)\",\n",
      "    \"additional tags\": \"Age Regression/De-Aging, Soul Bond, The Force, Crack Treated Seriously, Crack, Family Feels, Timeline What Timeline, Accidental Plot, What Have I Done, Villains to Heroes, Crack and Angst, Angst, POV Alternating, Alternate Universe - Canon Divergence, Leia is a Jedi too, Gotta be inclusive, Undue Seriousness, With Occasional Hints of Humour, Force-Sensitive Han, Just a pinch!, Skywalker Family Feels, Fix-It, Fix-It of Sorts, Author's Favorite\",\n",
      "    \"language\": \"English\",\n",
      "    \"published\": \"2015-01-05\",\n",
      "    \"status\": \"Completed\",\n",
      "    \"status date\": \"2016-04-16\",\n",
      "    \"words\": \"121358\",\n",
      "    \"chapters\": \"42/42\",\n",
      "    \"comments\": \"803\",\n",
      "    \"kudos\": \"1917\",\n",
      "    \"bookmarks\": \"446\",\n",
      "    \"hits\": \"74424\"\n",
      "}\n"
     ]
    }
   ],
   "source": [
    "for line in islice(fanworks_features, 1):\n",
    "    print(json.dumps(line, indent=4))"
   ]
  },
  {
   "cell_type": "markdown",
   "metadata": {},
   "source": [
    "### Create a mapping from source IDs (which are fan_works numbers and unique user names)"
   ]
  },
  {
   "cell_type": "code",
   "execution_count": 42,
   "metadata": {},
   "outputs": [],
   "source": [
    "dataset = Dataset()\n",
    "\n",
    "# Note column names have accidentally been switched\n",
    "dataset.fit((x['user'] for x in get_kudos()),\n",
    "            (x['work_id'] for x in get_kudos()))"
   ]
  },
  {
   "cell_type": "markdown",
   "metadata": {},
   "source": [
    "Check to see what the dataset looks like."
   ]
  },
  {
   "cell_type": "code",
   "execution_count": 43,
   "metadata": {},
   "outputs": [
    {
     "name": "stdout",
     "output_type": "stream",
     "text": [
      "Num users: 18096, num_items 4224.\n"
     ]
    }
   ],
   "source": [
    "num_users, num_items = dataset.interactions_shape()\n",
    "print('Num users: {}, num_items {}.'.format(num_users, num_items))"
   ]
  },
  {
   "cell_type": "markdown",
   "metadata": {},
   "source": [
    "### Now that we have user and fanworks mapping to LightFM IDs, we can create an interactions matrix."
   ]
  },
  {
   "cell_type": "code",
   "execution_count": 44,
   "metadata": {},
   "outputs": [
    {
     "name": "stdout",
     "output_type": "stream",
     "text": [
      "<18096x4224 sparse matrix of type '<class 'numpy.int32'>'\n",
      "\twith 151314 stored elements in COOrdinate format>\n",
      "<18096x4224 sparse matrix of type '<class 'numpy.float32'>'\n",
      "\twith 151314 stored elements in COOrdinate format>\n"
     ]
    }
   ],
   "source": [
    "(interactions, weights) = dataset.build_interactions(((x['user'], x['work_id'])\n",
    "                                                      for x in get_kudos()))\n",
    "\n",
    "print(repr(interactions))\n",
    "print(repr(weights))"
   ]
  },
  {
   "cell_type": "markdown",
   "metadata": {},
   "source": [
    "### Cross Validate into Train/Test Split"
   ]
  },
  {
   "cell_type": "code",
   "execution_count": 45,
   "metadata": {},
   "outputs": [],
   "source": [
    "(train, test)= cross_validation.random_train_test_split(interactions)"
   ]
  },
  {
   "cell_type": "markdown",
   "metadata": {},
   "source": [
    "### Time to build the model"
   ]
  },
  {
   "cell_type": "code",
   "execution_count": 46,
   "metadata": {},
   "outputs": [
    {
     "data": {
      "text/plain": [
       "<lightfm.lightfm.LightFM at 0x1a2454a2d0>"
      ]
     },
     "execution_count": 46,
     "metadata": {},
     "output_type": "execute_result"
    }
   ],
   "source": [
    "model = LightFM(loss='bpr')\n",
    "model.fit(interactions)"
   ]
  },
  {
   "cell_type": "code",
   "execution_count": 47,
   "metadata": {},
   "outputs": [
    {
     "name": "stdout",
     "output_type": "stream",
     "text": [
      "CPU times: user 379 ms, sys: 4.43 ms, total: 383 ms\n",
      "Wall time: 385 ms\n"
     ]
    }
   ],
   "source": [
    "NUM_THREADS = 1\n",
    "NUM_COMPONENTS = 30\n",
    "NUM_EPOCHS = 3\n",
    "ITEM_ALPHA = 1e-6\n",
    "\n",
    "# Let's fit a WARP model: these generally have the best performance.\n",
    "model2 = LightFM(loss='warp',\n",
    "                item_alpha=ITEM_ALPHA)\n",
    "\n",
    "# Run 3 epochs and time it.\n",
    "%time model = model2.fit(train, epochs=NUM_EPOCHS, num_threads=NUM_THREADS)"
   ]
  },
  {
   "cell_type": "code",
   "execution_count": 48,
   "metadata": {},
   "outputs": [
    {
     "name": "stdout",
     "output_type": "stream",
     "text": [
      "Collaborative filtering train AUC: 0.9060621\n"
     ]
    }
   ],
   "source": [
    "# Import the evaluation routines\n",
    "from lightfm.evaluation import auc_score\n",
    "\n",
    "# Compute and print the AUC score\n",
    "train_auc = auc_score(model, train, num_threads=NUM_THREADS).mean()\n",
    "print('Collaborative filtering train AUC: %s' % train_auc)"
   ]
  },
  {
   "cell_type": "code",
   "execution_count": 49,
   "metadata": {},
   "outputs": [
    {
     "name": "stdout",
     "output_type": "stream",
     "text": [
      "Collaborative filtering test AUC: 0.8661158\n"
     ]
    }
   ],
   "source": [
    "# We pass in the train interactions to exclude them from predictions.\n",
    "# This is to simulate a recommender system where we do not\n",
    "# re-recommend things the user has already interacted with in the train\n",
    "# set.\n",
    "test_auc = auc_score(model, test, num_threads=NUM_THREADS).mean()\n",
    "print('Collaborative filtering test AUC: %s' % test_auc)"
   ]
  },
  {
   "cell_type": "code",
   "execution_count": 50,
   "metadata": {},
   "outputs": [
    {
     "name": "stdout",
     "output_type": "stream",
     "text": [
      "Precision: train 0.08, test 0.03.\n",
      "AUC: train 0.91, test 0.84.\n"
     ]
    }
   ],
   "source": [
    "from lightfm.evaluation import precision_at_k\n",
    "from lightfm.evaluation import auc_score\n",
    "\n",
    "model = LightFM(learning_rate=0.05, loss='bpr')\n",
    "model.fit(train, epochs=10)\n",
    "\n",
    "train_precision = precision_at_k(model, train, k=10).mean()\n",
    "test_precision = precision_at_k(model, test, k=10).mean()\n",
    "\n",
    "train_auc = auc_score(model, train).mean()\n",
    "test_auc = auc_score(model, test).mean()\n",
    "\n",
    "print('Precision: train %.2f, test %.2f.' % (train_precision, test_precision))\n",
    "print('AUC: train %.2f, test %.2f.' % (train_auc, test_auc))"
   ]
  },
  {
   "cell_type": "code",
   "execution_count": 51,
   "metadata": {},
   "outputs": [
    {
     "name": "stdout",
     "output_type": "stream",
     "text": [
      "Precision: train 0.10, test 0.03.\n",
      "AUC: train 0.96, test 0.90.\n"
     ]
    }
   ],
   "source": [
    "model = LightFM(learning_rate=0.05, loss='warp')\n",
    "\n",
    "model.fit_partial(train, epochs=10)\n",
    "\n",
    "train_precision = precision_at_k(model, train, k=10).mean()\n",
    "test_precision = precision_at_k(model, test, k=10).mean()\n",
    "\n",
    "train_auc = auc_score(model, train).mean()\n",
    "test_auc = auc_score(model, test).mean()\n",
    "\n",
    "print('Precision: train %.2f, test %.2f.' % (train_precision, test_precision))\n",
    "print('AUC: train %.2f, test %.2f.' % (train_auc, test_auc))"
   ]
  },
  {
   "cell_type": "markdown",
   "metadata": {},
   "source": [
    "### Let's Play Around With Learning Rates"
   ]
  },
  {
   "cell_type": "code",
   "execution_count": null,
   "metadata": {},
   "outputs": [],
   "source": [
    "alpha = 1e-3\n",
    "epochs = 70\n",
    "\n",
    "adagrad_model = LightFM(no_components=30,\n",
    "                        loss='warp',\n",
    "                        learning_schedule='adagrad',\n",
    "                        user_alpha=alpha,\n",
    "                        item_alpha=alpha)\n",
    "adadelta_model = LightFM(no_components=30,\n",
    "                        loss='warp',\n",
    "                        learning_schedule='adadelta',\n",
    "                        user_alpha=alpha,\n",
    "                        item_alpha=alpha)\n",
    "\n",
    "adagrad_auc = []\n",
    "\n",
    "for epoch in range(epochs):\n",
    "    adagrad_model.fit_partial(train, epochs=1)\n",
    "    adagrad_auc.append(auc_score(adagrad_model, test).mean())\n",
    "\n",
    "\n",
    "adadelta_auc = []\n",
    "\n",
    "for epoch in range(epochs):\n",
    "    adadelta_model.fit_partial(train, epochs=1)\n",
    "    adadelta_auc.append(auc_score(adadelta_model, test).mean())"
   ]
  },
  {
   "cell_type": "code",
   "execution_count": null,
   "metadata": {},
   "outputs": [],
   "source": [
    "import matplotlib.pyplot as plt\n",
    "\n",
    "x = np.arange(len(adagrad_auc))\n",
    "plt.plot(x, np.array(adagrad_auc))\n",
    "plt.plot(x, np.array(adadelta_auc))\n",
    "plt.legend(['adagrad', 'adadelta'], loc='lower right')\n",
    "plt.show()"
   ]
  },
  {
   "cell_type": "code",
   "execution_count": null,
   "metadata": {},
   "outputs": [],
   "source": [
    "print(f\"adagrad auc {adagrad_auc[-1]}\")\n",
    "print(f\"adadelta auc {adadelta_auc[-1]}\")"
   ]
  },
  {
   "cell_type": "code",
   "execution_count": null,
   "metadata": {},
   "outputs": [],
   "source": [
    "alpha = 1e-3\n",
    "epochs = 70\n",
    "\n",
    "adagrad_model = LightFM(no_components=30,\n",
    "                        loss='warp-kos',\n",
    "                        learning_schedule='adagrad',\n",
    "                        user_alpha=alpha, item_alpha=alpha)\n",
    "adadelta_model = LightFM(no_components=30,\n",
    "                        loss='warp-kos',\n",
    "                        learning_schedule='adadelta',\n",
    "                        user_alpha=alpha, item_alpha=alpha)\n",
    "\n",
    "adagrad_auc = []\n",
    "\n",
    "for epoch in range(epochs):\n",
    "    adagrad_model.fit_partial(train, epochs=1)\n",
    "    adagrad_auc.append(auc_score(adagrad_model, test).mean())\n",
    "\n",
    "\n",
    "adadelta_auc = []\n",
    "\n",
    "for epoch in range(epochs):\n",
    "    adadelta_model.fit_partial(train, epochs=1)\n",
    "    adadelta_auc.append(auc_score(adadelta_model, test).mean())"
   ]
  },
  {
   "cell_type": "code",
   "execution_count": null,
   "metadata": {},
   "outputs": [],
   "source": [
    "x = np.arange(len(adagrad_auc))\n",
    "plt.plot(x, np.array(adagrad_auc))\n",
    "plt.plot(x, np.array(adadelta_auc))\n",
    "plt.legend(['adagrad', 'adadelta'], loc='lower right')\n",
    "plt.show()"
   ]
  },
  {
   "cell_type": "code",
   "execution_count": null,
   "metadata": {},
   "outputs": [],
   "source": [
    "print(f\"adagrad auc {adagrad_auc[-1]}\")\n",
    "print(f\"adadelta auc {adadelta_auc[-1]}\")"
   ]
  },
  {
   "cell_type": "markdown",
   "metadata": {},
   "source": [
    "Using adagrad with warp loss, epochs around 60, alpha = 1e-3 gives the best results"
   ]
  },
  {
   "cell_type": "code",
   "execution_count": 132,
   "metadata": {},
   "outputs": [],
   "source": [
    "import time\n",
    "\n",
    "alpha = 1e-03\n",
    "epochs = 70\n",
    "num_components = 32\n",
    "\n",
    "warp_model = LightFM(no_components=num_components,\n",
    "                    loss='warp',\n",
    "                    learning_schedule='adagrad',\n",
    "                    max_sampled=100,\n",
    "                    user_alpha=alpha,\n",
    "                    item_alpha=alpha)\n",
    "\n",
    "bpr_model = LightFM(no_components=num_components,\n",
    "                    loss='bpr',\n",
    "                    learning_schedule='adagrad',\n",
    "                    user_alpha=alpha,\n",
    "                    item_alpha=alpha)\n",
    "\n",
    "warp_duration = []\n",
    "bpr_duration = []\n",
    "warp_auc = []\n",
    "bpr_auc = []\n",
    "\n",
    "for epoch in range(epochs):\n",
    "    start = time.time()\n",
    "    warp_model.fit_partial(train, epochs=1)\n",
    "    warp_duration.append(time.time() - start)\n",
    "    warp_auc.append(auc_score(warp_model, test).mean())\n",
    "\n",
    "for epoch in range(epochs):\n",
    "    start = time.time()\n",
    "    bpr_model.fit_partial(train, epochs=1)\n",
    "    bpr_duration.append(time.time() - start)\n",
    "    bpr_auc.append(auc_score(bpr_model, test).mean())"
   ]
  },
  {
   "cell_type": "code",
   "execution_count": 136,
   "metadata": {},
   "outputs": [
    {
     "data": {
      "image/png": "[encoded data removed]",
      "text/plain": [
       "<Figure size 432x288 with 1 Axes>"
      ]
     },
     "metadata": {
      "needs_background": "light"
     },
     "output_type": "display_data"
    }
   ],
   "source": [
    "x = np.arange(epochs)\n",
    "plt.plot(x, np.array(warp_auc))\n",
    "plt.plot(x, np.array(bpr_auc))\n",
    "plt.legend(['WARP AUC', 'BPR AUC'], loc='upper right')\n",
    "plt.show()"
   ]
  },
  {
   "cell_type": "code",
   "execution_count": null,
   "metadata": {},
   "outputs": [],
   "source": [
    "x = np.arange(epochs)\n",
    "plt.plot(x, np.array(warp_duration))\n",
    "plt.plot(x, np.array(bpr_duration))\n",
    "plt.legend(['WARP duration', 'BPR duration'], loc='upper right')\n",
    "plt.show()"
   ]
  },
  {
   "cell_type": "code",
   "execution_count": null,
   "metadata": {},
   "outputs": [],
   "source": [
    "warp_model = LightFM(no_components=num_components,\n",
    "                     max_sampled=3,\n",
    "                    loss='warp',\n",
    "                    learning_schedule='adagrad',\n",
    "                    user_alpha=alpha,\n",
    "                    item_alpha=alpha)\n",
    "\n",
    "warp_duration = []\n",
    "warp_auc = []\n",
    "\n",
    "for epoch in range(epochs):\n",
    "    start = time.time()\n",
    "    warp_model.fit_partial(train, epochs=1)\n",
    "    warp_duration.append(time.time() - start)\n",
    "    warp_auc.append(auc_score(warp_model, test).mean())\n",
    "\n",
    "x = np.arange(epochs)\n",
    "plt.plot(x, np.array(warp_duration))\n",
    "plt.legend(['WARP duration'], loc='upper right')\n",
    "plt.title('Duration')\n",
    "plt.show()\n",
    "\n",
    "x = np.arange(epochs)\n",
    "plt.plot(x, np.array(warp_auc))\n",
    "plt.legend(['WARP AUC'], loc='upper right')\n",
    "plt.title('AUC')\n",
    "plt.show()"
   ]
  },
  {
   "cell_type": "markdown",
   "metadata": {},
   "source": [
    "### Let's also try building a fanworks (item) feature matrix."
   ]
  },
  {
   "cell_type": "code",
   "execution_count": null,
   "metadata": {},
   "outputs": [],
   "source": [
    "item_features = dataset.build_item_features(((x['work_id'], [x['category']])\n",
    "                                              for x in get_fanworks_features()))\n",
    "print(repr(item_features))"
   ]
  },
  {
   "cell_type": "markdown",
   "metadata": {},
   "source": [
    "# Let's try to get recommendations out"
   ]
  },
  {
   "cell_type": "code",
   "execution_count": null,
   "metadata": {},
   "outputs": [],
   "source": [
    "def sample_recommendation(model, data, user_ids):\n",
    "\n",
    "\n",
    "    n_users, n_items = data.shape\n",
    "\n",
    "    for user_id in user_ids:\n",
    "        known_positives = data['item_labels'][data['train'].tocsr()[user_id].indices]\n",
    "\n",
    "        scores = model.predict(user_id, np.arange(n_items))\n",
    "        top_items = data['work_id'][np.argsort(-scores)]\n",
    "\n",
    "        print(\"User %s\" % user_id)\n",
    "        print(\"     Known positives:\")\n",
    "\n",
    "        #for x in known_positives[:3]:\n",
    "        #    print(\"        %s\" % x)\n",
    "\n",
    "        print(\"     Recommended:\")\n",
    "\n",
    "        for x in top_items[:3]:\n",
    "            print(\"        %s\" % x)"
   ]
  },
  {
   "cell_type": "code",
   "execution_count": null,
   "metadata": {},
   "outputs": [],
   "source": [
    "sample_recommendation(model, kudos, [3, 25, 450])"
   ]
  },
  {
   "cell_type": "code",
   "execution_count": 153,
   "metadata": {},
   "outputs": [],
   "source": [
    "def sample_fanworks_rec(model, dataset, users):\n",
    "\n",
    "    n_users, n_items = dataset.interactions_shape()\n",
    "    \n",
    "    for user_name in users:\n",
    "        #known_positives = data['item_labels'][data['train'].tocsr()[user_id].indices]\n",
    "        user_id = dataset.mapping()[0][user_name]\n",
    "        \n",
    "        scores2 = model.predict(user_id, np.arange(n_items))\n",
    "        #top_items = data['work_id'][np.argsort(-scores)]\n",
    "        top_indices = np.argsort(-scores2)\n",
    "        #top_items = dataset.mapping()[2][np.argsort(-scores)]\n",
    "\n",
    "        print(f\"User {user_id} {user_name}\")\n",
    "        print(\"     Known positives:\")\n",
    "        \n",
    "\n",
    "        #for x in known_positives[:3]:\n",
    "        #    print(\"        %s\" % x)\n",
    "\n",
    "        print(\"     Recommended:\")\n",
    "\n",
    "        for x in top_indices[:10]:\n",
    "\n",
    "            y = dict(map(reversed, dataset.mapping()[2].items()))[x]\n",
    "            print(f\"http://www.archiveofourown.org/works/{y}\")"
   ]
  },
  {
   "cell_type": "code",
   "execution_count": 154,
   "metadata": {},
   "outputs": [
    {
     "name": "stdout",
     "output_type": "stream",
     "text": [
      "User 2971 MapToWhereIAlreadyAm\n",
      "     Known positives:\n",
      "     Recommended:\n",
      "http://www.archiveofourown.org/works/2606978\n",
      "http://www.archiveofourown.org/works/3967084\n",
      "http://www.archiveofourown.org/works/3490910\n",
      "http://www.archiveofourown.org/works/2599214\n",
      "http://www.archiveofourown.org/works/4332726\n",
      "http://www.archiveofourown.org/works/5249699\n",
      "http://www.archiveofourown.org/works/7030051\n",
      "http://www.archiveofourown.org/works/2826071\n",
      "http://www.archiveofourown.org/works/6070624\n",
      "http://www.archiveofourown.org/works/4417469\n"
     ]
    }
   ],
   "source": [
    "sample_fanworks_rec(model, dataset, ['MapToWhereIAlreadyAm'])"
   ]
  },
  {
   "cell_type": "code",
   "execution_count": 63,
   "metadata": {},
   "outputs": [
    {
     "name": "stdout",
     "output_type": "stream",
     "text": [
      "(18096, 4224)\n",
      "2971\n"
     ]
    }
   ],
   "source": [
    "print(dataset.interactions_shape())\n",
    "print(dataset.mapping()[0]['MapToWhereIAlreadyAm'])"
   ]
  },
  {
   "cell_type": "code",
   "execution_count": 65,
   "metadata": {},
   "outputs": [
    {
     "data": {
      "text/plain": [
       "'MapToWhereIAlreadyAm'"
      ]
     },
     "execution_count": 65,
     "metadata": {},
     "output_type": "execute_result"
    }
   ],
   "source": [
    "reversed_lookup_users = dict(map(reversed, dataset.mapping()[0].items()))\n",
    "reversed_lookup_users = "
   ]
  },
  {
   "cell_type": "code",
   "execution_count": 81,
   "metadata": {},
   "outputs": [
    {
     "name": "stdout",
     "output_type": "stream",
     "text": [
      "{'3104510': 0, '6423526': 1, '9552773': 2, '5162474': 3, '4417469': 4, '6800461': 5, '5276975': 6, '5691409': 7, '5600314': 8, '7949938': 9, '4307715': 10, '7731400': 11, '9470711': 12, '13172817': 13, '8892910': 14, '8625148': 15, '5684185': 16, '16067255': 17, '18221840': 18, '14960156': 19, '12075666': 20, '13966560': 21, '11600223': 22, '9303272': 23, '5068015': 24, '12897576': 25, '13949562': 26, '5025610': 27, '11699232': 28, '3541511': 29, '5808097': 30, '8032450': 31, '7353133': 32, '6427147': 33, '13995180': 34, '7544575': 35, '6334627': 36, '8015536': 37, '4527786': 38, '10062053': 39, '7196108': 40, '10746336': 41, '3406271': 42, '13285578': 43, '3967084': 44, '10838289': 45, '11465352': 46, '3064295': 47, '5278049': 48, '10728954': 49, '12288612': 50, '8376922': 51, '7277554': 52, '12837480': 53, '7144571': 54, '10628475': 55, '13597905': 56, '8135873': 57, '7799950': 58, '2606978': 59, '17435678': 60, '6357565': 61, '10610031': 62, '13598769': 63, '10470963': 64, '3363869': 65, '6375598': 66, '12690372': 67, '10558038': 68, '12836592': 69, '13599273': 70, '8033683': 71, '10184603': 72, '10487811': 73, '7549513': 74, '14016459': 75, '13900452': 76, '5631997': 77, '4835939': 78, '10455369': 79, '13618029': 80, '13651935': 81, '14719869': 82, '10520676': 83, '14700105': 84, '3496196': 85, '7296298': 86, '10575342': 87, '9810746': 88, '9646148': 89, '14249748': 90, '14162259': 91, '9091102': 92, '5188019': 93, '4287831': 94, '16231907': 95, '7592956': 96, '6446410': 97, '15817191': 98, '7261390': 99, '6528829': 100, '3229058': 101, '10947714': 102, '10799415': 103, '3396131': 104, '11787432': 105, '9367076': 106, '6590149': 107, '10934508': 108, '17032317': 109, '13667118': 110, '5620675': 111, '2845064': 112, '6070624': 113, '17627273': 114, '4216917': 115, '3370538': 116, '6714817': 117, '10713552': 118, '11814510': 119, '10688091': 120, '8363497': 121, '6436585': 122, '17583677': 123, '14403339': 124, '7547764': 125, '12543424': 126, '5188439': 127, '2826071': 128, '13649379': 129, '14355432': 130, '14314296': 131, '6406723': 132, '14120685': 133, '18600613': 134, '14085045': 135, '6416485': 136, '5987014': 137, '15161330': 138, '11269764': 139, '8523805': 140, '17152577': 141, '4982551': 142, '5589076': 143, '6332191': 144, '13767723': 145, '11063163': 146, '15758985': 147, '7994242': 148, '6958114': 149, '10519605': 150, '13920876': 151, '10582275': 152, '11689575': 153, '6366259': 154, '12800901': 155, '6530785': 156, '16050941': 157, '5558630': 158, '20376484': 159, '10516335': 160, '4034530': 161, '12774702': 162, '10929186': 163, '10194470': 164, '6857923': 165, '10589799': 166, '16575119': 167, '3477005': 168, '10675704': 169, '5631661': 170, '10700886': 171, '6544915': 172, '4757612': 173, '9347585': 174, '13639272': 175, '16186379': 176, '11326314': 177, '11371659': 178, '15333315': 179, '15310074': 180, '3627567': 181, '13993839': 182, '10666908': 183, '8464915': 184, '14259144': 185, '12498564': 186, '6819982': 187, '5249699': 188, '6214513': 189, '3490910': 190, '10496667': 191, '8918629': 192, '10691415': 193, '16373723': 194, '3411938': 195, '7699156': 196, '5965879': 197, '10767465': 198, '10389117': 199, '5107262': 200, '14431131': 201, '12264144': 202, '10667370': 203, '3444650': 204, '3849637': 205, '16099250': 206, '4396343': 207, '13871916': 208, '10851561': 209, '15484914': 210, '6159484': 211, '9906602': 212, '15550206': 213, '17278328': 214, '6340837': 215, '3896953': 216, '5545820': 217, '10498443': 218, '6655159': 219, '15633753': 220, '15545127': 221, '5152547': 222, '7583845': 223, '12237069': 224, '13979334': 225, '7950934': 226, '3670869': 227, '4025086': 228, '14216814': 229, '14609040': 230, '5990704': 231, '13957887': 232, '5224823': 233, '12967842': 234, '14418264': 235, '10545336': 236, '6425599': 237, '5523158': 238, '11560011': 239, '13898721': 240, '4759712': 241, '9699488': 242, '16476338': 243, '10779891': 244, '13771074': 245, '12096228': 246, '11858616': 247, '8735053': 248, '14715671': 249, '5579986': 250, '7371034': 251, '3063887': 252, '10817565': 253, '9082702': 254, '18703912': 255, '16914519': 256, '13368258': 257, '3109214': 258, '15503595': 259, '8281204': 260, '4294290': 261, '3089474': 262, '6431887': 263, '4675304': 264, '7681393': 265, '8714833': 266, '13771128': 267, '5526113': 268, '12125655': 269, '14731520': 270, '14284992': 271, '9209534': 272, '15447450': 273, '3875311': 274, '12043134': 275, '11873796': 276, '14138268': 277, '13947933': 278, '14369397': 279, '16732896': 280, '4460258': 281, '11030034': 282, '9339398': 283, '12932460': 284, '7680328': 285, '15204749': 286, '4332726': 287, '12099042': 288, '12902529': 289, '14236899': 290, '3348917': 291, '14683539': 292, '7621201': 293, '9459323': 294, '13900788': 295, '5120636': 296, '3379625': 297, '4122022': 298, '15406692': 299, '10835247': 300, '7295026': 301, '15975764': 302, '8504806': 303, '10547710': 304, '2548091': 305, '19760368': 306, '9333326': 307, '8145370': 308, '2711987': 309, '18783256': 310, '5398499': 311, '19261744': 312, '6361945': 313, '7151834': 314, '15163853': 315, '6116140': 316, '14069949': 317, '15874677': 318, '10560150': 319, '6413521': 320, '12377406': 321, '18689206': 322, '13821012': 323, '10655163': 324, '6940030': 325, '8534557': 326, '3837733': 327, '13904661': 328, '10846095': 329, '14660622': 330, '11050443': 331, '9379646': 332, '4310829': 333, '6555997': 334, '14059734': 335, '6426559': 336, '9804575': 337, '10414356': 338, '12801960': 339, '3111806': 340, '7612504': 341, '9678380': 342, '10462563': 343, '8207068': 344, '11300145': 345, '16697851': 346, '5631568': 347, '4312686': 348, '11407311': 349, '10451328': 350, '21928627': 351, '7632703': 352, '11088480': 353, '10816044': 354, '18413063': 355, '13886388': 356, '13906083': 357, '9123535': 358, '14220438': 359, '10665009': 360, '5999677': 361, '5631454': 362, '5959117': 363, '2599214': 364, '6673849': 365, '8101927': 366, '6134425': 367, '14457345': 368, '15161315': 369, '13923513': 370, '5881123': 371, '13918530': 372, '19401877': 373, '5025346': 374, '16545926': 375, '6456691': 376, '9001987': 377, '10636239': 378, '16806166': 379, '13352304': 380, '4514661': 381, '18229850': 382, '17580272': 383, '6451768': 384, '2621108': 385, '8112433': 386, '10442196': 387, '11567922': 388, '7642840': 389, '6152767': 390, '4360154': 391, '11190270': 392, '5776834': 393, '2621156': 394, '8188559': 395, '6072331': 396, '13958445': 397, '13913490': 398, '13217193': 399, '9095614': 400, '13889763': 401, '10113533': 402, '7154924': 403, '5821558': 404, '4051102': 405, '10448865': 406, '3295538': 407, '13247835': 408, '18127391': 409, '13882395': 410, '8161474': 411, '3697289': 412, '14059704': 413, '13483464': 414, '9358694': 415, '7030051': 416, '6327733': 417, '13904346': 418, '14335830': 419, '15749568': 420, '11026923': 421, '8086108': 422, '17615291': 423, '8597554': 424, '8443075': 425, '10395060': 426, '15024512': 427, '8247494': 428, '10082288': 429, '5821603': 430, '7175876': 431, '16537574': 432, '9133114': 433, '5820559': 434, '7497468': 435, '13422105': 436, '16233437': 437, '14240490': 438, '12456812': 439, '8302507': 440, '14600493': 441, '10078982': 442, '6301948': 443, '20481398': 444, '9306428': 445, '14988764': 446, '3841081': 447, '9298181': 448, '6457357': 449, '12560848': 450, '13792026': 451, '6567835': 452, '16551524': 453, '11761746': 454, '16534874': 455, '9723479': 456, '6330496': 457, '10449426': 458, '3985402': 459, '5380436': 460, '17532575': 461, '6867841': 462, '17572370': 463, '8879203': 464, '5627212': 465, '6546220': 466, '12100314': 467, '15331296': 468, '4289991': 469, '13661049': 470, '6549919': 471, '7927894': 472, '15338799': 473, '14118228': 474, '6487528': 475, '14521755': 476, '8335222': 477, '14437323': 478, '16049855': 479, '6476644': 480, '10743825': 481, '9234281': 482, '11786640': 483, '10580217': 484, '8577613': 485, '10845939': 486, '12810468': 487, '10623663': 488, '7315240': 489, '16757707': 490, '8364769': 491, '8765305': 492, '3142241': 493, '6325756': 494, '10839264': 495, '9127531': 496, '5389499': 497, '4091272': 498, '12704028': 499, '13689108': 500, '12517852': 501, '7218085': 502, '10528707': 503, '7674913': 504, '6073138': 505, '10553026': 506, '13094355': 507, '10729146': 508, '7789822': 509, '8945338': 510, '6609793': 511, '13850556': 512, '5367914': 513, '14267556': 514, '13753041': 515, '6422668': 516, '10410672': 517, '14248359': 518, '4197456': 519, '19048543': 520, '7236376': 521, '17130767': 522, '5599492': 523, '11561826': 524, '12761337': 525, '6335968': 526, '9291731': 527, '13742223': 528, '5204804': 529, '14557896': 530, '15818121': 531, '8345311': 532, '13348386': 533, '9636821': 534, '14464449': 535, '10940250': 536, '3553670': 537, '10768839': 538, '12320019': 539, '11584053': 540, '16189319': 541, '17576978': 542, '10868778': 543, '16340912': 544, '13627827': 545, '2431058': 546, '19215133': 547, '11941119': 548, '7074313': 549, '6722425': 550, '11495217': 551, '14450856': 552, '10714704': 553, '14096526': 554, '18919144': 555, '2421923': 556, '14086587': 557, '13541481': 558, '7686178': 559, '12224616': 560, '13860936': 561, '6003706': 562, '8443744': 563, '14768445': 564, '18533938': 565, '8425147': 566, '7653757': 567, '11168409': 568, '15858831': 569, '4097320': 570, '16543694': 571, '17760497': 572, '13648131': 573, '15007673': 574, '6591574': 575, '5555270': 576, '14510997': 577, '12087447': 578, '16678165': 579, '9057364': 580, '14997179': 581, '7177592': 582, '11554749': 583, '6538699': 584, '8177836': 585, '13881249': 586, '14572341': 587, '6515329': 588, '21748651': 589, '6493588': 590, '6152260': 591, '14506014': 592, '4858355': 593, '7673890': 594, '7324405': 595, '5547107': 596, '13172217': 597, '7675681': 598, '16014578': 599, '11900142': 600, '8246828': 601, '14178672': 602, '6662689': 603, '13998348': 604, '6110746': 605, '8242720': 606, '6003475': 607, '8870377': 608, '6468721': 609, '19476589': 610, '17754716': 611, '5626651': 612, '17271527': 613, '16626617': 614, '14528244': 615, '11366055': 616, '8536855': 617, '13833501': 618, '15870417': 619, '14589612': 620, '12759171': 621, '6910087': 622, '11786769': 623, '4674083': 624, '13938324': 625, '17653493': 626, '16302488': 627, '7756945': 628, '12460524': 629, '8116981': 630, '9459161': 631, '7712299': 632, '11573010': 633, '6277150': 634, '8292832': 635, '5639005': 636, '2621072': 637, '18590962': 638, '7723489': 639, '13343757': 640, '14243841': 641, '8158264': 642, '10883187': 643, '13992594': 644, '10269176': 645, '4060819': 646, '10453905': 647, '20871020': 648, '15713967': 649, '6040528': 650, '12183072': 651, '11388108': 652, '12849282': 653, '5873773': 654, '18012302': 655, '5102462': 656, '18696844': 657, '10496430': 658, '12285072': 659, '13890813': 660, '10716303': 661, '4723961': 662, '2593883': 663, '8031673': 664, '19971358': 665, '14009901': 666, '5553797': 667, '5839795': 668, '16440872': 669, '12680472': 670, '10186472': 671, '10448409': 672, '14208156': 673, '6754441': 674, '8265943': 675, '15289773': 676, '5902222': 677, '11199801': 678, '11350944': 679, '2719211': 680, '10974843': 681, '9490760': 682, '6414274': 683, '6621832': 684, '14605158': 685, '7775386': 686, '17248013': 687, '10356279': 688, '8926459': 689, '12783054': 690, '7094695': 691, '17994521': 692, '5850016': 693, '10416792': 694, '7830769': 695, '12657705': 696, '13893294': 697, '5478059': 698, '15646047': 699, '7722175': 700, '8574994': 701, '6467515': 702, '10731780': 703, '6481402': 704, '19377214': 705, '21836371': 706, '6564283': 707, '12781191': 708, '3554339': 709, '10054352': 710, '11701440': 711, '8222431': 712, '10917135': 713, '14713713': 714, '5381003': 715, '14015538': 716, '9107905': 717, '3799957': 718, '8973727': 719, '13915941': 720, '5184473': 721, '7731637': 722, '11825913': 723, '13724382': 724, '11656806': 725, '15256638': 726, '10851390': 727, '13018695': 728, '7688278': 729, '7666633': 730, '17538281': 731, '4402295': 732, '9383459': 733, '14331759': 734, '3355109': 735, '5424350': 736, '17558501': 737, '18316694': 738, '15618783': 739, '16958934': 740, '13268496': 741, '8502463': 742, '12424509': 743, '13801461': 744, '7667833': 745, '17788646': 746, '11908572': 747, '14467536': 748, '9283160': 749, '12963357': 750, '13763583': 751, '5934523': 752, '8049181': 753, '7918594': 754, '15693747': 755, '6742429': 756, '10664136': 757, '8279576': 758, '12375990': 759, '6604273': 760, '5407784': 761, '7748242': 762, '8225590': 763, '3964570': 764, '7742551': 765, '16781308': 766, '14768541': 767, '6565225': 768, '7667611': 769, '12557232': 770, '8586325': 771, '4343585': 772, '18587221': 773, '12003765': 774, '13886871': 775, '7715608': 776, '6001924': 777, '9080599': 778, '13893480': 779, '8081737': 780, '18240194': 781, '16170746': 782, '7706125': 783, '17659877': 784, '7928080': 785, '7599628': 786, '8184475': 787, '2621135': 788, '9532514': 789, '7875805': 790, '12086454': 791, '17303663': 792, '15133541': 793, '9096748': 794, '18570700': 795, '13011990': 796, '9108460': 797, '4270836': 798, '14843823': 799, '12068184': 800, '8126146': 801, '12149157': 802, '14531235': 803, '10627578': 804, '12830139': 805, '6597700': 806, '9223496': 807, '7295590': 808, '9201014': 809, '11830002': 810, '6141746': 811, '9548864': 812, '7863427': 813, '14527890': 814, '5904913': 815, '7551241': 816, '7693726': 817, '13763700': 818, '5820616': 819, '8698516': 820, '8693779': 821, '11605245': 822, '8508115': 823, '9362507': 824, '13893456': 825, '3485696': 826, '6974215': 827, '10529301': 828, '12321684': 829, '20546984': 830, '10695087': 831, '5103380': 832, '13877577': 833, '13302144': 834, '8654620': 835, '6633433': 836, '12484480': 837, '2510264': 838, '15306153': 839, '9640253': 840, '8361664': 841, '13823649': 842, '15040124': 843, '9395519': 844, '5849938': 845, '9066868': 846, '14719082': 847, '15958934': 848, '14984147': 849, '7530523': 850, '9177982': 851, '4467599': 852, '7049827': 853, '14985737': 854, '10166852': 855, '7740838': 856, '8433997': 857, '8858371': 858, '15999074': 859, '5820775': 860, '5287607': 861, '9292841': 862, '6427222': 863, '6733612': 864, '21100367': 865, '8797363': 866, '10973595': 867, '12705732': 868, '13895499': 869, '15593688': 870, '8382031': 871, '14389974': 872, '6570895': 873, '12767400': 874, '13407741': 875, '15728925': 876, '14630703': 877, '5093147': 878, '12530512': 879, '16303985': 880, '14394876': 881, '20913326': 882, '7813237': 883, '8637301': 884, '13928148': 885, '13922094': 886, '21036386': 887, '18856834': 888, '6458974': 889, '16574528': 890, '16034807': 891, '9414080': 892, '9422222': 893, '13783242': 894, '8021188': 895, '13522578': 896, '9827780': 897, '8191060': 898, '8221640': 899, '6473044': 900, '12774597': 901, '13452015': 902, '8660146': 903, '6135121': 904, '10775649': 905, '13823544': 906, '14479815': 907, '6412933': 908, '13512999': 909, '10954467': 910, '9814241': 911, '9917852': 912, '14539554': 913, '14183643': 914, '15129284': 915, '6289528': 916, '9900992': 917, '19812733': 918, '5413349': 919, '13908891': 920, '3307367': 921, '11407524': 922, '3289256': 923, '12612916': 924, '16427855': 925, '10513962': 926, '14395740': 927, '9174127': 928, '14522115': 929, '18575332': 930, '9224699': 931, '2624645': 932, '17969984': 933, '7524838': 934, '4293996': 935, '11518548': 936, '14170674': 937, '8296646': 938, '10544096': 939, '9875606': 940, '7939210': 941, '8887060': 942, '11654406': 943, '5420885': 944, '12371436': 945, '5944255': 946, '3931672': 947, '9475058': 948, '13894815': 949, '13727499': 950, '20673209': 951, '3892825': 952, '6500701': 953, '9444194': 954, '5467382': 955, '10355988': 956, '12187182': 957, '20208982': 958, '3632232': 959, '12627399': 960, '7692787': 961, '6533308': 962, '8302040': 963, '14036763': 964, '5873668': 965, '16579925': 966, '8175182': 967, '8068765': 968, '5839789': 969, '4709984': 970, '8601274': 971, '13026405': 972, '19271260': 973, '17558915': 974, '6420505': 975, '9191069': 976, '3448673': 977, '10333283': 978, '12623384': 979, '17700182': 980, '9901610': 981, '13905228': 982, '12330450': 983, '14164560': 984, '7884961': 985, '13833717': 986, '13868568': 987, '3228383': 988, '12124011': 989, '10729635': 990, '10530636': 991, '13837869': 992, '13975593': 993, '18420429': 994, '8037643': 995, '16386737': 996, '11672742': 997, '7486617': 998, '18399401': 999, '13852479': 1000, '11575734': 1001, '7988770': 1002, '8157322': 1003, '12282852': 1004, '14177766': 1005, '13905387': 1006, '14210646': 1007, '12779988': 1008, '10657875': 1009, '8530885': 1010, '13025064': 1011, '2621126': 1012, '10843476': 1013, '4980925': 1014, '18399626': 1015, '8751601': 1016, '3515717': 1017, '5067469': 1018, '9390434': 1019, '18185180': 1020, '8124229': 1021, '7120975': 1022, '5105816': 1023, '3384998': 1024, '13751733': 1025, '10571022': 1026, '8756359': 1027, '4178292': 1028, '13828689': 1029, '5934613': 1030, '6412918': 1031, '12015936': 1032, '9630362': 1033, '2621048': 1034, '11553189': 1035, '13829394': 1036, '6504250': 1037, '19309981': 1038, '13543797': 1039, '8059957': 1040, '10948038': 1041, '6401449': 1042, '6318280': 1043, '10146440': 1044, '14806188': 1045, '9157801': 1046, '3840826': 1047, '9509096': 1048, '12354348': 1049, '13932579': 1050, '11115828': 1051, '6136761': 1052, '12613864': 1053, '10611033': 1054, '9628604': 1055, '16957422': 1056, '14169090': 1057, '13650090': 1058, '15419838': 1059, '3293003': 1060, '5610250': 1061, '14893371': 1062, '12066402': 1063, '14144367': 1064, '10978275': 1065, '10052537': 1066, '5230604': 1067, '11088423': 1068, '12327054': 1069, '7734697': 1070, '13759680': 1071, '14915070': 1072, '11387181': 1073, '6206080': 1074, '6404074': 1075, '2692055': 1076, '3292865': 1077, '16546508': 1078, '13793448': 1079, '8596900': 1080, '12840696': 1081, '6564493': 1082, '3310928': 1083, '3879112': 1084, '8204336': 1085, '13640064': 1086, '3182114': 1087, '8310277': 1088, '13314216': 1089, '6473266': 1090, '8682448': 1091, '6458749': 1092, '8370151': 1093, '16299374': 1094, '3753613': 1095, '14413302': 1096, '16685968': 1097, '6571009': 1098, '14709614': 1099, '3296585': 1100, '13406253': 1101, '9589478': 1102, '14196849': 1103, '6580879': 1104, '8119870': 1105, '6425512': 1106, '12066870': 1107, '16244990': 1108, '20832416': 1109, '8964121': 1110, '10167686': 1111, '8200681': 1112, '19428091': 1113, '11244147': 1114, '6884878': 1115, '10034063': 1116, '6733777': 1117, '10232747': 1118, '13731309': 1119, '3697385': 1120, '9297176': 1121, '20362531': 1122, '15339522': 1123, '10670583': 1124, '8328010': 1125, '8954176': 1126, '12576880': 1127, '7582672': 1128, '8433376': 1129, '10442421': 1130, '20558780': 1131, '15874065': 1132, '7512392': 1133, '13958859': 1134, '9123520': 1135, '7137893': 1136, '14528901': 1137, '14479773': 1138, '12533932': 1139, '3472460': 1140, '13559208': 1141, '8855035': 1142, '13484820': 1143, '6550822': 1144, '11810280': 1145, '8541985': 1146, '6175783': 1147, '5839816': 1148, '11726283': 1149, '7925119': 1150, '7658809': 1151, '7579267': 1152, '9324242': 1153, '8208221': 1154, '11593878': 1155, '10767645': 1156, '7805239': 1157, '8212945': 1158, '13176501': 1159, '5663302': 1160, '11529327': 1161, '13419102': 1162, '9649958': 1163, '15301227': 1164, '7944547': 1165, '13194897': 1166, '14281161': 1167, '8156362': 1168, '3907783': 1169, '5748355': 1170, '7819999': 1171, '18644611': 1172, '15379434': 1173, '14205108': 1174, '9445682': 1175, '21220520': 1176, '12160314': 1177, '14197143': 1178, '6221839': 1179, '7784818': 1180, '11163300': 1181, '14289999': 1182, '16301498': 1183, '13964589': 1184, '8845603': 1185, '15127766': 1186, '10372011': 1187, '10182317': 1188, '6716455': 1189, '6047545': 1190, '18252017': 1191, '9657770': 1192, '6416980': 1193, '8777341': 1194, '15108767': 1195, '15181070': 1196, '2621099': 1197, '13308741': 1198, '21466708': 1199, '16044953': 1200, '14290101': 1201, '14993768': 1202, '8454790': 1203, '10212272': 1204, '20934008': 1205, '9339833': 1206, '8507998': 1207, '4709243': 1208, '5787865': 1209, '10536672': 1210, '11763204': 1211, '13889574': 1212, '11018649': 1213, '7119565': 1214, '4709291': 1215, '5659120': 1216, '8342515': 1217, '12989466': 1218, '11580846': 1219, '7866685': 1220, '13278054': 1221, '9722318': 1222, '9302579': 1223, '12377319': 1224, '11847507': 1225, '6439642': 1226, '13297554': 1227, '6581413': 1228, '14311677': 1229, '13446750': 1230, '17432447': 1231, '16475339': 1232, '10629384': 1233, '11769081': 1234, '19803136': 1235, '10642920': 1236, '9455363': 1237, '7868905': 1238, '2530664': 1239, '9659309': 1240, '15527778': 1241, '4709933': 1242, '3840952': 1243, '14438205': 1244, '15625878': 1245, '12704154': 1246, '16308743': 1247, '15305751': 1248, '6693487': 1249, '14969900': 1250, '15583416': 1251, '7794055': 1252, '3841204': 1253, '9457667': 1254, '13679430': 1255, '15303663': 1256, '8832250': 1257, '8386843': 1258, '12438432': 1259, '7678213': 1260, '2610173': 1261, '10756926': 1262, '10942305': 1263, '10830057': 1264, '5460365': 1265, '7969768': 1266, '12706503': 1267, '18507034': 1268, '6673942': 1269, '14435781': 1270, '14043861': 1271, '9071092': 1272, '8139436': 1273, '12696930': 1274, '18138986': 1275, '10144931': 1276, '10579962': 1277, '14663409': 1278, '8276566': 1279, '13367712': 1280, '6248377': 1281, '8883442': 1282, '8187740': 1283, '17039438': 1284, '17881316': 1285, '10129208': 1286, '16898733': 1287, '8222354': 1288, '7457485': 1289, '10546364': 1290, '9476321': 1291, '21446704': 1292, '6977002': 1293, '10442187': 1294, '12604260': 1295, '14540220': 1296, '6997834': 1297, '9250292': 1298, '6744127': 1299, '15530676': 1300, '13823262': 1301, '12544356': 1302, '8889085': 1303, '18800194': 1304, '7672624': 1305, '5691592': 1306, '10442382': 1307, '6093295': 1308, '7815787': 1309, '13061748': 1310, '13912977': 1311, '10242434': 1312, '12089136': 1313, '13815282': 1314, '10490130': 1315, '9494846': 1316, '15012794': 1317, '13985484': 1318, '18329927': 1319, '12009660': 1320, '19885144': 1321, '3698819': 1322, '21702793': 1323, '17535542': 1324, '12012957': 1325, '10228856': 1326, '13278087': 1327, '14519022': 1328, '14726195': 1329, '10365546': 1330, '13406166': 1331, '17218841': 1332, '11578434': 1333, '3231251': 1334, '9562427': 1335, '19680094': 1336, '11910003': 1337, '9306710': 1338, '13927119': 1339, '16311290': 1340, '4709768': 1341, '6564109': 1342, '9606878': 1343, '6403192': 1344, '7837399': 1345, '13956411': 1346, '16516127': 1347, '18201479': 1348, '13019181': 1349, '8790601': 1350, '19252546': 1351, '14282010': 1352, '6486526': 1353, '11081991': 1354, '6844813': 1355, '2528780': 1356, '12814887': 1357, '10823748': 1358, '11902524': 1359, '4013659': 1360, '7267267': 1361, '11293617': 1362, '19455922': 1363, '7959025': 1364, '8803468': 1365, '12504256': 1366, '17439818': 1367, '14756195': 1368, '15618237': 1369, '13249947': 1370, '7446232': 1371, '18891574': 1372, '15635352': 1373, '20213623': 1374, '18079955': 1375, '11039064': 1376, '4224489': 1377, '16290713': 1378, '14527239': 1379, '9197267': 1380, '13857177': 1381, '19257820': 1382, '16118090': 1383, '6521173': 1384, '7788448': 1385, '16228964': 1386, '13912836': 1387, '14388495': 1388, '14187477': 1389, '9989357': 1390, '5978305': 1391, '12120873': 1392, '10914642': 1393, '20367778': 1394, '8616910': 1395, '5850094': 1396, '9357566': 1397, '15044231': 1398, '4011967': 1399, '14154933': 1400, '12284655': 1401, '14084865': 1402, '12394107': 1403, '4344428': 1404, '11802711': 1405, '13130430': 1406, '10525572': 1407, '11570049': 1408, '14410914': 1409, '6471862': 1410, '11503587': 1411, '11793627': 1412, '11390718': 1413, '16663636': 1414, '9437405': 1415, '9439529': 1416, '6039385': 1417, '11461950': 1418, '12586496': 1419, '6257203': 1420, '9540572': 1421, '3565916': 1422, '6068677': 1423, '14759576': 1424, '12911076': 1425, '10601079': 1426, '14338065': 1427, '7978825': 1428, '3835180': 1429, '12777804': 1430, '2621171': 1431, '4120582': 1432, '13752927': 1433, '10916856': 1434, '3595470': 1435, '10394616': 1436, '13546128': 1437, '5766019': 1438, '9228251': 1439, '20452715': 1440, '10447725': 1441, '10166081': 1442, '17202641': 1443, '14528832': 1444, '8102338': 1445, '12572764': 1446, '3700343': 1447, '13458096': 1448, '7479279': 1449, '19320739': 1450, '6688372': 1451, '10952337': 1452, '18497680': 1453, '13273677': 1454, '13053216': 1455, '6799273': 1456, '7395763': 1457, '9491318': 1458, '10627839': 1459, '3977905': 1460, '15304566': 1461, '8390845': 1462, '10995417': 1463, '13967943': 1464, '13852875': 1465, '14168025': 1466, '11353785': 1467, '13578774': 1468, '13108929': 1469, '6417859': 1470, '4250613': 1471, '16235867': 1472, '16616129': 1473, '4986376': 1474, '16818406': 1475, '7836397': 1476, '8260562': 1477, '6334096': 1478, '11551677': 1479, '13881318': 1480, '19818751': 1481, '17569700': 1482, '15783381': 1483, '6513316': 1484, '3253709': 1485, '8270693': 1486, '10225337': 1487, '13000563': 1488, '12019191': 1489, '14230026': 1490, '12090057': 1491, '13764165': 1492, '8304622': 1493, '21739966': 1494, '13969410': 1495, '15543183': 1496, '11873310': 1497, '15550992': 1498, '10358265': 1499, '20611145': 1500, '9073948': 1501, '7712593': 1502, '11104428': 1503, '11026662': 1504, '3910663': 1505, '14622456': 1506, '6591784': 1507, '2621243': 1508, '7028392': 1509, '14393103': 1510, '9912611': 1511, '15406494': 1512, '15542889': 1513, '16640165': 1514, '7477011': 1515, '6399946': 1516, '14957156': 1517, '21442444': 1518, '6102106': 1519, '12193527': 1520, '18704872': 1521, '12661641': 1522, '4056607': 1523, '15017333': 1524, '8600707': 1525, '10253696': 1526, '9947387': 1527, '15518178': 1528, '14559507': 1529, '15943355': 1530, '11369328': 1531, '6355882': 1532, '15799359': 1533, '7099804': 1534, '21970378': 1535, '10854189': 1536, '8486209': 1537, '14212965': 1538, '6688234': 1539, '8392180': 1540, '9418886': 1541, '16456265': 1542, '17312309': 1543, '16326734': 1544, '3559205': 1545, '14086596': 1546, '4677737': 1547, '11938695': 1548, '11068176': 1549, '18354536': 1550, '9793799': 1551, '7145900': 1552, '13983528': 1553, '13053039': 1554, '13198722': 1555, '16792303': 1556, '14901395': 1557, '10273886': 1558, '11585601': 1559, '10674684': 1560, '10788342': 1561, '13598337': 1562, '15910851': 1563, '6271507': 1564, '18609139': 1565, '10044260': 1566, '8522185': 1567, '6003352': 1568, '16021448': 1569, '19730089': 1570, '9561569': 1571, '13873920': 1572, '17618837': 1573, '9071806': 1574, '11795310': 1575, '16176899': 1576, '13218075': 1577, '12246252': 1578, '6250126': 1579, '16118897': 1580, '8879668': 1581, '14433834': 1582, '3462005': 1583, '19771384': 1584, '2464400': 1585, '10278335': 1586, '13768314': 1587, '15248274': 1588, '8886232': 1589, '16301441': 1590, '10490655': 1591, '14700570': 1592, '8925757': 1593, '18901090': 1594, '21640723': 1595, '13757022': 1596, '3537557': 1597, '15343506': 1598, '15468636': 1599, '9394070': 1600, '14250087': 1601, '13081419': 1602, '3795913': 1603, '13340430': 1604, '11726196': 1605, '13777767': 1606, '8570383': 1607, '3794290': 1608, '12665313': 1609, '13904244': 1610, '8141744': 1611, '14268636': 1612, '10746867': 1613, '16180352': 1614, '14058963': 1615, '19801570': 1616, '12705132': 1617, '15543021': 1618, '9189650': 1619, '18648472': 1620, '4191411': 1621, '16693168': 1622, '14530677': 1623, '13933545': 1624, '11155977': 1625, '20728484': 1626, '8670070': 1627, '18727597': 1628, '14719556': 1629, '8022847': 1630, '14561712': 1631, '13113654': 1632, '6261436': 1633, '8453734': 1634, '18693043': 1635, '11207694': 1636, '10220234': 1637, '9393083': 1638, '11034270': 1639, '13864137': 1640, '7788274': 1641, '7257565': 1642, '13989681': 1643, '19000612': 1644, '7938997': 1645, '11849580': 1646, '8134591': 1647, '15543108': 1648, '9094648': 1649, '15899331': 1650, '17626700': 1651, '14711336': 1652, '14482521': 1653, '7107094': 1654, '21862429': 1655, '11603625': 1656, '16192283': 1657, '12793221': 1658, '13986417': 1659, '12851262': 1660, '18270440': 1661, '9052729': 1662, '13202058': 1663, '10471035': 1664, '6280447': 1665, '17685512': 1666, '14659056': 1667, '6132923': 1668, '13661856': 1669, '20297356': 1670, '10928538': 1671, '11103651': 1672, '20321743': 1673, '19480075': 1674, '12658719': 1675, '8421748': 1676, '7950301': 1677, '8173858': 1678, '7945903': 1679, '14726750': 1680, '13227660': 1681, '20662628': 1682, '10041215': 1683, '7958539': 1684, '6975271': 1685, '6402721': 1686, '10383150': 1687, '5443337': 1688, '11039670': 1689, '17082950': 1690, '10932894': 1691, '16356812': 1692, '6252673': 1693, '14490888': 1694, '8102575': 1695, '10850760': 1696, '17004147': 1697, '9280235': 1698, '17083223': 1699, '7492005': 1700, '15002051': 1701, '7181480': 1702, '10336553': 1703, '16304357': 1704, '5981890': 1705, '10228565': 1706, '9635471': 1707, '3347102': 1708, '13891392': 1709, '8455420': 1710, '13939107': 1711, '3522086': 1712, '6706162': 1713, '3792499': 1714, '10130303': 1715, '13914315': 1716, '21201308': 1717, '9973409': 1718, '7662691': 1719, '12822441': 1720, '3460553': 1721, '10955202': 1722, '13266603': 1723, '15811668': 1724, '9392762': 1725, '18031568': 1726, '10551976': 1727, '13982793': 1728, '14917170': 1729, '9378767': 1730, '15543327': 1731, '16432244': 1732, '15899292': 1733, '7964044': 1734, '15447144': 1735, '16804156': 1736, '13890531': 1737, '10504002': 1738, '15421494': 1739, '20179228': 1740, '16573955': 1741, '11257605': 1742, '14543976': 1743, '18903259': 1744, '13884450': 1745, '14134356': 1746, '16534283': 1747, '8792551': 1748, '7096972': 1749, '5758966': 1750, '14991101': 1751, '12696684': 1752, '14528766': 1753, '15569661': 1754, '16545392': 1755, '14142462': 1756, '11344497': 1757, '3812740': 1758, '7799905': 1759, '11288628': 1760, '18526600': 1761, '13766397': 1762, '10477527': 1763, '19376941': 1764, '13866372': 1765, '13356393': 1766, '12542272': 1767, '8416126': 1768, '21471340': 1769, '11463645': 1770, '6123226': 1771, '14762171': 1772, '13700346': 1773, '11265918': 1774, '14827668': 1775, '13967031': 1776, '8494711': 1777, '18704425': 1778, '13133583': 1779, '13208661': 1780, '14691702': 1781, '9237746': 1782, '19870624': 1783, '9401120': 1784, '17200718': 1785, '9677861': 1786, '12104829': 1787, '9936212': 1788, '8308342': 1789, '13651203': 1790, '13671339': 1791, '4986316': 1792, '10932750': 1793, '8129825': 1794, '5615914': 1795, '10670853': 1796, '13553283': 1797, '7029334': 1798, '16801285': 1799, '11758140': 1800, '13800393': 1801, '7267858': 1802, '11202885': 1803, '12463200': 1804, '14673669': 1805, '3677880': 1806, '15899178': 1807, '19364821': 1808, '9262769': 1809, '15761166': 1810, '12126702': 1811, '2743466': 1812, '11435652': 1813, '17062406': 1814, '15593385': 1815, '13832964': 1816, '18629500': 1817, '14541798': 1818, '16346777': 1819, '12503632': 1820, '7983919': 1821, '8721397': 1822, '10419585': 1823, '21496054': 1824, '3926068': 1825, '7120474': 1826, '8298761': 1827, '10507974': 1828, '9638699': 1829, '12667914': 1830, '13354758': 1831, '12398241': 1832, '12703203': 1833, '15320436': 1834, '15551340': 1835, '10750068': 1836, '11735124': 1837, '21095825': 1838, '3792697': 1839, '11783829': 1840, '13497276': 1841, '6340114': 1842, '16482560': 1843, '12639033': 1844, '12135291': 1845, '18616048': 1846, '19425517': 1847, '10766535': 1848, '7841362': 1849, '18677773': 1850, '4508334': 1851, '8722624': 1852, '14734715': 1853, '17992547': 1854, '13913226': 1855, '14422209': 1856, '14109480': 1857, '18511486': 1858, '13001007': 1859, '4300818': 1860, '6605374': 1861, '14565072': 1862, '12326862': 1863, '13567632': 1864, '13273389': 1865, '5478383': 1866, '13416276': 1867, '20814329': 1868, '21088982': 1869, '10776183': 1870, '15213872': 1871, '16612295': 1872, '18489793': 1873, '3371864': 1874, '8685847': 1875, '13769649': 1876, '10518813': 1877, '2585540': 1878, '19047748': 1879, '21115937': 1880, '13923585': 1881, '15551238': 1882, '16170626': 1883, '13922652': 1884, '6777895': 1885, '19771441': 1886, '9589754': 1887, '13327965': 1888, '6348772': 1889, '14333139': 1890, '10665972': 1891, '9438359': 1892, '15543699': 1893, '14661576': 1894, '16364108': 1895, '8865775': 1896, '16796020': 1897, '16795402': 1898, '8877268': 1899, '13457664': 1900, '3568226': 1901, '14193219': 1902, '6530383': 1903, '10583751': 1904, '17807075': 1905, '15320517': 1906, '11909703': 1907, '16350872': 1908, '20140180': 1909, '10501704': 1910, '15543243': 1911, '10731444': 1912, '8718832': 1913, '10888281': 1914, '17264021': 1915, '13918539': 1916, '4986262': 1917, '13860132': 1918, '8575762': 1919, '17434322': 1920, '14267322': 1921, '11336985': 1922, '9400058': 1923, '12356343': 1924, '13964358': 1925, '6644929': 1926, '3734614': 1927, '12222903': 1928, '21395149': 1929, '13415271': 1930, '8791639': 1931, '11573667': 1932, '10928505': 1933, '15830478': 1934, '18654532': 1935, '4345916': 1936, '13950837': 1937, '5972041': 1938, '18639742': 1939, '10620585': 1940, '13992294': 1941, '11584194': 1942, '12665337': 1943, '16126403': 1944, '11016588': 1945, '13746690': 1946, '3595347': 1947, '11783862': 1948, '14516325': 1949, '10709238': 1950, '15027536': 1951, '7965031': 1952, '9642017': 1953, '18458210': 1954, '8167111': 1955, '14509860': 1956, '13882554': 1957, '7651429': 1958, '10967280': 1959, '12801876': 1960, '8063488': 1961, '5379608': 1962, '13967313': 1963, '10342869': 1964, '9402506': 1965, '15925463': 1966, '11001177': 1967, '15858195': 1968, '10668510': 1969, '15237729': 1970, '14953560': 1971, '11538447': 1972, '7673383': 1973, '21907324': 1974, '9795455': 1975, '8953582': 1976, '10179302': 1977, '14853390': 1978, '7974829': 1979, '10808391': 1980, '5311091': 1981, '15543381': 1982, '10764615': 1983, '8523718': 1984, '13768017': 1985, '15543450': 1986, '8807899': 1987, '14096181': 1988, '15939053': 1989, '11699577': 1990, '12382821': 1991, '9549821': 1992, '20179681': 1993, '4587147': 1994, '14817425': 1995, '10564977': 1996, '14242467': 1997, '12915399': 1998, '8874565': 1999, '21214199': 2000, '11554473': 2001, '3799825': 2002, '6212863': 2003, '10799757': 2004, '19718215': 2005, '16387655': 2006, '11456862': 2007, '17504063': 2008, '9114970': 2009, '5831569': 2010, '20128231': 2011, '19329181': 2012, '17475122': 2013, '6214780': 2014, '6845386': 2015, '5530760': 2016, '9258614': 2017, '17466968': 2018, '12232137': 2019, '14359824': 2020, '14416080': 2021, '7459659': 2022, '11908944': 2023, '13586334': 2024, '4281318': 2025, '7979506': 2026, '10771521': 2027, '15697818': 2028, '11714790': 2029, '8210144': 2030, '17950163': 2031, '16475135': 2032, '7585390': 2033, '8385418': 2034, '14097327': 2035, '14085450': 2036, '21386890': 2037, '17755871': 2038, '13689018': 2039, '11729331': 2040, '12222936': 2041, '11350842': 2042, '12684330': 2043, '12696564': 2044, '7947193': 2045, '3552095': 2046, '16744813': 2047, '18344321': 2048, '15662646': 2049, '10964160': 2050, '14692740': 2051, '5786008': 2052, '7043698': 2053, '16303451': 2054, '4248567': 2055, '18370850': 2056, '4248600': 2057, '13767177': 2058, '11863584': 2059, '14091084': 2060, '8185345': 2061, '12060087': 2062, '14394372': 2063, '14275140': 2064, '16644416': 2065, '12456496': 2066, '14580378': 2067, '21641797': 2068, '3780991': 2069, '15287574': 2070, '11730684': 2071, '14803286': 2072, '17328977': 2073, '11191857': 2074, '10193231': 2075, '15736776': 2076, '7238344': 2077, '13284891': 2078, '8124106': 2079, '12775536': 2080, '17359016': 2081, '10003226': 2082, '10928298': 2083, '13964391': 2084, '10075082': 2085, '15543600': 2086, '14746067': 2087, '14895609': 2088, '14393880': 2089, '15888561': 2090, '8389762': 2091, '18687577': 2092, '13579797': 2093, '6769654': 2094, '12501168': 2095, '20391235': 2096, '13829049': 2097, '14396070': 2098, '20399839': 2099, '10552902': 2100, '20579009': 2101, '16118144': 2102, '14123376': 2103, '9574664': 2104, '12769428': 2105, '15513732': 2106, '8596579': 2107, '5739235': 2108, '14052462': 2109, '13470831': 2110, '6693100': 2111, '18749980': 2112, '8220275': 2113, '5832982': 2114, '7897039': 2115, '10326311': 2116, '13584096': 2117, '11917734': 2118, '13998123': 2119, '4717067': 2120, '11233563': 2121, '13639761': 2122, '14777436': 2123, '10070660': 2124, '21600685': 2125, '17664416': 2126, '11792307': 2127, '15716091': 2128, '12958869': 2129, '6746773': 2130, '7873807': 2131, '16483262': 2132, '15899349': 2133, '17704733': 2134, '14204640': 2135, '13477092': 2136, '20942612': 2137, '13638216': 2138, '14914829': 2139, '17178884': 2140, '21333985': 2141, '14707140': 2142, '13762677': 2143, '12258495': 2144, '15828192': 2145, '14008101': 2146, '7637077': 2147, '16803253': 2148, '10905903': 2149, '10102307': 2150, '6419755': 2151, '12838158': 2152, '14095770': 2153, '10652580': 2154, '15418839': 2155, '16312628': 2156, '11074896': 2157, '16307819': 2158, '16457948': 2159, '9594116': 2160, '13757712': 2161, '17684765': 2162, '16302146': 2163, '13853805': 2164, '13435191': 2165, '11377719': 2166, '16635068': 2167, '12954963': 2168, '12041133': 2169, '12612044': 2170, '10755942': 2171, '6807289': 2172, '17986316': 2173, '5692057': 2174, '9615200': 2175, '21128153': 2176, '17649107': 2177, '15426783': 2178, '7669120': 2179, '6757381': 2180, '3610197': 2181, '17648828': 2182, '10515387': 2183, '11351703': 2184, '11612052': 2185, '13862850': 2186, '16668619': 2187, '10860036': 2188, '15126443': 2189, '17445980': 2190, '16081388': 2191, '11057802': 2192, '18325571': 2193, '12711453': 2194, '16883958': 2195, '14971625': 2196, '20509019': 2197, '19871326': 2198, '15848667': 2199, '16185083': 2200, '11997396': 2201, '13766061': 2202, '15551166': 2203, '10525404': 2204, '13382580': 2205, '20388496': 2206, '7672579': 2207, '4455158': 2208, '6465658': 2209, '9311582': 2210, '10250996': 2211, '14517879': 2212, '12173232': 2213, '18689266': 2214, '15543510': 2215, '13503531': 2216, '16796575': 2217, '13639491': 2218, '4452929': 2219, '13030344': 2220, '6362923': 2221, '11622552': 2222, '10557828': 2223, '16211369': 2224, '13894659': 2225, '13103310': 2226, '14231319': 2227, '6179443': 2228, '17631302': 2229, '13878678': 2230, '14030178': 2231, '21107108': 2232, '16402145': 2233, '20938211': 2234, '8478538': 2235, '10959093': 2236, '13957902': 2237, '12137436': 2238, '13621764': 2239, '9094798': 2240, '12872139': 2241, '16474322': 2242, '6596887': 2243, '21221564': 2244, '13375749': 2245, '14210085': 2246, '10128338': 2247, '17652998': 2248, '18336278': 2249, '10024301': 2250, '5733028': 2251, '12916434': 2252, '10327208': 2253, '18400337': 2254, '12443187': 2255, '15596415': 2256, '14204577': 2257, '13610781': 2258, '14409600': 2259, '13210923': 2260, '9667100': 2261, '9288440': 2262, '13485345': 2263, '16628447': 2264, '11184777': 2265, '6130576': 2266, '12739911': 2267, '21333730': 2268, '6254950': 2269, '12576788': 2270, '14803445': 2271, '6359926': 2272, '13402263': 2273, '18747529': 2274, '13758933': 2275, '15065231': 2276, '11161467': 2277, '16237532': 2278, '19170541': 2279, '13941537': 2280, '8180018': 2281, '13567407': 2282, '6862588': 2283, '15902307': 2284, '18187826': 2285, '4740113': 2286, '14488320': 2287, '12161856': 2288, '13841544': 2289, '16265693': 2290, '11793864': 2291, '13743381': 2292, '17525510': 2293, '10644453': 2294, '16972575': 2295, '10618953': 2296, '21556693': 2297, '18922663': 2298, '14238054': 2299, '4348436': 2300, '3484784': 2301, '15341337': 2302, '10821177': 2303, '12177021': 2304, '20856905': 2305, '16350275': 2306, '13822806': 2307, '9520124': 2308, '7145090': 2309, '14878064': 2310, '11697534': 2311, '14242674': 2312, '20872613': 2313, '14085693': 2314, '10559580': 2315, '13321767': 2316, '17448182': 2317, '16142090': 2318, '12752532': 2319, '20882327': 2320, '9862820': 2321, '12877575': 2322, '16438508': 2323, '15551112': 2324, '10861044': 2325, '13755807': 2326, '16711438': 2327, '9520802': 2328, '11783799': 2329, '13626144': 2330, '21785362': 2331, '12959736': 2332, '14252595': 2333, '16403870': 2334, '9262574': 2335, '13940835': 2336, '17313056': 2337, '21267005': 2338, '6758920': 2339, '5189402': 2340, '5472461': 2341, '10864722': 2342, '16291613': 2343, '10950135': 2344, '12764922': 2345, '12168291': 2346, '14957483': 2347, '16449992': 2348, '16501427': 2349, '13770141': 2350, '14098098': 2351, '14013495': 2352, '12525016': 2353, '11941935': 2354, '7445980': 2355, '10770057': 2356, '12138282': 2357, '17226998': 2358, '14705897': 2359, '15616893': 2360, '21025571': 2361, '10056353': 2362, '9209324': 2363, '8354851': 2364, '15996140': 2365, '16358441': 2366, '12381846': 2367, '6137941': 2368, '16519385': 2369, '9778955': 2370, '10442547': 2371, '14271663': 2372, '12521336': 2373, '14605806': 2374, '3781315': 2375, '21600148': 2376, '12598884': 2377, '21121034': 2378, '13699212': 2379, '9322415': 2380, '14404800': 2381, '11974197': 2382, '12084096': 2383, '16472489': 2384, '17355614': 2385, '18220424': 2386, '15311550': 2387, '20955914': 2388, '6465964': 2389, '18134531': 2390, '9791855': 2391, '16457498': 2392, '12811038': 2393, '6437368': 2394, '9567719': 2395, '3713773': 2396, '7514455': 2397, '13266795': 2398, '18116396': 2399, '13550130': 2400, '12153723': 2401, '14449278': 2402, '11977593': 2403, '12752058': 2404, '18486919': 2405, '12982092': 2406, '18189575': 2407, '13397820': 2408, '20506760': 2409, '16795777': 2410, '8638621': 2411, '9438344': 2412, '3793087': 2413, '20319121': 2414, '8228458': 2415, '5628361': 2416, '17151758': 2417, '17974562': 2418, '6824209': 2419, '14332629': 2420, '20484065': 2421, '14164683': 2422, '17879075': 2423, '14531925': 2424, '14298489': 2425, '17677022': 2426, '14724446': 2427, '13823205': 2428, '18909571': 2429, '12302961': 2430, '14197671': 2431, '6604825': 2432, '15478203': 2433, '9193811': 2434, '18528565': 2435, '13184106': 2436, '18327134': 2437, '13952553': 2438, '13318086': 2439, '5820835': 2440, '16799341': 2441, '16302371': 2442, '21139736': 2443, '6652822': 2444, '4476827': 2445, '5492165': 2446, '16796725': 2447, '14662626': 2448, '4265847': 2449, '5688607': 2450, '17199008': 2451, '14540346': 2452, '14818973': 2453, '14829707': 2454, '13060947': 2455, '10814958': 2456, '5538692': 2457, '16365101': 2458, '4959778': 2459, '8758351': 2460, '18919405': 2461, '11066112': 2462, '15074411': 2463, '9224504': 2464, '9392708': 2465, '13807731': 2466, '13997052': 2467, '12198033': 2468, '16564853': 2469, '18634774': 2470, '14532729': 2471, '10777248': 2472, '21625141': 2473, '4248630': 2474, '16118441': 2475, '6438301': 2476, '14145456': 2477, '12188961': 2478, '21770905': 2479, '3557048': 2480, '14535642': 2481, '10481058': 2482, '15280215': 2483, '10825356': 2484, '20478278': 2485, '8976649': 2486, '8149255': 2487, '8598214': 2488, '9114922': 2489, '14394213': 2490, '15958133': 2491, '8238580': 2492, '13782687': 2493, '13884408': 2494, '12463068': 2495, '12090369': 2496, '6604912': 2497, '15101819': 2498, '16820512': 2499, '8084314': 2500, '20164312': 2501, '19862617': 2502, '10612935': 2503, '13343421': 2504, '19223710': 2505, '17790500': 2506, '11716872': 2507, '5008312': 2508, '12892617': 2509, '16471811': 2510, '15118412': 2511, '20133139': 2512, '10747710': 2513, '20250595': 2514, '12552312': 2515, '11685903': 2516, '9294500': 2517, '21329923': 2518, '20427245': 2519, '12706089': 2520, '14412657': 2521, '3464240': 2522, '13695861': 2523, '14499675': 2524, '12163674': 2525, '15924143': 2526, '20734466': 2527, '12654162': 2528, '19905658': 2529, '14727650': 2530, '12882888': 2531, '16412186': 2532, '11844912': 2533, '11738667': 2534, '9133441': 2535, '8516206': 2536, '11795346': 2537, '20484686': 2538, '5924287': 2539, '18351989': 2540, '12555528': 2541, '15905100': 2542, '12948981': 2543, '7327621': 2544, '17686199': 2545, '21364891': 2546, '11122770': 2547, '21641083': 2548, '15889167': 2549, '12824838': 2550, '16229861': 2551, '15311739': 2552, '17276645': 2553, '13225620': 2554, '14229927': 2555, '13789632': 2556, '18712576': 2557, '18601450': 2558, '13569744': 2559, '15454965': 2560, '14571591': 2561, '16065293': 2562, '18552814': 2563, '17308412': 2564, '7395256': 2565, '19173055': 2566, '11003238': 2567, '10653432': 2568, '2420015': 2569, '16482686': 2570, '15887871': 2571, '18797041': 2572, '17383943': 2573, '14579205': 2574, '12740565': 2575, '9057991': 2576, '13241082': 2577, '12274503': 2578, '15822342': 2579, '14082000': 2580, '9510116': 2581, '11326635': 2582, '18810727': 2583, '12156969': 2584, '13664391': 2585, '13340010': 2586, '14859026': 2587, '15936788': 2588, '14495193': 2589, '18753382': 2590, '13985088': 2591, '21717853': 2592, '20132554': 2593, '5345099': 2594, '13762779': 2595, '13475052': 2596, '6561964': 2597, '14799090': 2598, '12005484': 2599, '8124271': 2600, '12375048': 2601, '18707185': 2602, '9234140': 2603, '12529928': 2604, '20789894': 2605, '17801393': 2606, '18495571': 2607, '10911402': 2608, '21063314': 2609, '21536989': 2610, '13930536': 2611, '6942559': 2612, '18608806': 2613, '19005679': 2614, '15899124': 2615, '19203355': 2616, '10703883': 2617, '10877925': 2618, '15074003': 2619, '12707952': 2620, '11059950': 2621, '8098543': 2622, '12673302': 2623, '10241300': 2624, '11553390': 2625, '8807437': 2626, '15699234': 2627, '2648852': 2628, '6163366': 2629, '18784030': 2630, '21198452': 2631, '11107971': 2632, '18626611': 2633, '9127804': 2634, '5632867': 2635, '8880736': 2636, '14599542': 2637, '15843846': 2638, '20074468': 2639, '13750005': 2640, '13428345': 2641, '11835063': 2642, '10646547': 2643, '7281469': 2644, '14726423': 2645, '10683381': 2646, '13557498': 2647, '9494198': 2648, '7743148': 2649, '9203087': 2650, '3793003': 2651, '16775671': 2652, '18651805': 2653, '21620065': 2654, '10756683': 2655, '6941869': 2656, '20651504': 2657, '12709629': 2658, '12247614': 2659, '17684993': 2660, '21940588': 2661, '14530155': 2662, '15291546': 2663, '13430502': 2664, '16925220': 2665, '9510380': 2666, '17649197': 2667, '8210273': 2668, '14293773': 2669, '5713507': 2670, '14106060': 2671, '20944994': 2672, '21916522': 2673, '10753926': 2674, '15645792': 2675, '16487561': 2676, '19154899': 2677, '11604411': 2678, '14687529': 2679, '15688815': 2680, '20713745': 2681, '12151575': 2682, '21038027': 2683, '4248543': 2684, '13781400': 2685, '6760480': 2686, '13755474': 2687, '13345707': 2688, '21676474': 2689, '20884100': 2690, '10751964': 2691, '14058873': 2692, '12628776': 2693, '10672944': 2694, '6065728': 2695, '7993672': 2696, '13986522': 2697, '13345785': 2698, '15446802': 2699, '20233537': 2700, '14579316': 2701, '19098565': 2702, '16447694': 2703, '20302687': 2704, '16472288': 2705, '16978956': 2706, '12744645': 2707, '18258788': 2708, '13731861': 2709, '18294689': 2710, '8312089': 2711, '20912996': 2712, '17276825': 2713, '20956598': 2714, '20880530': 2715, '13989825': 2716, '9589577': 2717, '17631347': 2718, '15822912': 2719, '4362860': 2720, '10800717': 2721, '15484878': 2722, '9197222': 2723, '18539413': 2724, '9250676': 2725, '14171097': 2726, '12183063': 2727, '10203140': 2728, '17009136': 2729, '5842387': 2730, '14534100': 2731, '14087292': 2732, '10775586': 2733, '17486654': 2734, '11671689': 2735, '20585027': 2736, '5820679': 2737, '13555368': 2738, '11368137': 2739, '11370537': 2740, '10337658': 2741, '20330026': 2742, '21560074': 2743, '16236326': 2744, '14534439': 2745, '8550478': 2746, '10801008': 2747, '10441989': 2748, '12666594': 2749, '8916319': 2750, '7109845': 2751, '14446311': 2752, '8054092': 2753, '18215492': 2754, '13157739': 2755, '4919296': 2756, '16081430': 2757, '19800733': 2758, '7321438': 2759, '13658463': 2760, '16332452': 2761, '12715170': 2762, '8541295': 2763, '13824711': 2764, '18722689': 2765, '21002030': 2766, '12835101': 2767, '8691778': 2768, '18012191': 2769, '19476841': 2770, '9542246': 2771, '9537575': 2772, '4079518': 2773, '12031938': 2774, '20565701': 2775, '6249532': 2776, '17793164': 2777, '7734649': 2778, '12843522': 2779, '10614360': 2780, '12180420': 2781, '20317705': 2782, '18610003': 2783, '9945650': 2784, '16312766': 2785, '17173709': 2786, '20501051': 2787, '4248651': 2788, '14159253': 2789, '18025043': 2790, '17142482': 2791, '5172215': 2792, '12761226': 2793, '17246597': 2794, '17485322': 2795, '13127520': 2796, '16447220': 2797, '18361484': 2798, '12631638': 2799, '16469168': 2800, '15891855': 2801, '8234362': 2802, '10321349': 2803, '20892275': 2804, '10380288': 2805, '8298622': 2806, '9870356': 2807, '8037832': 2808, '20873423': 2809, '14265018': 2810, '8259842': 2811, '15636180': 2812, '16251836': 2813, '17398589': 2814, '9331358': 2815, '11784003': 2816, '21553207': 2817, '10379160': 2818, '4467005': 2819, '8538964': 2820, '14033568': 2821, '13187991': 2822, '3814648': 2823, '13577211': 2824, '13978911': 2825, '21894724': 2826, '5947734': 2827, '18681670': 2828, '7823626': 2829, '17567909': 2830, '5793802': 2831, '15554025': 2832, '2420138': 2833, '14536731': 2834, '8339626': 2835, '19203946': 2836, '18022406': 2837, '14485227': 2838, '18832492': 2839, '11001918': 2840, '13577811': 2841, '18640006': 2842, '17779511': 2843, '13969722': 2844, '21348574': 2845, '21398281': 2846, '16591847': 2847, '16178357': 2848, '16669513': 2849, '10741503': 2850, '13819614': 2851, '10633215': 2852, '11571354': 2853, '9829682': 2854, '11871210': 2855, '13516479': 2856, '9660284': 2857, '8539855': 2858, '17624660': 2859, '14458701': 2860, '9949844': 2861, '12335187': 2862, '14128539': 2863, '21775285': 2864, '6130138': 2865, '8880604': 2866, '4379129': 2867, '20279224': 2868, '18714430': 2869, '18703327': 2870, '10554076': 2871, '7295275': 2872, '12022653': 2873, '17698655': 2874, '14024235': 2875, '20848124': 2876, '18263579': 2877, '15899247': 2878, '8362948': 2879, '12696405': 2880, '9286652': 2881, '10582251': 2882, '16109057': 2883, '13346109': 2884, '16179029': 2885, '8124484': 2886, '13214754': 2887, '13844043': 2888, '18436145': 2889, '9204920': 2890, '9219902': 2891, '8784541': 2892, '16333103': 2893, '13442100': 2894, '5201312': 2895, '16830172': 2896, '5182364': 2897, '15666594': 2898, '12448089': 2899, '9422135': 2900, '12937035': 2901, '6098461': 2902, '6785257': 2903, '7790887': 2904, '11050776': 2905, '18234431': 2906, '8436982': 2907, '9373544': 2908, '20399035': 2909, '8073490': 2910, '10648734': 2911, '9368609': 2912, '16722906': 2913, '21928933': 2914, '16501457': 2915, '19800388': 2916, '21386536': 2917, '18726481': 2918, '11544399': 2919, '14244942': 2920, '8576368': 2921, '14450178': 2922, '16101128': 2923, '12834894': 2924, '17827652': 2925, '21288911': 2926, '10926735': 2927, '14841930': 2928, '17902601': 2929, '21535501': 2930, '16290098': 2931, '9589208': 2932, '15420570': 2933, '13902681': 2934, '20362099': 2935, '9849422': 2936, '3892726': 2937, '21222809': 2938, '17765957': 2939, '5854330': 2940, '11692857': 2941, '19810774': 2942, '21556567': 2943, '2409431': 2944, '8756629': 2945, '10053419': 2946, '8361697': 2947, '15602778': 2948, '8241412': 2949, '16645469': 2950, '18403070': 2951, '7801879': 2952, '9234182': 2953, '9251585': 2954, '14746736': 2955, '12789147': 2956, '8145884': 2957, '16622768': 2958, '18173459': 2959, '6823456': 2960, '9469238': 2961, '3792895': 2962, '14012433': 2963, '20569190': 2964, '9051757': 2965, '3840832': 2966, '13500810': 2967, '18822736': 2968, '15810285': 2969, '19927546': 2970, '13747647': 2971, '14898755': 2972, '13404246': 2973, '10202888': 2974, '12747123': 2975, '15934496': 2976, '6766645': 2977, '13993611': 2978, '18372581': 2979, '3831688': 2980, '19046017': 2981, '13504473': 2982, '21798391': 2983, '13703667': 2984, '6152353': 2985, '7970815': 2986, '17321201': 2987, '14196399': 2988, '16463663': 2989, '14572359': 2990, '14746676': 2991, '18740860': 2992, '20487410': 2993, '10898859': 2994, '9575288': 2995, '8762419': 2996, '12301608': 2997, '13904631': 2998, '12146415': 2999, '21876979': 3000, '18196115': 3001, '16303058': 3002, '21173414': 3003, '6466003': 3004, '16204700': 3005, '18798376': 3006, '20938592': 3007, '10646361': 3008, '11550531': 3009, '17208635': 3010, '21126713': 3011, '8200546': 3012, '10422630': 3013, '13170363': 3014, '7598701': 3015, '8881141': 3016, '13750110': 3017, '8827714': 3018, '5987770': 3019, '11612655': 3020, '5691643': 3021, '12077466': 3022, '16287548': 3023, '9094966': 3024, '7117813': 3025, '5552333': 3026, '12780786': 3027, '18918505': 3028, '14805866': 3029, '21874729': 3030, '15830115': 3031, '6459088': 3032, '18550546': 3033, '11722152': 3034, '12767181': 3035, '8758762': 3036, '17145992': 3037, '17673284': 3038, '21844150': 3039, '17493683': 3040, '9102772': 3041, '16447505': 3042, '16211411': 3043, '16552937': 3044, '21564607': 3045, '13693599': 3046, '14501727': 3047, '12836517': 3048, '12198663': 3049, '10093154': 3050, '14942423': 3051, '8304194': 3052, '11166498': 3053, '16374041': 3054, '14255850': 3055, '8848222': 3056, '11371407': 3057, '13822689': 3058, '16788223': 3059, '8570296': 3060, '18928321': 3061, '16164743': 3062, '13926627': 3063, '11784027': 3064, '14126472': 3065, '20401267': 3066, '12270111': 3067, '16421747': 3068, '15371676': 3069, '13729707': 3070, '11486160': 3071, '16624985': 3072, '19416637': 3073, '19060288': 3074, '21038495': 3075, '8478454': 3076, '9176566': 3077, '14207238': 3078, '14247006': 3079, '19799296': 3080, '9324452': 3081, '12696474': 3082, '18194597': 3083, '13466715': 3084, '13099347': 3085, '18554635': 3086, '17159471': 3087, '13913841': 3088, '8906650': 3089, '21655414': 3090, '11020437': 3091, '14380434': 3092, '17275835': 3093, '13313958': 3094, '19043683': 3095, '5223947': 3096, '14198850': 3097, '19737919': 3098, '15973052': 3099, '12029751': 3100, '11001864': 3101, '18769981': 3102, '11833995': 3103, '14806542': 3104, '16645235': 3105, '11189076': 3106, '9861107': 3107, '12073041': 3108, '8111692': 3109, '16824256': 3110, '12161757': 3111, '12671664': 3112, '16186580': 3113, '9789296': 3114, '16395800': 3115, '14014719': 3116, '18723376': 3117, '13708566': 3118, '12820287': 3119, '14691431': 3120, '19423846': 3121, '14414157': 3122, '13753236': 3123, '12362073': 3124, '11907600': 3125, '17045279': 3126, '9127567': 3127, '19096780': 3128, '10202828': 3129, '14951774': 3130, '6044598': 3131, '21843406': 3132, '8596459': 3133, '8869564': 3134, '21613021': 3135, '15255459': 3136, '11965569': 3137, '17028885': 3138, '15109613': 3139, '17858624': 3140, '6001651': 3141, '19220431': 3142, '18529714': 3143, '17952059': 3144, '10129100': 3145, '10598403': 3146, '13688469': 3147, '19853905': 3148, '17937878': 3149, '5204771': 3150, '18688519': 3151, '8289325': 3152, '19016542': 3153, '11154549': 3154, '13743420': 3155, '10314179': 3156, '14700000': 3157, '21076175': 3158, '14829557': 3159, '12243405': 3160, '18003959': 3161, '10993677': 3162, '18217670': 3163, '21578065': 3164, '8586523': 3165, '13178004': 3166, '14179608': 3167, '11418702': 3168, '20818178': 3169, '16984659': 3170, '18225965': 3171, '13580106': 3172, '16441121': 3173, '19057405': 3174, '19151341': 3175, '7980622': 3176, '15918486': 3177, '15461856': 3178, '12190644': 3179, '18043124': 3180, '18707929': 3181, '21670078': 3182, '14917466': 3183, '18503770': 3184, '7948396': 3185, '13006962': 3186, '20930639': 3187, '17456693': 3188, '16031516': 3189, '14960007': 3190, '7122322': 3191, '16239212': 3192, '8673595': 3193, '13580514': 3194, '11051361': 3195, '7965598': 3196, '10129337': 3197, '9925427': 3198, '14379831': 3199, '16310891': 3200, '20575295': 3201, '18386798': 3202, '17767322': 3203, '15733629': 3204, '9432644': 3205, '13839708': 3206, '21086873': 3207, '16238027': 3208, '19887358': 3209, '8833204': 3210, '17587250': 3211, '10430151': 3212, '9526385': 3213, '13625172': 3214, '4457921': 3215, '16361162': 3216, '12245139': 3217, '20320369': 3218, '21858802': 3219, '10153937': 3220, '13932909': 3221, '16211432': 3222, '14250846': 3223, '18757756': 3224, '14104029': 3225, '8810719': 3226, '10040465': 3227, '14996552': 3228, '13832415': 3229, '7057354': 3230, '12696537': 3231, '14536533': 3232, '15641673': 3233, '21576892': 3234, '20001226': 3235, '10636734': 3236, '15624246': 3237, '9572771': 3238, '15526098': 3239, '20584388': 3240, '14855519': 3241, '20026942': 3242, '14091498': 3243, '4091698': 3244, '11146107': 3245, '14235651': 3246, '21196571': 3247, '18293051': 3248, '20539016': 3249, '2420195': 3250, '8250062': 3251, '16229489': 3252, '10621035': 3253, '16721718': 3254, '12601728': 3255, '20440175': 3256, '14026830': 3257, '11060322': 3258, '18805588': 3259, '4329390': 3260, '19989352': 3261, '11999169': 3262, '9260672': 3263, '16365638': 3264, '18719728': 3265, '7760086': 3266, '8757988': 3267, '16447031': 3268, '13749510': 3269, '18320417': 3270, '16235330': 3271, '13453230': 3272, '9392813': 3273, '12293013': 3274, '6537100': 3275, '14023197': 3276, '20201158': 3277, '20590973': 3278, '13189743': 3279, '19266160': 3280, '19906762': 3281, '18104222': 3282, '9714779': 3283, '15305349': 3284, '21987499': 3285, '12092400': 3286, '14393898': 3287, '9402281': 3288, '17881184': 3289, '18523630': 3290, '13414251': 3291, '8888275': 3292, '19250791': 3293, '16264325': 3294, '10508676': 3295, '16447319': 3296, '15800784': 3297, '18522538': 3298, '17954420': 3299, '19151611': 3300, '13537902': 3301, '20581175': 3302, '18652186': 3303, '11751702': 3304, '19666027': 3305, '21833284': 3306, '9589325': 3307, '18120353': 3308, '21809395': 3309, '20978705': 3310, '14876714': 3311, '16050389': 3312, '18573697': 3313, '17348450': 3314, '18689503': 3315, '13133841': 3316, '12665307': 3317, '13120671': 3318, '10030883': 3319, '20610965': 3320, '6461950': 3321, '9769184': 3322, '19059295': 3323, '21221627': 3324, '21567976': 3325, '10201724': 3326, '16422953': 3327, '14482461': 3328, '18679507': 3329, '16482200': 3330, '10616550': 3331, '11083545': 3332, '21600007': 3333, '19220818': 3334, '13953393': 3335, '13441914': 3336, '21258854': 3337, '14883950': 3338, '12815937': 3339, '12293352': 3340, '12645279': 3341, '11454144': 3342, '16178969': 3343, '11089395': 3344, '13864068': 3345, '4121292': 3346, '13818237': 3347, '17455868': 3348, '17800094': 3349, '12258885': 3350, '2648675': 3351, '14443392': 3352, '5417774': 3353, '14761778': 3354, '16230725': 3355, '11003355': 3356, '14280243': 3357, '18928210': 3358, '10560846': 3359, '9459767': 3360, '10379505': 3361, '16200908': 3362, '7311349': 3363, '15656547': 3364, '10678107': 3365, '13286586': 3366, '21508381': 3367, '20910875': 3368, '5616634': 3369, '10030820': 3370, '20595170': 3371, '6876952': 3372, '12997866': 3373, '17237567': 3374, '17847455': 3375, '18252074': 3376, '11599425': 3377, '13994745': 3378, '13747986': 3379, '11592030': 3380, '21624418': 3381, '20023078': 3382, '14403588': 3383, '17259791': 3384, '10081532': 3385, '21325357': 3386, '16160537': 3387, '16122587': 3388, '21127763': 3389, '15493794': 3390, '7565191': 3391, '14394189': 3392, '8880952': 3393, '21625567': 3394, '16804699': 3395, '18229343': 3396, '21382249': 3397, '9589823': 3398, '10334792': 3399, '20262250': 3400, '10747773': 3401, '14067336': 3402, '20499854': 3403, '12341100': 3404, '15412263': 3405, '18350579': 3406, '12361476': 3407, '13084380': 3408, '11674722': 3409, '19377901': 3410, '17682650': 3411, '9208802': 3412, '18227873': 3413, '6628585': 3414, '20255707': 3415, '20945231': 3416, '21448918': 3417, '11567085': 3418, '9170296': 3419, '16984695': 3420, '19864006': 3421, '15431553': 3422, '15458580': 3423, '15533166': 3424, '19476094': 3425, '10667151': 3426, '3260072': 3427, '17159861': 3428, '15491094': 3429, '15622143': 3430, '4395437': 3431, '19249126': 3432, '21766147': 3433, '21205727': 3434, '14075286': 3435, '11283714': 3436, '13612989': 3437, '14921046': 3438, '7307944': 3439, '8222677': 3440, '12340866': 3441, '16161701': 3442, '8373556': 3443, '18609808': 3444, '14250711': 3445, '18913030': 3446, '16365413': 3447, '11367408': 3448, '21612076': 3449, '12958344': 3450, '5842273': 3451, '10839636': 3452, '16331342': 3453, '15554736': 3454, '10547014': 3455, '16471850': 3456, '21368254': 3457, '13175421': 3458, '21424861': 3459, '11153535': 3460, '13583142': 3461, '9091711': 3462, '10071050': 3463, '16280939': 3464, '6124525': 3465, '21016703': 3466, '17030004': 3467, '21998776': 3468, '10333958': 3469, '10909890': 3470, '12136194': 3471, '6919834': 3472, '20305573': 3473, '18575422': 3474, '20075575': 3475, '15892077': 3476, '13765074': 3477, '13179057': 3478, '17562134': 3479, '6691987': 3480, '11003181': 3481, '6126625': 3482, '14450022': 3483, '13715088': 3484, '12825234': 3485, '20627663': 3486, '10252394': 3487, '12526328': 3488, '10619121': 3489, '18013682': 3490, '21556399': 3491, '10762296': 3492, '17493407': 3493, '18727705': 3494, '16514327': 3495, '17173130': 3496, '21511951': 3497, '8416222': 3498, '10130147': 3499, '14939486': 3500, '20085334': 3501, '13826973': 3502, '21587227': 3503, '19818154': 3504, '17388236': 3505, '11014794': 3506, '12321618': 3507, '17523929': 3508, '16859200': 3509, '14431329': 3510, '7390030': 3511, '14547243': 3512, '9277286': 3513, '12234837': 3514, '21833152': 3515, '10202651': 3516, '16180079': 3517, '4347485': 3518, '19358317': 3519, '20913515': 3520, '11001678': 3521, '20233948': 3522, '13659228': 3523, '20329534': 3524, '21689992': 3525, '7630321': 3526, '17160575': 3527, '2616266': 3528, '16477760': 3529, '19307311': 3530, '14504028': 3531, '8800687': 3532, '9825947': 3533, '12998400': 3534, '17986424': 3535, '19005388': 3536, '15302391': 3537, '19206022': 3538, '15282030': 3539, '21853507': 3540, '15013439': 3541, '8782891': 3542, '6283441': 3543, '12800073': 3544, '10744677': 3545, '13032558': 3546, '16374629': 3547, '13671675': 3548, '16585313': 3549, '12698376': 3550, '13146609': 3551, '8881291': 3552, '16278200': 3553, '15189023': 3554, '14381736': 3555, '20610008': 3556, '11156100': 3557, '8521579': 3558, '8858092': 3559, '6162061': 3560, '8569462': 3561, '7441009': 3562, '16250003': 3563, '20921189': 3564, '19826056': 3565, '21957973': 3566, '14153901': 3567, '14660163': 3568, '14209392': 3569, '11003319': 3570, '20928641': 3571, '21113348': 3572, '12199479': 3573, '17342702': 3574, '15858249': 3575, '17846552': 3576, '9184702': 3577, '15527994': 3578, '16378310': 3579, '11320482': 3580, '10129883': 3581, '14285820': 3582, '16367933': 3583, '8434657': 3584, '18322175': 3585, '13829409': 3586, '8881030': 3587, '15794388': 3588, '10528512': 3589, '13891311': 3590, '13148640': 3591, '5691184': 3592, '13885641': 3593, '19437649': 3594, '15844008': 3595, '20036203': 3596, '13514334': 3597, '16720698': 3598, '10463376': 3599, '11468112': 3600, '8430409': 3601, '9265421': 3602, '12778377': 3603, '19997935': 3604, '15334251': 3605, '19168393': 3606, '14759601': 3607, '15513555': 3608, '17160026': 3609, '6417055': 3610, '12915900': 3611, '19242037': 3612, '5161223': 3613, '12001305': 3614, '15778674': 3615, '6239650': 3616, '12769404': 3617, '16546655': 3618, '13831443': 3619, '16172483': 3620, '13712109': 3621, '6341290': 3622, '19749040': 3623, '6095295': 3624, '20527358': 3625, '13723182': 3626, '14394870': 3627, '9515030': 3628, '15843954': 3629, '12040146': 3630, '13435764': 3631, '14139177': 3632, '7839541': 3633, '6751366': 3634, '5714701': 3635, '14490210': 3636, '13784820': 3637, '16052828': 3638, '18314876': 3639, '17214251': 3640, '20946305': 3641, '16627889': 3642, '19345111': 3643, '19048072': 3644, '10939017': 3645, '16209947': 3646, '16257734': 3647, '12845631': 3648, '11312247': 3649, '19038655': 3650, '21247232': 3651, '20846387': 3652, '17010327': 3653, '13773903': 3654, '10411083': 3655, '12360717': 3656, '6903892': 3657, '6970696': 3658, '16795537': 3659, '19048966': 3660, '14608227': 3661, '15672120': 3662, '21444079': 3663, '12628473': 3664, '9090034': 3665, '16846858': 3666, '17844305': 3667, '6439897': 3668, '16147751': 3669, '16723743': 3670, '9589397': 3671, '15954371': 3672, '19385995': 3673, '5267210': 3674, '8328250': 3675, '14961590': 3676, '21551767': 3677, '19134475': 3678, '20367169': 3679, '7543774': 3680, '6644095': 3681, '12993900': 3682, '18310787': 3683, '6282100': 3684, '13146795': 3685, '16305620': 3686, '17454539': 3687, '15038525': 3688, '20262583': 3689, '5968749': 3690, '6578509': 3691, '6978223': 3692, '20670494': 3693, '18505303': 3694, '6045190': 3695, '16501517': 3696, '9373280': 3697, '20852615': 3698, '14855690': 3699, '20889083': 3700, '8304139': 3701, '16178417': 3702, '16370720': 3703, '18878221': 3704, '13906791': 3705, '12679221': 3706, '17734862': 3707, '18930523': 3708, '18677983': 3709, '8401999': 3710, '14394741': 3711, '16952292': 3712, '18869710': 3713, '17825645': 3714, '13851261': 3715, '16680631': 3716, '4469939': 3717, '10358070': 3718, '14916524': 3719, '16645520': 3720, '19780039': 3721, '6731470': 3722, '16781221': 3723, '5960896': 3724, '19398283': 3725, '15682674': 3726, '10750710': 3727, '16229831': 3728, '16113671': 3729, '13823952': 3730, '16091651': 3731, '17071403': 3732, '10897287': 3733, '18169103': 3734, '15175094': 3735, '12373245': 3736, '6797827': 3737, '14455254': 3738, '13518030': 3739, '12394419': 3740, '16031534': 3741, '15095180': 3742, '15119756': 3743, '12612336': 3744, '16218134': 3745, '17731568': 3746, '16178780': 3747, '13755660': 3748, '16178840': 3749, '17159891': 3750, '19765543': 3751, '19156507': 3752, '5171276': 3753, '11001753': 3754, '14308119': 3755, '12808641': 3756, '13969854': 3757, '17993729': 3758, '17722163': 3759, '8569396': 3760, '10846326': 3761, '10667472': 3762, '18224801': 3763, '9341483': 3764, '14634837': 3765, '10546950': 3766, '18552562': 3767, '20459144': 3768, '2490452': 3769, '14542257': 3770, '10189058': 3771, '14880053': 3772, '16252412': 3773, '20301859': 3774, '19461418': 3775, '21611971': 3776, '16278179': 3777, '18330974': 3778, '15888075': 3779, '13377210': 3780, '12733596': 3781, '14294535': 3782, '20704574': 3783, '20366002': 3784, '11897373': 3785, '6130654': 3786, '13985826': 3787, '10546932': 3788, '18263666': 3789, '13377285': 3790, '15148013': 3791, '14082120': 3792, '3856102': 3793, '4126854': 3794, '13891101': 3795, '14594910': 3796, '19044400': 3797, '17738126': 3798, '19863370': 3799, '8716447': 3800, '21025385': 3801, '20682551': 3802, '10685103': 3803, '16613369': 3804, '15925244': 3805, '17382233': 3806, '21585868': 3807, '12554244': 3808, '17593058': 3809, '20389582': 3810, '15843984': 3811, '13120731': 3812, '9414305': 3813, '15043268': 3814, '12641904': 3815, '5883445': 3816, '13301292': 3817, '13889181': 3818, '21677941': 3819, '17048921': 3820, '19404196': 3821, '11349033': 3822, '14764742': 3823, '19763302': 3824, '14395722': 3825, '15610761': 3826, '9223721': 3827, '16888821': 3828, '19319656': 3829, '21233795': 3830, '21195818': 3831, '13507776': 3832, '10686093': 3833, '10130216': 3834, '18924877': 3835, '15624348': 3836, '16289750': 3837, '7976380': 3838, '10394511': 3839, '21851332': 3840, '6067918': 3841, '21973642': 3842, '14409120': 3843, '12753192': 3844, '14395623': 3845, '16225067': 3846, '11204850': 3847, '4799741': 3848, '11989923': 3849, '9090121': 3850, '21328603': 3851, '10476300': 3852, '13784709': 3853, '21814735': 3854, '13679877': 3855, '15843897': 3856, '10631253': 3857, '16260584': 3858, '6102994': 3859, '9297584': 3860, '13334538': 3861, '20971865': 3862, '18888979': 3863, '21324961': 3864, '14394939': 3865, '14152995': 3866, '20012941': 3867, '14939138': 3868, '10593801': 3869, '19457833': 3870, '7958800': 3871, '17193851': 3872, '14854200': 3873, '20427632': 3874, '13404558': 3875, '15186812': 3876, '15306309': 3877, '14544765': 3878, '12521572': 3879, '7733716': 3880, '17467730': 3881, '21381094': 3882, '14738444': 3883, '17747042': 3884, '11618049': 3885, '10715526': 3886, '13059414': 3887, '21611899': 3888, '16244897': 3889, '11475135': 3890, '10715364': 3891, '16425842': 3892, '10394451': 3893, '13736793': 3894, '17794580': 3895, '15665592': 3896, '5877754': 3897, '16310126': 3898, '16380026': 3899, '10510449': 3900, '19748584': 3901, '8660407': 3902, '18954739': 3903, '16163822': 3904, '21746125': 3905, '2648558': 3906, '15806349': 3907, '16707553': 3908, '12761709': 3909, '19345726': 3910, '14807000': 3911, '16792807': 3912, '14126058': 3913, '21612259': 3914, '17883191': 3915, '20895107': 3916, '10115711': 3917, '14395659': 3918, '15428187': 3919, '14406936': 3920, '12056061': 3921, '16274621': 3922, '12659148': 3923, '18949714': 3924, '16244114': 3925, '6281146': 3926, '16067987': 3927, '20528678': 3928, '15420951': 3929, '12553172': 3930, '11517678': 3931, '21337336': 3932, '18827929': 3933, '6283381': 3934, '6053944': 3935, '12025962': 3936, '20590064': 3937, '20666441': 3938, '11350812': 3939, '13621866': 3940, '11331924': 3941, '19150564': 3942, '19878694': 3943, '6749359': 3944, '13732791': 3945, '8304529': 3946, '18315950': 3947, '19383829': 3948, '6662947': 3949, '11047656': 3950, '6758653': 3951, '14086983': 3952, '15580542': 3953, '13693821': 3954, '20826935': 3955, '4326489': 3956, '14171862': 3957, '12952833': 3958, '16054220': 3959, '21339967': 3960, '12421326': 3961, '21786268': 3962, '12092472': 3963, '9941558': 3964, '21637387': 3965, '18721516': 3966, '19846435': 3967, '18733966': 3968, '16327652': 3969, '13948689': 3970, '21228980': 3971, '15053924': 3972, '11300340': 3973, '18616216': 3974, '21695038': 3975, '9472124': 3976, '14628573': 3977, '12712458': 3978, '18772372': 3979, '12713064': 3980, '16031894': 3981, '19721338': 3982, '9301187': 3983, '12922716': 3984, '18935719': 3985, '18157244': 3986, '11028003': 3987, '12660840': 3988, '19451740': 3989, '16521437': 3990, '14819063': 3991, '21368356': 3992, '20503820': 3993, '12759960': 3994, '12045720': 3995, '10715445': 3996, '10616478': 3997, '5775847': 3998, '14439696': 3999, '16036268': 4000, '14607450': 4001, '17455946': 4002, '14580402': 4003, '20953313': 4004, '14635269': 4005, '15819315': 4006, '16029284': 4007, '16897956': 4008, '21161042': 4009, '21477454': 4010, '21612334': 4011, '15566583': 4012, '15454575': 4013, '12017034': 4014, '6836287': 4015, '7126423': 4016, '13985742': 4017, '6157938': 4018, '13933131': 4019, '21207080': 4020, '13431921': 4021, '19357519': 4022, '12578184': 4023, '7945450': 4024, '19022296': 4025, '14899110': 4026, '14135367': 4027, '21925759': 4028, '18733192': 4029, '8691847': 4030, '15867669': 4031, '12462744': 4032, '19732780': 4033, '15491559': 4034, '16113644': 4035, '7123816': 4036, '20217265': 4037, '15453903': 4038, '16554479': 4039, '16752700': 4040, '12122670': 4041, '17844644': 4042, '7125844': 4043, '19402021': 4044, '16182686': 4045, '21333727': 4046, '16128647': 4047, '21157337': 4048, '19350079': 4049, '11612598': 4050, '20733383': 4051, '20574299': 4052, '15003077': 4053, '18572587': 4054, '20520029': 4055, '21593857': 4056, '12652698': 4057, '15553656': 4058, '12555964': 4059, '14395524': 4060, '13875069': 4061, '19388944': 4062, '21228374': 4063, '10498176': 4064, '16014422': 4065, '22001416': 4066, '18635512': 4067, '13172481': 4068, '19352038': 4069, '8324539': 4070, '17890628': 4071, '16663294': 4072, '12673491': 4073, '13418208': 4074, '7124725': 4075, '17632940': 4076, '21456916': 4077, '21564790': 4078, '13377807': 4079, '21247949': 4080, '12935601': 4081, '7125139': 4082, '13404630': 4083, '14395305': 4084, '17993702': 4085, '12117870': 4086, '15785181': 4087, '20616596': 4088, '15603564': 4089, '18606073': 4090, '16637141': 4091, '19858246': 4092, '11887458': 4093, '21960136': 4094, '17817797': 4095, '11359587': 4096, '14861654': 4097, '15843915': 4098, '14835933': 4099, '9086077': 4100, '18990049': 4101, '21150398': 4102, '21070061': 4103, '19323991': 4104, '20520059': 4105, '10330484': 4106, '16264235': 4107, '21158471': 4108, '21717277': 4109, '7494132': 4110, '17095322': 4111, '19350616': 4112, '15712644': 4113, '12070230': 4114, '10722114': 4115, '17917376': 4116, '13404495': 4117, '14275512': 4118, '19341247': 4119, '12481888': 4120, '17825885': 4121, '5659246': 4122, '12788622': 4123, '19793443': 4124, '20740919': 4125, '21749821': 4126, '19344754': 4127, '10385082': 4128, '7125334': 4129, '20002900': 4130, '16848661': 4131, '17868047': 4132, '12463017': 4133, '7126141': 4134, '16319993': 4135, '16039226': 4136, '13452753': 4137, '16300385': 4138, '14756280': 4139, '7098433': 4140, '15784761': 4141, '16724943': 4142, '21971917': 4143, '14887796': 4144, '6330955': 4145, '14861615': 4146, '17726525': 4147, '11382102': 4148, '21544204': 4149, '16867639': 4150, '19858303': 4151, '19330984': 4152, '15254793': 4153, '14395581': 4154, '14395431': 4155, '19349326': 4156, '11170335': 4157, '20662211': 4158, '16449458': 4159, '18745963': 4160, '20694509': 4161, '18100679': 4162, '13799703': 4163, '20676152': 4164, '17897204': 4165, '16033301': 4166, '19641559': 4167, '15657528': 4168, '17115077': 4169, '12664473': 4170, '7126336': 4171, '21898135': 4172, '19350697': 4173, '6835798': 4174, '13741257': 4175, '17461307': 4176, '12070956': 4177, '14395368': 4178, '15190580': 4179, '14706230': 4180, '14395242': 4181, '14395110': 4182, '20781593': 4183, '12431688': 4184, '4255872': 4185, '15844059': 4186, '13960119': 4187, '14675973': 4188, '21312904': 4189, '13742619': 4190, '20580083': 4191, '18685765': 4192, '20837270': 4193, '20528255': 4194, '16264994': 4195, '14395182': 4196, '20426330': 4197, '19472539': 4198, '12674838': 4199, '21719353': 4200, '15711705': 4201, '12302505': 4202, '21132554': 4203, '20771177': 4204, '21959005': 4205, '20339794': 4206, '18904612': 4207, '21764554': 4208, '13067628': 4209, '14399769': 4210, '18158909': 4211, '15890238': 4212, '16215095': 4213, '21645907': 4214, '20831213': 4215, '19982233': 4216, '15852693': 4217, '8593450': 4218, '20730098': 4219, '21924145': 4220, '21305372': 4221, '22009057': 4222, '19345210': 4223}\n"
     ]
    }
   ],
   "source": [
    "print(dataset.mapping()[2])"
   ]
  },
  {
   "cell_type": "code",
   "execution_count": 87,
   "metadata": {},
   "outputs": [
    {
     "data": {
      "text/plain": [
       "array([  59,   44,  190, ..., 3399, 1644,  342])"
      ]
     },
     "execution_count": 87,
     "metadata": {},
     "output_type": "execute_result"
    }
   ],
   "source": [
    "scores = model.predict(2971, np.arange(4224))\n",
    "sorted_scores = np.argsort(-scores)\n",
    "sorted_scores"
   ]
  },
  {
   "cell_type": "code",
   "execution_count": null,
   "metadata": {},
   "outputs": [],
   "source": [
    "#top_items = data['work_id'][np.argsort(-scores)]\n",
    "top_items = dataset.mapping()[2][np.argsort(-scores)]"
   ]
  }
 ],
 "metadata": {
  "kernelspec": {
   "display_name": "Python 3",
   "language": "python",
   "name": "python3"
  },
  "language_info": {
   "codemirror_mode": {
    "name": "ipython",
    "version": 3
   },
   "file_extension": ".py",
   "mimetype": "text/x-python",
   "name": "python",
   "nbconvert_exporter": "python",
   "pygments_lexer": "ipython3",
   "version": "3.7.4"
  }
 },
 "nbformat": 4,
 "nbformat_minor": 4
}
