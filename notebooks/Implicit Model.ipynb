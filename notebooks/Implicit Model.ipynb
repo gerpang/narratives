{
 "cells": [
  {
   "cell_type": "code",
   "execution_count": 2,
   "metadata": {},
   "outputs": [],
   "source": [
    "import implicit\n",
    "import numpy as np\n",
    "import scipy.sparse as sp\n",
    "import pandas as pd\n",
    "from sklearn.preprocessing import MultiLabelBinarizer\n",
    "import pickle\n",
    "import os\n",
    "import csv\n",
    "import numpy.matlib"
   ]
  },
  {
   "cell_type": "markdown",
   "metadata": {},
   "source": [
    "# Get Data"
   ]
  },
  {
   "cell_type": "markdown",
   "metadata": {},
   "source": [
    "We'll need to go from csv to a scipy.sparse.csr_matrix. This code should be put into a preprocessing script w/in the pipelie."
   ]
  },
  {
   "cell_type": "code",
   "execution_count": 3,
   "metadata": {},
   "outputs": [
    {
     "data": {
      "text/html": [
       "<div>\n",
       "<style scoped>\n",
       "    .dataframe tbody tr th:only-of-type {\n",
       "        vertical-align: middle;\n",
       "    }\n",
       "\n",
       "    .dataframe tbody tr th {\n",
       "        vertical-align: top;\n",
       "    }\n",
       "\n",
       "    .dataframe thead th {\n",
       "        text-align: right;\n",
       "    }\n",
       "</style>\n",
       "<table border=\"1\" class=\"dataframe\">\n",
       "  <thead>\n",
       "    <tr style=\"text-align: right;\">\n",
       "      <th></th>\n",
       "      <th>user</th>\n",
       "      <th>work_id</th>\n",
       "    </tr>\n",
       "  </thead>\n",
       "  <tbody>\n",
       "    <tr>\n",
       "      <th>0</th>\n",
       "      <td>3104510</td>\n",
       "      <td>klutzyelf</td>\n",
       "    </tr>\n",
       "    <tr>\n",
       "      <th>1</th>\n",
       "      <td>3104510</td>\n",
       "      <td>Ello_its_meme</td>\n",
       "    </tr>\n",
       "    <tr>\n",
       "      <th>2</th>\n",
       "      <td>3104510</td>\n",
       "      <td>JadedBlade</td>\n",
       "    </tr>\n",
       "    <tr>\n",
       "      <th>3</th>\n",
       "      <td>3104510</td>\n",
       "      <td>Moony_PirateKing</td>\n",
       "    </tr>\n",
       "    <tr>\n",
       "      <th>4</th>\n",
       "      <td>3104510</td>\n",
       "      <td>EgoBang07</td>\n",
       "    </tr>\n",
       "  </tbody>\n",
       "</table>\n",
       "</div>"
      ],
      "text/plain": [
       "      user           work_id\n",
       "0  3104510         klutzyelf\n",
       "1  3104510     Ello_its_meme\n",
       "2  3104510        JadedBlade\n",
       "3  3104510  Moony_PirateKing\n",
       "4  3104510         EgoBang07"
      ]
     },
     "execution_count": 3,
     "metadata": {},
     "output_type": "execute_result"
    }
   ],
   "source": [
    "df = pd.read_csv(\"../data/swr_fanworks/fanworks_kudos.csv\")\n",
    "df.head()"
   ]
  },
  {
   "cell_type": "code",
   "execution_count": 4,
   "metadata": {},
   "outputs": [
    {
     "name": "stdout",
     "output_type": "stream",
     "text": [
      "(4224, 18096)\n"
     ]
    }
   ],
   "source": [
    "num_users = len(df['work_id'].unique())\n",
    "num_works = len(df['user'].unique())\n",
    "data = np.zeros((num_works, num_users))\n",
    "print(data.shape)"
   ]
  },
  {
   "cell_type": "code",
   "execution_count": 5,
   "metadata": {},
   "outputs": [],
   "source": [
    "indices = {'work_id':{}, 'user':{}}\n",
    "work_count, user_count = 0, 0\n",
    "with open('../data/swr_fanworks/fanworks_kudos.csv', newline='') as csvfile:\n",
    "    interactions = csv.reader(csvfile, delimiter=',')\n",
    "    next(interactions)\n",
    "    for row in interactions:\n",
    "        indices['work_id'].setdefault(row[0], len(indices['work_id']))\n",
    "        indices['user'].setdefault(row[1], len(indices['user']))\n",
    "        data[indices['work_id'][row[0]]][indices['user'][row[1]]] = 1"
   ]
  },
  {
   "cell_type": "code",
   "execution_count": 6,
   "metadata": {},
   "outputs": [
    {
     "name": "stdout",
     "output_type": "stream",
     "text": [
      "<class 'scipy.sparse.csr.csr_matrix'>\n"
     ]
    }
   ],
   "source": [
    "sparse_matrix = sp.csr_matrix(data)\n",
    "print(type(sparse_matrix))"
   ]
  },
  {
   "cell_type": "code",
   "execution_count": 7,
   "metadata": {},
   "outputs": [],
   "source": [
    "inverted_indices = {'work_id':{}, 'user':{}}\n",
    "inverted_indices['work_id'] = {v: k for k, v in indices['work_id'].items()}\n",
    "inverted_indices['user'] = {v: k for k, v in indices['user'].items()}\n"
   ]
  },
  {
   "cell_type": "markdown",
   "metadata": {},
   "source": [
    "# Get Recs"
   ]
  },
  {
   "cell_type": "code",
   "execution_count": 8,
   "metadata": {},
   "outputs": [],
   "source": [
    "work_indice = indices['work_id']['11997396']\n",
    "num_to_return = 20"
   ]
  },
  {
   "cell_type": "markdown",
   "metadata": {},
   "source": [
    "### ALS results"
   ]
  },
  {
   "cell_type": "markdown",
   "metadata": {},
   "source": [
    "### BPR"
   ]
  },
  {
   "cell_type": "code",
   "execution_count": 9,
   "metadata": {},
   "outputs": [
    {
     "data": {
      "application/vnd.jupyter.widget-view+json": {
       "model_id": "80dc6094fa664656ac75ae0018c8a09d",
       "version_major": 2,
       "version_minor": 0
      },
      "text/plain": [
       "HBox(children=(FloatProgress(value=0.0), HTML(value='')))"
      ]
     },
     "metadata": {},
     "output_type": "display_data"
    },
    {
     "name": "stdout",
     "output_type": "stream",
     "text": [
      "\n",
      "http://www.archiveofourown.org/works/11997396\n",
      "http://www.archiveofourown.org/works/13210923\n",
      "http://www.archiveofourown.org/works/10703883\n",
      "http://www.archiveofourown.org/works/13241082\n",
      "http://www.archiveofourown.org/works/19170541\n",
      "http://www.archiveofourown.org/works/10546950\n",
      "http://www.archiveofourown.org/works/14495193\n",
      "http://www.archiveofourown.org/works/14517879\n",
      "http://www.archiveofourown.org/works/11573010\n",
      "http://www.archiveofourown.org/works/14542257\n",
      "http://www.archiveofourown.org/works/11103651\n",
      "http://www.archiveofourown.org/works/13904244\n",
      "http://www.archiveofourown.org/works/14085450\n",
      "http://www.archiveofourown.org/works/13964358\n",
      "http://www.archiveofourown.org/works/11758140\n",
      "http://www.archiveofourown.org/works/14559507\n",
      "http://www.archiveofourown.org/works/13345785\n",
      "http://www.archiveofourown.org/works/13130430\n",
      "http://www.archiveofourown.org/works/13967031\n",
      "http://www.archiveofourown.org/works/14311677\n"
     ]
    }
   ],
   "source": [
    "# initialize a model\n",
    "modelBPR = implicit.bpr.BayesianPersonalizedRanking(factors=50, verify_negative_samples=True)\n",
    "# train the model on a sparse matrix of item/user/confidence weights\n",
    "modelBPR.fit(sparse_matrix)\n",
    "\n",
    "# find related items\n",
    "related_BPR = modelBPR.similar_items(work_indice, num_to_return)\n",
    "for suggestion in related_BPR:\n",
    "    work_id = inverted_indices['work_id'][suggestion[0]]\n",
    "    print(f\"http://www.archiveofourown.org/works/{work_id}\")"
   ]
  },
  {
   "cell_type": "markdown",
   "metadata": {},
   "source": [
    "### Logistic Matrix Fatorization"
   ]
  },
  {
   "cell_type": "code",
   "execution_count": 51,
   "metadata": {
    "scrolled": true
   },
   "outputs": [
    {
     "data": {
      "text/html": [
       "<div>\n",
       "<style scoped>\n",
       "    .dataframe tbody tr th:only-of-type {\n",
       "        vertical-align: middle;\n",
       "    }\n",
       "\n",
       "    .dataframe tbody tr th {\n",
       "        vertical-align: top;\n",
       "    }\n",
       "\n",
       "    .dataframe thead th {\n",
       "        text-align: right;\n",
       "    }\n",
       "</style>\n",
       "<table border=\"1\" class=\"dataframe\">\n",
       "  <thead>\n",
       "    <tr style=\"text-align: right;\">\n",
       "      <th></th>\n",
       "      <th>work_id</th>\n",
       "      <th>title</th>\n",
       "      <th>rating</th>\n",
       "      <th>category</th>\n",
       "      <th>fandom</th>\n",
       "      <th>relationship</th>\n",
       "      <th>character</th>\n",
       "      <th>additional tags</th>\n",
       "      <th>language</th>\n",
       "      <th>published</th>\n",
       "      <th>status</th>\n",
       "      <th>status date</th>\n",
       "      <th>words</th>\n",
       "      <th>chapters</th>\n",
       "      <th>comments</th>\n",
       "      <th>kudos</th>\n",
       "      <th>bookmarks</th>\n",
       "      <th>hits</th>\n",
       "    </tr>\n",
       "  </thead>\n",
       "  <tbody>\n",
       "    <tr>\n",
       "      <th>0</th>\n",
       "      <td>3104510</td>\n",
       "      <td>Second Chances</td>\n",
       "      <td>Teen And Up Audiences</td>\n",
       "      <td>M/M, F/F</td>\n",
       "      <td>Star Wars - All Media Types, Star Wars Prequel...</td>\n",
       "      <td>Obi-Wan Kenobi/Anakin Skywalker, Obi-Wan Kenob...</td>\n",
       "      <td>Leia Organa, Luke Skywalker, Anakin Skywalker,...</td>\n",
       "      <td>Age Regression/De-Aging, Soul Bond, The Force,...</td>\n",
       "      <td>English</td>\n",
       "      <td>2015-01-05</td>\n",
       "      <td>Completed</td>\n",
       "      <td>2016-04-16</td>\n",
       "      <td>121358.0</td>\n",
       "      <td>42/42</td>\n",
       "      <td>803.0</td>\n",
       "      <td>1917.0</td>\n",
       "      <td>446.0</td>\n",
       "      <td>74424.0</td>\n",
       "    </tr>\n",
       "    <tr>\n",
       "      <th>1</th>\n",
       "      <td>6423526</td>\n",
       "      <td>hurricane on the edge of oblivion (with nowher...</td>\n",
       "      <td>Mature</td>\n",
       "      <td>Gen</td>\n",
       "      <td>Star Wars: The Wrath of Darth Maul - Ryder Win...</td>\n",
       "      <td>Obi-Wan Kenobi &amp; Xanatos, Qui-Gon Jinn &amp; Feemo...</td>\n",
       "      <td>Obi-Wan Kenobi, Xanatos (Star Wars), Qui-Gon J...</td>\n",
       "      <td>minor OC's - Freeform, at least I'm pretty sur...</td>\n",
       "      <td>English</td>\n",
       "      <td>2016-04-01</td>\n",
       "      <td>Updated</td>\n",
       "      <td>2019-12-23</td>\n",
       "      <td>144982.0</td>\n",
       "      <td>24/?</td>\n",
       "      <td>744.0</td>\n",
       "      <td>1815.0</td>\n",
       "      <td>380.0</td>\n",
       "      <td>28728.0</td>\n",
       "    </tr>\n",
       "    <tr>\n",
       "      <th>2</th>\n",
       "      <td>9552773</td>\n",
       "      <td>time to change the road you're on</td>\n",
       "      <td>General Audiences</td>\n",
       "      <td>Gen</td>\n",
       "      <td>Star Wars - All Media Types, Star Wars: The Cl...</td>\n",
       "      <td>Anakin Skywalker &amp; Ahsoka Tano, Ahsoka Tano an...</td>\n",
       "      <td>Ahsoka Tano, Anakin Skywalker, Kanan Jarrus, E...</td>\n",
       "      <td>AU, Time Travel Fix-It, possibly more of a tim...</td>\n",
       "      <td>English</td>\n",
       "      <td>2017-02-02</td>\n",
       "      <td>Completed</td>\n",
       "      <td>2017-12-27</td>\n",
       "      <td>37400.0</td>\n",
       "      <td>8/8</td>\n",
       "      <td>234.0</td>\n",
       "      <td>1446.0</td>\n",
       "      <td>340.0</td>\n",
       "      <td>25348.0</td>\n",
       "    </tr>\n",
       "    <tr>\n",
       "      <th>3</th>\n",
       "      <td>5162474</td>\n",
       "      <td>Twin Sunrise</td>\n",
       "      <td>General Audiences</td>\n",
       "      <td>Gen</td>\n",
       "      <td>Star Wars Original Trilogy, Star Wars: Rebels,...</td>\n",
       "      <td>Luke Skywalker &amp; Darth Vader, Darth Vader &amp; Ap...</td>\n",
       "      <td>Anakin Skywalker | Darth Vader, Luke Skywalker...</td>\n",
       "      <td>Grey Jedi, Alternate Universe, Sith Shenanigan...</td>\n",
       "      <td>English</td>\n",
       "      <td>2015-11-07</td>\n",
       "      <td>Completed</td>\n",
       "      <td>2018-01-14</td>\n",
       "      <td>302486.0</td>\n",
       "      <td>55/55</td>\n",
       "      <td>1003.0</td>\n",
       "      <td>1418.0</td>\n",
       "      <td>382.0</td>\n",
       "      <td>52527.0</td>\n",
       "    </tr>\n",
       "    <tr>\n",
       "      <th>4</th>\n",
       "      <td>4417469</td>\n",
       "      <td>On the Edge of the Devil's Backbone</td>\n",
       "      <td>Teen And Up Audiences</td>\n",
       "      <td>F/M, Multi</td>\n",
       "      <td>Star Wars: Rebels, Star Wars - All Media Types</td>\n",
       "      <td>Kanan Jarrus/Hera Syndulla</td>\n",
       "      <td>Hera Syndulla, Kanan Jarrus, Sabine Wren, Gara...</td>\n",
       "      <td>Alternate Universe, Canon-Typical Violence</td>\n",
       "      <td>English</td>\n",
       "      <td>2015-07-25</td>\n",
       "      <td>Completed</td>\n",
       "      <td>2018-10-20</td>\n",
       "      <td>361502.0</td>\n",
       "      <td>30/30</td>\n",
       "      <td>675.0</td>\n",
       "      <td>1395.0</td>\n",
       "      <td>255.0</td>\n",
       "      <td>39386.0</td>\n",
       "    </tr>\n",
       "  </tbody>\n",
       "</table>\n",
       "</div>"
      ],
      "text/plain": [
       "   work_id                                              title  \\\n",
       "0  3104510                                     Second Chances   \n",
       "1  6423526  hurricane on the edge of oblivion (with nowher...   \n",
       "2  9552773                  time to change the road you're on   \n",
       "3  5162474                                       Twin Sunrise   \n",
       "4  4417469                On the Edge of the Devil's Backbone   \n",
       "\n",
       "                  rating    category  \\\n",
       "0  Teen And Up Audiences    M/M, F/F   \n",
       "1                 Mature         Gen   \n",
       "2      General Audiences         Gen   \n",
       "3      General Audiences         Gen   \n",
       "4  Teen And Up Audiences  F/M, Multi   \n",
       "\n",
       "                                              fandom  \\\n",
       "0  Star Wars - All Media Types, Star Wars Prequel...   \n",
       "1  Star Wars: The Wrath of Darth Maul - Ryder Win...   \n",
       "2  Star Wars - All Media Types, Star Wars: The Cl...   \n",
       "3  Star Wars Original Trilogy, Star Wars: Rebels,...   \n",
       "4     Star Wars: Rebels, Star Wars - All Media Types   \n",
       "\n",
       "                                        relationship  \\\n",
       "0  Obi-Wan Kenobi/Anakin Skywalker, Obi-Wan Kenob...   \n",
       "1  Obi-Wan Kenobi & Xanatos, Qui-Gon Jinn & Feemo...   \n",
       "2  Anakin Skywalker & Ahsoka Tano, Ahsoka Tano an...   \n",
       "3  Luke Skywalker & Darth Vader, Darth Vader & Ap...   \n",
       "4                         Kanan Jarrus/Hera Syndulla   \n",
       "\n",
       "                                           character  \\\n",
       "0  Leia Organa, Luke Skywalker, Anakin Skywalker,...   \n",
       "1  Obi-Wan Kenobi, Xanatos (Star Wars), Qui-Gon J...   \n",
       "2  Ahsoka Tano, Anakin Skywalker, Kanan Jarrus, E...   \n",
       "3  Anakin Skywalker | Darth Vader, Luke Skywalker...   \n",
       "4  Hera Syndulla, Kanan Jarrus, Sabine Wren, Gara...   \n",
       "\n",
       "                                     additional tags language   published  \\\n",
       "0  Age Regression/De-Aging, Soul Bond, The Force,...  English  2015-01-05   \n",
       "1  minor OC's - Freeform, at least I'm pretty sur...  English  2016-04-01   \n",
       "2  AU, Time Travel Fix-It, possibly more of a tim...  English  2017-02-02   \n",
       "3  Grey Jedi, Alternate Universe, Sith Shenanigan...  English  2015-11-07   \n",
       "4         Alternate Universe, Canon-Typical Violence  English  2015-07-25   \n",
       "\n",
       "      status status date     words chapters  comments   kudos  bookmarks  \\\n",
       "0  Completed  2016-04-16  121358.0    42/42     803.0  1917.0      446.0   \n",
       "1    Updated  2019-12-23  144982.0     24/?     744.0  1815.0      380.0   \n",
       "2  Completed  2017-12-27   37400.0      8/8     234.0  1446.0      340.0   \n",
       "3  Completed  2018-01-14  302486.0    55/55    1003.0  1418.0      382.0   \n",
       "4  Completed  2018-10-20  361502.0    30/30     675.0  1395.0      255.0   \n",
       "\n",
       "      hits  \n",
       "0  74424.0  \n",
       "1  28728.0  \n",
       "2  25348.0  \n",
       "3  52527.0  \n",
       "4  39386.0  "
      ]
     },
     "execution_count": 51,
     "metadata": {},
     "output_type": "execute_result"
    }
   ],
   "source": [
    "df_meta = pd.read_csv(\"../data/fanfics_metadata.csv\")\n",
    "df_meta.head()"
   ]
  },
  {
   "cell_type": "code",
   "execution_count": 57,
   "metadata": {},
   "outputs": [
    {
     "data": {
      "text/plain": [
       "'Things to Come'"
      ]
     },
     "execution_count": 57,
     "metadata": {},
     "output_type": "execute_result"
    }
   ],
   "source": [
    "x = df_meta.loc[df_meta['work_id'] == 13278054]\n",
    "x['title'].values[0]"
   ]
  },
  {
   "cell_type": "code",
   "execution_count": 60,
   "metadata": {},
   "outputs": [],
   "source": [
    "def lookup_meta(related):\n",
    "    for work in related:\n",
    "        work_id = inverted_indices['work_id'][work[0]]\n",
    "        meta = df_meta.loc[df_meta['work_id'] == int(work_id)]\n",
    "        title = meta['title'].values[0]\n",
    "        print(f\"http://www.archiveofourown.org/works/{work_id}\\t{title}\")"
   ]
  },
  {
   "cell_type": "code",
   "execution_count": 61,
   "metadata": {},
   "outputs": [
    {
     "name": "stdout",
     "output_type": "stream",
     "text": [
      "http://www.archiveofourown.org/works/11997396\tThe Recruiter\n",
      "http://www.archiveofourown.org/works/13210923\tHe Started It\n",
      "http://www.archiveofourown.org/works/10703883\tDismantled\n",
      "http://www.archiveofourown.org/works/13241082\tIt's Been Awhile\n",
      "http://www.archiveofourown.org/works/19170541\tBlaster Bolts and Banter\n",
      "http://www.archiveofourown.org/works/10546950\tBefore the Hour\n",
      "http://www.archiveofourown.org/works/14495193\tIf At First You Don't Succeed\n",
      "http://www.archiveofourown.org/works/14517879\tThe Silence of Growing Things\n",
      "http://www.archiveofourown.org/works/11573010\tBroken Chains\n",
      "http://www.archiveofourown.org/works/14542257\tWe're going to Palpatinopia!\n",
      "http://www.archiveofourown.org/works/11103651\tStay\n",
      "http://www.archiveofourown.org/works/13904244\tAfter\n",
      "http://www.archiveofourown.org/works/14085450\tFortune\n",
      "http://www.archiveofourown.org/works/13964358\tGone\n",
      "http://www.archiveofourown.org/works/11758140\tParadise\n",
      "http://www.archiveofourown.org/works/14559507\tThe Mask\n",
      "http://www.archiveofourown.org/works/13345785\tReckoning\n",
      "http://www.archiveofourown.org/works/13130430\tof all that is shifting & shaking my system\n",
      "http://www.archiveofourown.org/works/13967031\tJust Around the Bend\n",
      "http://www.archiveofourown.org/works/14311677\tEpilogue\n"
     ]
    }
   ],
   "source": [
    "lookup_meta(related_BPR)"
   ]
  },
  {
   "cell_type": "code",
   "execution_count": 18,
   "metadata": {},
   "outputs": [],
   "source": [
    "def storeData(model, modelname): \n",
    "\n",
    "    #this_folder = os.path.dirname(os.path.abspath(__file__))\n",
    "    #my_file = os.path.join(this_folder, modelname)\n",
    "    # Its important to use binary mode \n",
    "    dbfile = open('../models/'+modelname+'.pkl', 'wb') \n",
    "      \n",
    "    # source, destination \n",
    "    pickle.dump(model, dbfile)                      \n",
    "    dbfile.close() "
   ]
  },
  {
   "cell_type": "code",
   "execution_count": 15,
   "metadata": {},
   "outputs": [],
   "source": [
    "def loadData(modelname): \n",
    "    # for reading also binary mode is important \n",
    "    dbfile = open('../models/'+modelname+'.pkl', 'rb')      \n",
    "    db = pickle.load(dbfile) \n",
    "    return db"
   ]
  },
  {
   "cell_type": "code",
   "execution_count": 16,
   "metadata": {},
   "outputs": [],
   "source": [
    "def printRecs(related):\n",
    "    for suggestion in related:\n",
    "        work_id = inverted_indices['work_id'][suggestion[0]]\n",
    "        print(f\"http://www.archiveofourown.org/works/{work_id}\")"
   ]
  },
  {
   "cell_type": "code",
   "execution_count": 19,
   "metadata": {},
   "outputs": [],
   "source": [
    "storeData(modelBPR, 'bpr270220')"
   ]
  },
  {
   "cell_type": "code",
   "execution_count": null,
   "metadata": {},
   "outputs": [],
   "source": [
    "\n",
    "pickled_model = loadData('test')\n",
    "# find related items\n",
    "related_pickled = pickled_model.similar_items(work_indice, num_to_return)\n",
    "printRecs(related_pickled)"
   ]
  },
  {
   "cell_type": "code",
   "execution_count": 21,
   "metadata": {},
   "outputs": [],
   "source": [
    "storeData(indices, 'indices270220')"
   ]
  },
  {
   "cell_type": "code",
   "execution_count": null,
   "metadata": {},
   "outputs": [],
   "source": []
  }
 ],
 "metadata": {
  "kernelspec": {
   "display_name": "Python 3",
   "language": "python",
   "name": "python3"
  },
  "language_info": {
   "codemirror_mode": {
    "name": "ipython",
    "version": 3
   },
   "file_extension": ".py",
   "mimetype": "text/x-python",
   "name": "python",
   "nbconvert_exporter": "python",
   "pygments_lexer": "ipython3",
   "version": "3.7.4"
  }
 },
 "nbformat": 4,
 "nbformat_minor": 4
}
