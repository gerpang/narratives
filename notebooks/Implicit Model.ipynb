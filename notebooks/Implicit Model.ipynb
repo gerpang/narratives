{
 "cells": [
  {
   "cell_type": "code",
   "execution_count": 38,
   "metadata": {},
   "outputs": [],
   "source": [
    "import implicit\n",
    "import numpy as np\n",
    "import scipy.sparse as sp\n",
    "import pandas as pd\n",
    "from sklearn.preprocessing import MultiLabelBinarizer\n",
    "from pathvalidate import replace_symbol\n",
    "import pickle\n",
    "import os\n",
    "import csv\n",
    "import numpy.matlib\n",
    "\n",
    "RAW_PATH = '../data/raw/'\n",
    "TEST_FANDOM = 'Star Wars: The Clone Wars (2008) - All Media Types'\n",
    "KUDO_FILE = RAW_PATH + replace_symbol(TEST_FANDOM) + '/kudos.csv'\n",
    "META_FILE = RAW_PATH + replace_symbol(TEST_FANDOM) + '/meta.csv'\n",
    "TEST_REBELS = 'Star Wars: Rebels'\n",
    "KUDO_REBELS = RAW_PATH + replace_symbol(TEST_REBELS) + '/kudos.csv'\n",
    ""
   ]
  },
  {
   "cell_type": "markdown",
   "metadata": {},
   "source": [
    "# Get Data"
   ],
   "execution_count": null,
   "outputs": []
  },
  {
   "cell_type": "markdown",
   "metadata": {},
   "source": [
    "We'll need to go from csv to a scipy.sparse.csr_matrix. This code should be put into a preprocessing script w/in the pipelie."
   ],
   "execution_count": null,
   "outputs": []
  },
  {
   "cell_type": "code",
   "execution_count": 41,
   "metadata": {},
   "outputs": [
    {
     "output_type": "stream",
     "name": "stdout",
     "text": "df_TCW: <class 'pandas.core.frame.DataFrame'> df_REB:          work_id                    user\n0       22186015             ChillyCorgi\n1       22186015                Numbuh_7\n2       22186015  Padawan_Of_Ahsoka_Tano\n3       22186015             stiltsrosko\n4       22186015                 igofuzz\n...          ...                     ...\n112948  10629384               Death7559\n112949  10629384              ICurlyHead\n112950  10629384          Thousandsmiles\n112951  10629384         BurningOffARoad\n112952  10629384               Glamdroid\n\n[112953 rows x 2 columns]\n"
    },
    {
     "output_type": "execute_result",
     "data": {
      "text/plain": "    work_id            user\n0  23657317  christinedieae\n1  23657317  AngelInLeather\n2  23657317    Mayosandwich\n3  23657317    littlecloudy\n4  23657317       T3llurian",
      "text/html": "<div>\n<style scoped>\n    .dataframe tbody tr th:only-of-type {\n        vertical-align: middle;\n    }\n\n    .dataframe tbody tr th {\n        vertical-align: top;\n    }\n\n    .dataframe thead th {\n        text-align: right;\n    }\n</style>\n<table border=\"1\" class=\"dataframe\">\n  <thead>\n    <tr style=\"text-align: right;\">\n      <th></th>\n      <th>work_id</th>\n      <th>user</th>\n    </tr>\n  </thead>\n  <tbody>\n    <tr>\n      <th>0</th>\n      <td>23657317</td>\n      <td>christinedieae</td>\n    </tr>\n    <tr>\n      <th>1</th>\n      <td>23657317</td>\n      <td>AngelInLeather</td>\n    </tr>\n    <tr>\n      <th>2</th>\n      <td>23657317</td>\n      <td>Mayosandwich</td>\n    </tr>\n    <tr>\n      <th>3</th>\n      <td>23657317</td>\n      <td>littlecloudy</td>\n    </tr>\n    <tr>\n      <th>4</th>\n      <td>23657317</td>\n      <td>T3llurian</td>\n    </tr>\n  </tbody>\n</table>\n</div>"
     },
     "metadata": {},
     "execution_count": 41
    }
   ],
   "source": [
    "def init_path(fandom):\n",
    "    fandom_dir = replace_symbol(fandom)\n",
    "    data_path = os.path.join(\n",
    "        os.path.dirname(os.path.abspath(__file__)), RAW_PATH+fandom_dir)\n",
    "    if not os.path.exists(data_path):\n",
    "        os.makedirs(data_path)\n",
    "    os.chdir(data_path)\n",
    "\n",
    "#init_path(TEST_FANDOM)   \n",
    "#df = pd.read_csv(\"kudos.csv\")\n",
    "\n",
    "df_TCW = pd.read_csv(KUDO_FILE)\n",
    "df_REB = pd.read_csv(KUDO_REBELS)\n",
    "print(f\" df_TCW: {type(df_TCW)} df_REB: {df_REB}\")\n",
    "#print(f\"dims TCW: {df_TCW. })\n",
    "frames = [df_TCW, df_REB]\n",
    "df = pd.concat(frames)\n",
    "df.head()"
   ]
  },
  {
   "cell_type": "code",
   "execution_count": 42,
   "metadata": {},
   "outputs": [
    {
     "output_type": "stream",
     "name": "stdout",
     "text": "(3472, 19331)\n"
    }
   ],
   "source": [
    "num_works = len(df['work_id'].unique())\n",
    "num_users = len(df['user'].unique())\n",
    "data = np.zeros((num_works, num_users))\n",
    "print(data.shape)"
   ]
  },
  {
   "cell_type": "code",
   "execution_count": 17,
   "metadata": {},
   "outputs": [],
   "source": [
    "indices = {'work_id':{}, 'user':{}}\n",
    "with open(KUDO_FILE, newline='') as csvfile:\n",
    "    interactions = csv.reader(csvfile, delimiter=',')\n",
    "    next(interactions)\n",
    "    for row in interactions:\n",
    "        indices['work_id'].setdefault(row[0], len(indices['work_id']))\n",
    "        indices['user'].setdefault(row[1], len(indices['user']))\n",
    "        data[indices['work_id'][row[0]]][indices['user'][row[1]]] = 1"
   ]
  },
  {
   "cell_type": "code",
   "execution_count": 18,
   "metadata": {},
   "outputs": [
    {
     "output_type": "stream",
     "name": "stdout",
     "text": "<class 'scipy.sparse.csr.csr_matrix'>\n"
    }
   ],
   "source": [
    "sparse_matrix = sp.csr_matrix(data)\n",
    "print(type(sparse_matrix))"
   ]
  },
  {
   "cell_type": "code",
   "execution_count": 19,
   "metadata": {},
   "outputs": [],
   "source": [
    "inverted_indices = {'work_id':{}, 'user':{}}\n",
    "inverted_indices['work_id'] = {v: k for k, v in indices['work_id'].items()}\n",
    "inverted_indices['user'] = {v: k for k, v in indices['user'].items()}\n",
    ""
   ]
  },
  {
   "cell_type": "markdown",
   "metadata": {},
   "source": [
    "# Get Recs"
   ],
   "execution_count": null,
   "outputs": []
  },
  {
   "cell_type": "code",
   "execution_count": 21,
   "metadata": {},
   "outputs": [],
   "source": [
    "work_indice = indices['work_id']['23657317']\n",
    "num_to_return = 20"
   ]
  },
  {
   "cell_type": "code",
   "execution_count": 22,
   "metadata": {},
   "outputs": [
    {
     "output_type": "stream",
     "name": "stderr",
     "text": "100%|██████████| 100/100 [00:01<00:00, 57.11it/s, correct=94.80%, skipped=9.84%]\nhttp://www.archiveofourown.org/works/23657317\nhttp://www.archiveofourown.org/works/23662951\nhttp://www.archiveofourown.org/works/23644651\nhttp://www.archiveofourown.org/works/23668639\nhttp://www.archiveofourown.org/works/23640064\nhttp://www.archiveofourown.org/works/23654458\nhttp://www.archiveofourown.org/works/23660587\nhttp://www.archiveofourown.org/works/23688109\nhttp://www.archiveofourown.org/works/23613976\nhttp://www.archiveofourown.org/works/23638108\nhttp://www.archiveofourown.org/works/23652616\nhttp://www.archiveofourown.org/works/23642665\nhttp://www.archiveofourown.org/works/23587408\nhttp://www.archiveofourown.org/works/23425900\nhttp://www.archiveofourown.org/works/23666200\nhttp://www.archiveofourown.org/works/23663839\nhttp://www.archiveofourown.org/works/23684605\nhttp://www.archiveofourown.org/works/23651674\nhttp://www.archiveofourown.org/works/23659255\nhttp://www.archiveofourown.org/works/23054122\n"
    }
   ],
   "source": [
    "# initialize a model\n",
    "modelBPR = implicit.bpr.BayesianPersonalizedRanking(factors=50, verify_negative_samples=True)\n",
    "# train the model on a sparse matrix of item/user/confidence weights\n",
    "modelBPR.fit(sparse_matrix)\n",
    "\n",
    "# find related items\n",
    "related_BPR = modelBPR.similar_items(work_indice, num_to_return)\n",
    "for suggestion in related_BPR:\n",
    "    work_id = inverted_indices['work_id'][suggestion[0]]\n",
    "    print(f\"http://www.archiveofourown.org/works/{work_id}\")"
   ]
  },
  {
   "cell_type": "code",
   "execution_count": 28,
   "metadata": {
    "scrolled": true
   },
   "outputs": [
    {
     "output_type": "stream",
     "name": "stdout",
     "text": "../data/raw/StarWarsTheCloneWars2008AllMediaTypes/meta.csv\n"
    },
    {
     "output_type": "execute_result",
     "data": {
      "text/plain": "    work_id                                          title  \\\n0  23657317  'cause i'm going to make this place your home   \n1  23671393                   When the World Wasn't at War   \n2  23497945                        Undercurrent of Remorse   \n3  23084485                                Unnamed project   \n4  22822012            When the Force and Stars Become One   \n\n                               author gifted             rating  \\\n0                          MageOfCole    NaN  General Audiences   \n1                    jewelofmandalore    NaN             Mature   \n2  Oppo Rancisis (NowThatsDedication)    NaN          Not Rated   \n3                            W01FS0NG    NaN  General Audiences   \n4                            taffee23    NaN             Mature   \n\n                             warnings                category  \\\n0           No Archive Warnings Apply    F/M, Gen, M/M, Multi   \n1           No Archive Warnings Apply                F/M, M/M   \n2           No Archive Warnings Apply                     F/M   \n3  Choose Not To Use Archive Warnings  F/F, Gen, Multi, Other   \n4           No Archive Warnings Apply                     F/M   \n\n             status                                             fandom  \\\n0  Work in Progress  Star Wars - All Media Types, Star Wars: The Cl...   \n1  Work in Progress  Star Wars: The Clone Wars (2008) - All Media T...   \n2  Work in Progress  Star Wars: The Clone Wars (2008) - All Media T...   \n3  Work in Progress  Maximum Ride, Star Wars: The Clone Wars (2008)...   \n4  Work in Progress  Star Wars - All Media Types, Star Wars Prequel...   \n\n                                        relationship  ... chapters  \\\n0  Ezra Bridger & Kanan Jarrus, Depa Billaba & Ka...  ...      5/?   \n1  CT-7567 | Rex/Ahsoka Tano, CC-2224 | Cody/Obi-...  ...      2/3   \n2                        Obi-Wan Kenobi/Satine Kryze  ...      9/?   \n3                                                NaN  ...      8/?   \n4        Obi-Wan Kenobi/Original Female Character(s)  ...      5/?   \n\n  collections comments kudos bookmarks   hits  series_part  \\\n0         NaN     44.0  57.0       6.0  492.0         29.0   \n1         NaN      1.0  14.0       1.0  123.0          3.0   \n2         NaN      NaN  39.0       4.0  304.0          NaN   \n3         NaN      NaN   6.0       NaN   36.0          NaN   \n4         NaN      9.0  11.0       3.0  290.0          1.0   \n\n                        series_name      updated  scrape_date  \n0        Children of Hope and Glory  17 Apr 2020    2020Apr16  \n1  Clone Wars/Rebels Tumblr prompts  16 Apr 2020    2020Apr16  \n2                               NaN  16 Apr 2020    2020Apr16  \n3                               NaN  16 Apr 2020    2020Apr16  \n4       A Dyad Written in the Stars  16 Apr 2020    2020Apr16  \n\n[5 rows x 25 columns]",
      "text/html": "<div>\n<style scoped>\n    .dataframe tbody tr th:only-of-type {\n        vertical-align: middle;\n    }\n\n    .dataframe tbody tr th {\n        vertical-align: top;\n    }\n\n    .dataframe thead th {\n        text-align: right;\n    }\n</style>\n<table border=\"1\" class=\"dataframe\">\n  <thead>\n    <tr style=\"text-align: right;\">\n      <th></th>\n      <th>work_id</th>\n      <th>title</th>\n      <th>author</th>\n      <th>gifted</th>\n      <th>rating</th>\n      <th>warnings</th>\n      <th>category</th>\n      <th>status</th>\n      <th>fandom</th>\n      <th>relationship</th>\n      <th>...</th>\n      <th>chapters</th>\n      <th>collections</th>\n      <th>comments</th>\n      <th>kudos</th>\n      <th>bookmarks</th>\n      <th>hits</th>\n      <th>series_part</th>\n      <th>series_name</th>\n      <th>updated</th>\n      <th>scrape_date</th>\n    </tr>\n  </thead>\n  <tbody>\n    <tr>\n      <th>0</th>\n      <td>23657317</td>\n      <td>'cause i'm going to make this place your home</td>\n      <td>MageOfCole</td>\n      <td>NaN</td>\n      <td>General Audiences</td>\n      <td>No Archive Warnings Apply</td>\n      <td>F/M, Gen, M/M, Multi</td>\n      <td>Work in Progress</td>\n      <td>Star Wars - All Media Types, Star Wars: The Cl...</td>\n      <td>Ezra Bridger &amp; Kanan Jarrus, Depa Billaba &amp; Ka...</td>\n      <td>...</td>\n      <td>5/?</td>\n      <td>NaN</td>\n      <td>44.0</td>\n      <td>57.0</td>\n      <td>6.0</td>\n      <td>492.0</td>\n      <td>29.0</td>\n      <td>Children of Hope and Glory</td>\n      <td>17 Apr 2020</td>\n      <td>2020Apr16</td>\n    </tr>\n    <tr>\n      <th>1</th>\n      <td>23671393</td>\n      <td>When the World Wasn't at War</td>\n      <td>jewelofmandalore</td>\n      <td>NaN</td>\n      <td>Mature</td>\n      <td>No Archive Warnings Apply</td>\n      <td>F/M, M/M</td>\n      <td>Work in Progress</td>\n      <td>Star Wars: The Clone Wars (2008) - All Media T...</td>\n      <td>CT-7567 | Rex/Ahsoka Tano, CC-2224 | Cody/Obi-...</td>\n      <td>...</td>\n      <td>2/3</td>\n      <td>NaN</td>\n      <td>1.0</td>\n      <td>14.0</td>\n      <td>1.0</td>\n      <td>123.0</td>\n      <td>3.0</td>\n      <td>Clone Wars/Rebels Tumblr prompts</td>\n      <td>16 Apr 2020</td>\n      <td>2020Apr16</td>\n    </tr>\n    <tr>\n      <th>2</th>\n      <td>23497945</td>\n      <td>Undercurrent of Remorse</td>\n      <td>Oppo Rancisis (NowThatsDedication)</td>\n      <td>NaN</td>\n      <td>Not Rated</td>\n      <td>No Archive Warnings Apply</td>\n      <td>F/M</td>\n      <td>Work in Progress</td>\n      <td>Star Wars: The Clone Wars (2008) - All Media T...</td>\n      <td>Obi-Wan Kenobi/Satine Kryze</td>\n      <td>...</td>\n      <td>9/?</td>\n      <td>NaN</td>\n      <td>NaN</td>\n      <td>39.0</td>\n      <td>4.0</td>\n      <td>304.0</td>\n      <td>NaN</td>\n      <td>NaN</td>\n      <td>16 Apr 2020</td>\n      <td>2020Apr16</td>\n    </tr>\n    <tr>\n      <th>3</th>\n      <td>23084485</td>\n      <td>Unnamed project</td>\n      <td>W01FS0NG</td>\n      <td>NaN</td>\n      <td>General Audiences</td>\n      <td>Choose Not To Use Archive Warnings</td>\n      <td>F/F, Gen, Multi, Other</td>\n      <td>Work in Progress</td>\n      <td>Maximum Ride, Star Wars: The Clone Wars (2008)...</td>\n      <td>NaN</td>\n      <td>...</td>\n      <td>8/?</td>\n      <td>NaN</td>\n      <td>NaN</td>\n      <td>6.0</td>\n      <td>NaN</td>\n      <td>36.0</td>\n      <td>NaN</td>\n      <td>NaN</td>\n      <td>16 Apr 2020</td>\n      <td>2020Apr16</td>\n    </tr>\n    <tr>\n      <th>4</th>\n      <td>22822012</td>\n      <td>When the Force and Stars Become One</td>\n      <td>taffee23</td>\n      <td>NaN</td>\n      <td>Mature</td>\n      <td>No Archive Warnings Apply</td>\n      <td>F/M</td>\n      <td>Work in Progress</td>\n      <td>Star Wars - All Media Types, Star Wars Prequel...</td>\n      <td>Obi-Wan Kenobi/Original Female Character(s)</td>\n      <td>...</td>\n      <td>5/?</td>\n      <td>NaN</td>\n      <td>9.0</td>\n      <td>11.0</td>\n      <td>3.0</td>\n      <td>290.0</td>\n      <td>1.0</td>\n      <td>A Dyad Written in the Stars</td>\n      <td>16 Apr 2020</td>\n      <td>2020Apr16</td>\n    </tr>\n  </tbody>\n</table>\n<p>5 rows × 25 columns</p>\n</div>"
     },
     "metadata": {},
     "execution_count": 28
    }
   ],
   "source": [
    "print(META_FILE)\n",
    "df_meta = pd.read_csv(META_FILE)\n",
    "df_meta.head()"
   ]
  },
  {
   "cell_type": "code",
   "execution_count": 30,
   "metadata": {},
   "outputs": [
    {
     "output_type": "execute_result",
     "data": {
      "text/plain": "\"'cause i'm going to make this place your home\""
     },
     "metadata": {},
     "execution_count": 30
    }
   ],
   "source": [
    "x = df_meta.loc[df_meta['work_id'] == 23657317]\n",
    "x['title'].values[0]"
   ]
  },
  {
   "cell_type": "code",
   "execution_count": 31,
   "metadata": {},
   "outputs": [],
   "source": [
    "def lookup_meta(related):\n",
    "    for work in related:\n",
    "        work_id = inverted_indices['work_id'][work[0]]\n",
    "        meta = df_meta.loc[df_meta['work_id'] == int(work_id)]\n",
    "        title = meta['title'].values[0]\n",
    "        print(f\"http://www.archiveofourown.org/works/{work_id}\\t{title}\")\n"
   ]
  },
  {
   "cell_type": "code",
   "execution_count": 32,
   "metadata": {},
   "outputs": [
    {
     "output_type": "stream",
     "name": "stdout",
     "text": "http://www.archiveofourown.org/works/23657317\t'cause i'm going to make this place your home\nhttp://www.archiveofourown.org/works/23662951\tgold and diamond, jewels behind the throne\nhttp://www.archiveofourown.org/works/23644651\tLong enough to see the sunrise\nhttp://www.archiveofourown.org/works/23668639\tBlubberbird\nhttp://www.archiveofourown.org/works/23640064\tWhen all else falls apart\nhttp://www.archiveofourown.org/works/23654458\tspeak your truths to me, share my love to you\nhttp://www.archiveofourown.org/works/23660587\tThese Boots are Made for Walking\nhttp://www.archiveofourown.org/works/23688109\tJoyful Sound\nhttp://www.archiveofourown.org/works/23613976\ta study in heartbeat\nhttp://www.archiveofourown.org/works/23638108\tWalk Tall, an Aside\nhttp://www.archiveofourown.org/works/23652616\tAmidala vs. Taa\nhttp://www.archiveofourown.org/works/23642665\twe made houses out of cardboard boxes\nhttp://www.archiveofourown.org/works/23587408\tTARFU\nhttp://www.archiveofourown.org/works/23425900\tThe Logistics of Inter-System Transit\nhttp://www.archiveofourown.org/works/23666200\tWalk Tall, the Coda\nhttp://www.archiveofourown.org/works/23663839\tUp for Reconsideration\nhttp://www.archiveofourown.org/works/23684605\tSoftly but with Teeth\nhttp://www.archiveofourown.org/works/23651674\tJust Gotten Taller\nhttp://www.archiveofourown.org/works/23659255\tBattle Shouting\nhttp://www.archiveofourown.org/works/23054122\tStar Wars: Revenge of the Cartels\n"
    }
   ],
   "source": [
    "lookup_meta(related_BPR)"
   ]
  },
  {
   "cell_type": "code",
   "execution_count": 33,
   "metadata": {},
   "outputs": [],
   "source": [
    "def storeData(model, modelname): \n",
    "\n",
    "    #this_folder = os.path.dirname(os.path.abspath(__file__))\n",
    "    #my_file = os.path.join(this_folder, modelname)\n",
    "    # Its important to use binary mode \n",
    "    dbfile = open('../models/'+modelname+'.pkl', 'wb') \n",
    "      \n",
    "    # source, destination \n",
    "    pickle.dump(model, dbfile)                      \n",
    "    dbfile.close() "
   ]
  },
  {
   "cell_type": "code",
   "execution_count": 34,
   "metadata": {},
   "outputs": [],
   "source": [
    "def loadData(modelname): \n",
    "    # for reading also binary mode is important \n",
    "    dbfile = open('../models/'+modelname+'.pkl', 'rb')      \n",
    "    db = pickle.load(dbfile) \n",
    "    return db"
   ]
  },
  {
   "cell_type": "code",
   "execution_count": 35,
   "metadata": {},
   "outputs": [],
   "source": [
    "def printRecs(related):\n",
    "    for suggestion in related:\n",
    "        work_id = inverted_indices['work_id'][suggestion[0]]\n",
    "        print(f\"http://www.archiveofourown.org/works/{work_id}\")"
   ]
  },
  {
   "cell_type": "code",
   "execution_count": 36,
   "metadata": {},
   "outputs": [],
   "source": [
    "storeData(modelBPR, 'bpr270220')"
   ]
  },
  {
   "cell_type": "code",
   "execution_count": 37,
   "metadata": {},
   "outputs": [
    {
     "output_type": "error",
     "ename": "FileNotFoundError",
     "evalue": "[Errno 2] No such file or directory: '../models/test.pkl'",
     "traceback": [
      "\u001b[0;31m---------------------------------------------------------------------------\u001b[0m",
      "\u001b[0;31mFileNotFoundError\u001b[0m                         Traceback (most recent call last)",
      "\u001b[0;32m<ipython-input-37-305eddb028f7>\u001b[0m in \u001b[0;36m<module>\u001b[0;34m\u001b[0m\n\u001b[0;32m----> 1\u001b[0;31m \u001b[0mpickled_model\u001b[0m \u001b[0;34m=\u001b[0m \u001b[0mloadData\u001b[0m\u001b[0;34m(\u001b[0m\u001b[0;34m'test'\u001b[0m\u001b[0;34m)\u001b[0m\u001b[0;34m\u001b[0m\u001b[0;34m\u001b[0m\u001b[0m\n\u001b[0m\u001b[1;32m      2\u001b[0m \u001b[0;31m# find related items\u001b[0m\u001b[0;34m\u001b[0m\u001b[0;34m\u001b[0m\u001b[0;34m\u001b[0m\u001b[0m\n\u001b[1;32m      3\u001b[0m \u001b[0mrelated_pickled\u001b[0m \u001b[0;34m=\u001b[0m \u001b[0mpickled_model\u001b[0m\u001b[0;34m.\u001b[0m\u001b[0msimilar_items\u001b[0m\u001b[0;34m(\u001b[0m\u001b[0mwork_indice\u001b[0m\u001b[0;34m,\u001b[0m \u001b[0mnum_to_return\u001b[0m\u001b[0;34m)\u001b[0m\u001b[0;34m\u001b[0m\u001b[0;34m\u001b[0m\u001b[0m\n\u001b[1;32m      4\u001b[0m \u001b[0mprintRecs\u001b[0m\u001b[0;34m(\u001b[0m\u001b[0mrelated_pickled\u001b[0m\u001b[0;34m)\u001b[0m\u001b[0;34m\u001b[0m\u001b[0;34m\u001b[0m\u001b[0m\n",
      "\u001b[0;32m<ipython-input-34-76e3621279ac>\u001b[0m in \u001b[0;36mloadData\u001b[0;34m(modelname)\u001b[0m\n\u001b[1;32m      1\u001b[0m \u001b[0;32mdef\u001b[0m \u001b[0mloadData\u001b[0m\u001b[0;34m(\u001b[0m\u001b[0mmodelname\u001b[0m\u001b[0;34m)\u001b[0m\u001b[0;34m:\u001b[0m\u001b[0;34m\u001b[0m\u001b[0;34m\u001b[0m\u001b[0m\n\u001b[1;32m      2\u001b[0m     \u001b[0;31m# for reading also binary mode is important\u001b[0m\u001b[0;34m\u001b[0m\u001b[0;34m\u001b[0m\u001b[0;34m\u001b[0m\u001b[0m\n\u001b[0;32m----> 3\u001b[0;31m     \u001b[0mdbfile\u001b[0m \u001b[0;34m=\u001b[0m \u001b[0mopen\u001b[0m\u001b[0;34m(\u001b[0m\u001b[0;34m'../models/'\u001b[0m\u001b[0;34m+\u001b[0m\u001b[0mmodelname\u001b[0m\u001b[0;34m+\u001b[0m\u001b[0;34m'.pkl'\u001b[0m\u001b[0;34m,\u001b[0m \u001b[0;34m'rb'\u001b[0m\u001b[0;34m)\u001b[0m\u001b[0;34m\u001b[0m\u001b[0;34m\u001b[0m\u001b[0m\n\u001b[0m\u001b[1;32m      4\u001b[0m     \u001b[0mdb\u001b[0m \u001b[0;34m=\u001b[0m \u001b[0mpickle\u001b[0m\u001b[0;34m.\u001b[0m\u001b[0mload\u001b[0m\u001b[0;34m(\u001b[0m\u001b[0mdbfile\u001b[0m\u001b[0;34m)\u001b[0m\u001b[0;34m\u001b[0m\u001b[0;34m\u001b[0m\u001b[0m\n\u001b[1;32m      5\u001b[0m     \u001b[0;32mreturn\u001b[0m \u001b[0mdb\u001b[0m\u001b[0;34m\u001b[0m\u001b[0;34m\u001b[0m\u001b[0m\n",
      "\u001b[0;31mFileNotFoundError\u001b[0m: [Errno 2] No such file or directory: '../models/test.pkl'"
     ]
    }
   ],
   "source": [
    "\n",
    "pickled_model = loadData('test')\n",
    "# find related items\n",
    "related_pickled = pickled_model.similar_items(work_indice, num_to_return)\n",
    "printRecs(related_pickled)"
   ]
  },
  {
   "cell_type": "code",
   "execution_count": null,
   "metadata": {},
   "outputs": [],
   "source": [
    "storeData(indices, 'indices270220')"
   ]
  },
  {
   "cell_type": "code",
   "execution_count": null,
   "metadata": {},
   "outputs": [],
   "source": []
  }
 ],
 "metadata": {
  "kernelspec": {
   "display_name": "Python 3.7.4 64-bit ('base': conda)",
   "language": "python",
   "name": "python37464bitbasecondac5a35e885d9c4f8fb5dfcef0e8a90378"
  },
  "language_info": {
   "codemirror_mode": {
    "name": "ipython",
    "version": 3
   },
   "file_extension": ".py",
   "mimetype": "text/x-python",
   "name": "python",
   "nbconvert_exporter": "python",
   "pygments_lexer": "ipython3",
   "version": "3.7.4-final"
  }
 },
 "nbformat": 4,
 "nbformat_minor": 4
}