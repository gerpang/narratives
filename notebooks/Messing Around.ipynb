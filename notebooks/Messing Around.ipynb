{
 "cells": [
  {
   "cell_type": "code",
   "execution_count": 1,
   "metadata": {},
   "outputs": [],
   "source": [
    "from bs4 import BeautifulSoup\n",
    "import requests\n",
    "from unidecode import unidecode"
   ]
  },
  {
   "cell_type": "code",
   "execution_count": 76,
   "metadata": {},
   "outputs": [],
   "source": [
    "url = 'https://archiveofourown.org/tags/%E0%B9%80%E0%B8%94%E0%B8%B7%E0%B8%AD%E0%B8%99%E0%B9%80%E0%B8%81%E0%B8%B5%E0%B9%89%E0%B8%A2%E0%B8%A7%E0%B9%80%E0%B8%94%E0%B8%B7%E0%B8%AD%E0%B8%99%20%7C%202%20Moons%20-%20Chiffon_Cake/works'\n",
    "url = 'https://archiveofourown.org/tags/221B%20-%20Vincent%20Starrett/works'\n",
    "url = 'https://archiveofourown.org/tags/Star%20Wars:%20The%20Clone%20Wars%20(2008)%20-%20All%20Media%20Types/works'\n"
   ]
  },
  {
   "cell_type": "code",
   "execution_count": 77,
   "metadata": {},
   "outputs": [],
   "source": [
    "#headers = {'user-agent' : header_info}\n",
    "req = requests.get(url)\n",
    "src = req.text\n",
    "soup = BeautifulSoup(src, 'html.parser')\n"
   ]
  },
  {
   "cell_type": "code",
   "execution_count": 122,
   "metadata": {},
   "outputs": [],
   "source": [
    "def get_tags(meta):\n",
    "    '''\n",
    "    returns a list of lists, of\n",
    "    rating, category, fandom, pairing, characters, additional_tags\n",
    "    '''\n",
    "    tags = ['relationships', 'characters', 'freeforms']\n",
    "    return list(map(lambda tag: get_tag_info(tag, meta), tags))\n",
    "    "
   ]
  },
  {
   "cell_type": "code",
   "execution_count": 111,
   "metadata": {},
   "outputs": [],
   "source": [
    "def get_tag_info(category, meta):\n",
    "    '''\n",
    "    given a category and a 'work meta group, returns a list of tags (eg, 'rating' -> 'explicit')\n",
    "    '''\n",
    "    try:\n",
    "        tag_list = meta.find_all(\"li\", class_=str(category))\n",
    "    except AttributeError as e:\n",
    "        return []\n",
    "    return [unidecode(result.text) for result in tag_list] "
   ]
  },
  {
   "cell_type": "code",
   "execution_count": 112,
   "metadata": {},
   "outputs": [],
   "source": [
    "def get_required_tags(work):\n",
    "    req_tags = work.find(class_='required-tags').find_all('a')\n",
    "    return [x.text for x in req_tags]"
   ]
  },
  {
   "cell_type": "code",
   "execution_count": 113,
   "metadata": {},
   "outputs": [],
   "source": [
    "def get_stats(work):\n",
    "    '''\n",
    "    returns a list of  \n",
    "    language, published, status, date status, words, chapters, comments, kudos, bookmarks, hits\n",
    "    '''\n",
    "    categories = ['language', 'words', 'chapters', 'collections', 'comments', 'kudos', 'bookmarks', 'hits'] \n",
    "    stats = []\n",
    "    for cat in categories:\n",
    "        try:\n",
    "            result = work.find(\"dd\", class_=cat).text\n",
    "        except:\n",
    "            result = ''\n",
    "        stats.append(result)\n",
    "    return stats\n",
    "  "
   ]
  },
  {
   "cell_type": "code",
   "execution_count": 114,
   "metadata": {},
   "outputs": [],
   "source": [
    "def get_header(work):\n",
    "    '''\n",
    "    returns work_id, title, author, gifted to user\n",
    "    '''\n",
    "    \n",
    "    result = work.find('h4', class_='heading').find_all('a')\n",
    "    work_id = result[0].get('href').strip('/works/')\n",
    "    title = result[0].text\n",
    "    author = result[1].text\n",
    "    if len(result) == 3:\n",
    "        gifted = result[2].text\n",
    "    else:\n",
    "        gifted = ''\n",
    "    return [work_id, title, author, gifted]"
   ]
  },
  {
   "cell_type": "code",
   "execution_count": 115,
   "metadata": {},
   "outputs": [],
   "source": [
    "def get_fandoms(work):\n",
    "    try:\n",
    "        tag_list = work.find('h5', class_='fandoms heading').find_all('a')\n",
    "    except AttributeError as e:\n",
    "        return []\n",
    "    return [unidecode(result.text) for result in tag_list]    "
   ]
  },
  {
   "cell_type": "code",
   "execution_count": 125,
   "metadata": {},
   "outputs": [],
   "source": [
    "def get_summary(work):\n",
    "    try:\n",
    "        summary = work.find('blockquote', class_='userstuff summary').text.strip()\n",
    "    except AttributeError as e:\n",
    "        summary = ''\n",
    "    return [summary]"
   ]
  },
  {
   "cell_type": "code",
   "execution_count": 117,
   "metadata": {},
   "outputs": [],
   "source": [
    "def get_updated(work):\n",
    "    try:\n",
    "        date = work.find('p', class_='datetime').text\n",
    "    except AttributeError as e:\n",
    "        date = ''\n",
    "    return [date]"
   ]
  },
  {
   "cell_type": "code",
   "execution_count": 131,
   "metadata": {},
   "outputs": [
    {
     "name": "stdout",
     "output_type": "stream",
     "text": [
      "Mar052020\n"
     ]
    }
   ],
   "source": [
    "import datetime\n",
    "x = datetime.datetime.now()\n",
    "print(x.strftime(\"%b%d%Y\"))\n",
    "scrape_date = datetime.datetime.now().strftime(\"%d %b %Y\")"
   ]
  },
  {
   "cell_type": "code",
   "execution_count": 119,
   "metadata": {},
   "outputs": [],
   "source": [
    "def get_series(work):\n",
    "    try:\n",
    "        series = work.find('ul', class_='series')\n",
    "        part = series.find('strong').text\n",
    "        s_name = series.find('a').text\n",
    "    except AttributeError as e:\n",
    "        part, s_name = '', ''\n",
    "    return [part, s_name]"
   ]
  },
  {
   "cell_type": "code",
   "execution_count": 133,
   "metadata": {},
   "outputs": [
    {
     "name": "stdout",
     "output_type": "stream",
     "text": [
      "['work_id', 'title', 'author', 'gifted', 'rating', 'warnings', 'category', 'status', 'fandom', 'relationship', 'character', 'additional tags', 'summary', 'language', 'words', 'chapters', 'collections', 'comments', 'kudos', 'bookmarks', 'hits', 'series_part', 'series_name', 'updated', 'scrape_date']\n",
      "Row: ['23032642', 'A Master’s Hold', 'Paranormal_Shitness', '', 'Mature', 'No Archive Warnings Apply', 'F/M, M/M, Multi', 'Complete Work', 'Star Wars Prequel Trilogy', 'Star Wars: The Clone Wars (2008) - All Media Types', 'Obi-Wan Kenobi/Anakin Skywalker, Padme Amidala/Anakin Skywalker, Obi-Wan Kenobi/Satine Kryze', 'Anakin Skywalker, Obi-Wan Kenobi, Padme Amidala', \"Oral Sex, Force Bond, Master/Padawan, Anakin Won't Take No For An Answer, Which is Alright Because Obi-Wan Doesn't Really Want To Say It, dubcon, Anakin Is Still Too Horny, Padme Is Unflappable, Obi-Wan Has Never Gotten A Blowjob In His Life, Sexually Repressed Jedi\", 'Obi-Wan struggles to maintain control of his pupil even as Anakin’s secret marriage threatens his loyalty to the Jedi Order.Set three years after the events of Growing Pains.', 'English', '4,753', '1/1', '', '1', '10', '1', '139', '2', 'A Show Of Force', '06 Mar 2020', '05 Mar 2020']\n",
      "*****\n",
      "['work_id', 'title', 'author', 'gifted', 'rating', 'warnings', 'category', 'status', 'fandom', 'relationship', 'character', 'additional tags', 'summary', 'language', 'words', 'chapters', 'collections', 'comments', 'kudos', 'bookmarks', 'hits', 'series_part', 'series_name', 'updated', 'scrape_date']\n",
      "Row: ['23007169', 'your hands protect the flames', 'MageOfCole', '', 'Teen And Up Audiences', 'Graphic Depictions Of Violence', 'Gen', 'Work in Progress', 'Star Wars - All Media Types', 'Star Wars: The Clone Wars (2008) - All Media Types', 'Star Wars Legends - All Media Types', 'Star Wars: Rebels', 'Star Wars: Rebellion Era - All Media Types', 'Star Wars Prequel Trilogy', 'CC-2224 | Cody/Obi-Wan Kenobi, CC-2224 | Cody & Mara Jade, Mara Jade & Obi-Wan Kenobi, Mara Jade & Clone Troopers, Mara Jade & Wooley (Star Wars), Mara Jade & CC-4477 | Thire, Mara Jade & CC-2237 | Odd Ball, Mara Jade & Trapper (Star Wars)', 'Mara Jade, CC-2224 | Cody, Obi-Wan Kenobi, CT-7567 | Rex, Wooley (Star Wars), CC-4477 | Thire, CC-2237 | Odd Ball, Trapper (Star Wars), Stormtrooper Character(s), Ahsoka Tano, Original Imperial Character(s) (Star Wars), The Third Brother | Brother Meklis (OC)', \"Alternate Universe, Alternate Universe - Canon Divergence, Mara Jade is Obi-Wan's daughter, Mara Jade is Cody's daughter, Clones, Undercover, First Mission, Female Obi-Wan Kenobi, Child Soldiers, The Force, Stormtrooper Rebellion, Rebellion, Aliases, Covert Operation, Mara is collecting uncles, headcanons, the clones deserve better, Serial Numbers, Teenagers, Rating May Change, Operation: Rescue Clones is a GO, Gender-Neutral Pronouns, Minor Original Character(s), Post-Order 66, Mind Control, Attempted Murder, mute character, Mute Trapper, Bad Touch, Non-Consensual Touching, Panic Attacks, POV Biracial Character, Head Injury, Cliffhangers, Self-Harm, Mando'a, Space Curses, cursing, Sadism, Murder, Non-Consensual Kissing, Violence\", 'Jade Kenobi is just another unwanted child looking to make a name for herself in the Imperial Army; she’s talented, but not quite good enough to be the best. And that’s fine, because she’s assigned to combat trooper training, under veterans of the Clone Wars.', 'English', '8,023', '5/?', '', '107', '100', '12', '1333', '18', 'Children of Hope and Glory', '06 Mar 2020', '05 Mar 2020']\n",
      "*****\n",
      "['work_id', 'title', 'author', 'gifted', 'rating', 'warnings', 'category', 'status', 'fandom', 'relationship', 'character', 'additional tags', 'summary', 'language', 'words', 'chapters', 'collections', 'comments', 'kudos', 'bookmarks', 'hits', 'series_part', 'series_name', 'updated', 'scrape_date']\n",
      "Row: ['22888390', 'Star Wars Drabbles', 'Raven_Song', '', 'Mature', 'No Archive Warnings Apply', 'Multi, F/F, M/M', 'Work in Progress', 'Star Wars - All Media Types', 'Star Wars Sequel Trilogy', 'Star Wars Prequel Trilogy', 'Star Wars Original Trilogy', 'Star Wars: The Clone Wars (2008) - All Media Types', 'Armitage Hux/Ben Solo | Kylo Ren, Kaydel Ko Connix/Rose Tico, Leia Organa/Han Solo', \"Armitage Hux, Ben Solo | Kylo Ren, Rose Tico, Kaydel Ko Connix, Paige Tico (mentioned), Armitage Hux's Mother, (mentioned), Rey (Star Wars), Obi-Wan Kenobi, Anakin Skywalker, CT-7567 | Rex, Leia Organa, Han Solo\", \"Kylux - Freeform, Hux is not a morning person, Secret Relationship, Kylo is a cocky bastard, Teasing, Making Out, Implied Sexual Content, Implied Relationships, Rose needs a nap, Nicknames, Friends to Lovers, Talking to machines, Grief/Mourning, Chewie ships it, Sleepy Cuddles, Protective Connix, Gingerflower, Tasers, Rose stuns Hux, Hux is a Resistance prisoner, Accidental Bonding, Force Dyad (Star Wars), Force Bond (Star Wars), Cliffhangers, it's not going to be resolved I'm sorryyy, Obi-Wan is stressed, Human Disaster Anakin Skywalker, Clone Wars, Anakin is a drama queen, Rated M for intense makeouts, Force-Sensitive Leia Organa, Senator Leia Organa, Confessions, Domestic Fluff, hanleia, Space Mom Leia Organa, Smuggler Han Solo, Family Fluff\", 'Little drabbles from prompts I find on Pinterest! If there are any prompts or characters you want to see, pls request them in the comments!Updates daily', 'English', '3,351', '7/?', '', '13', '10', '', '164', '4', 'Star Wars Oneshots', '05 Mar 2020', '05 Mar 2020']\n",
      "*****\n",
      "['work_id', 'title', 'author', 'gifted', 'rating', 'warnings', 'category', 'status', 'fandom', 'relationship', 'character', 'additional tags', 'summary', 'language', 'words', 'chapters', 'collections', 'comments', 'kudos', 'bookmarks', 'hits', 'series_part', 'series_name', 'updated', 'scrape_date']\n",
      "Row: ['23035222', 'Firefight', 'Icarus_is_flying', '', 'Teen And Up Audiences', 'No Archive Warnings Apply', 'Gen', 'Complete Work', 'Star Wars: The Clone Wars (2008) - All Media Types', '', 'CC-6454 | Ponds, Mace Windu', \"Canon-Typical Violence, Canon Compliant, Injury, Mace isn't leaving anybody behind, Clone's view of the Force, which is that it's insane, Hurt/Comfort\", 'General Windu talked a lot about\\xa0dejarik--caught in the fork, under the thumb, boxed in. A lot of terms for the same situation. Pinned down in a skirmish, wounded, and separated from his men, Ponds was pretty sure this fit the bill.', 'English', '1,235', '1/1', '', '', '', '', '0', '', '', '05 Mar 2020', '05 Mar 2020']\n",
      "*****\n",
      "['work_id', 'title', 'author', 'gifted', 'rating', 'warnings', 'category', 'status', 'fandom', 'relationship', 'character', 'additional tags', 'summary', 'language', 'words', 'chapters', 'collections', 'comments', 'kudos', 'bookmarks', 'hits', 'series_part', 'series_name', 'updated', 'scrape_date']\n",
      "Row: ['21433774', 'The ARCs, the Jedi, and the 501st', 'Gerstein03', '', 'Mature', 'Graphic Depictions Of Violence, Major Character Death', 'F/M', 'Work in Progress', 'Star Wars: The Clone Wars (2008) - All Media Types', \"CT-27-5555 | Fives | ARC-5555/Ahsoka Tano, CT-27-5555 | Fives | ARC-5555 & CT-7567 | Rex, CT-21-0408 | Echo/CT-27-5555 | Fives | ARC-5555, Obi-Wan Kenobi & Anakin Skywalker, CC-2224 | Cody/CT-7567 | Rex, Anakin Skywalker & Ahsoka Tano, more relationships that I don't feel like typing, Padme Amidala/Anakin Skywalker\", 'Ahsoka Tano, CT-27-5555 | Fives | ARC-5555, CT-21-0408 | Echo, CT-7567 | Rex, Anakin Skywalker, Obi-Wan Kenobi, CC-2224 | Cody, CT-4040 | Cutup, Coric (Star Wars), CT-1359 | Opie (original character), Padme Amidala, CT-6116 | Kix, CT-5597 | Jesse, CT-7635 | Tector (Original Character), Asajj Ventress', \"Mix of one shots and longer stories, 501st adventures, I named the OC Opie because I like Sons of Anarchy, Fives and Ahsoka had no interactions in the show and it pisses me off, Cutup died like a bitch so I undid that cause he was interesting, Anakin and Padme's secret is a poorly kept secret\", 'Adventures of Anakin, Obi-Wan, Ahsoka, and the 501st throughout the clone wars', 'English', '11,050', '8/?', '', '14', '30', '8', '1099', '', '', '05 Mar 2020', '05 Mar 2020']\n",
      "*****\n",
      "['work_id', 'title', 'author', 'gifted', 'rating', 'warnings', 'category', 'status', 'fandom', 'relationship', 'character', 'additional tags', 'summary', 'language', 'words', 'chapters', 'collections', 'comments', 'kudos', 'bookmarks', 'hits', 'series_part', 'series_name', 'updated', 'scrape_date']\n",
      "Row: ['22904989', \"CC-2224 (Cody)'s Guide to General Obi-Wan Kenobi\", 'ThirteenthMouse6572', '', 'Teen And Up Audiences', 'No Archive Warnings Apply', 'Gen, Multi', 'Work in Progress', 'Star Wars: The Clone Wars (2008) - All Media Types', 'Star Wars - All Media Types', 'Star Wars Prequel Trilogy', 'CC-2224 | Cody & Obi-Wan Kenobi, 212th Attack Battalion & Obi-Wan Kenobi, CC-2224 | Cody/Obi-Wan Kenobi, 212th Attack Battalion/Obi-Wan Kenobi', 'CC-2224 | Cody, 212th Attack Battalion, Obi-Wan Kenobi, Anakin Skywalker, CT-7567 | Rex, Original Clone Trooper Character(s), Waxer (Star Wars), Longshot (Star Wars), Wooley (Star Wars), Boil (Star Wars)', \"Attempt at Humor, First Meetings, Angst, Fluff, Misunderstandings, Other Additional Tags to Be Added, Obi-Wan Kenobi Needs a Hug, so happy that's a tag, Sickfic, Podfic Welcome, Post-Episode: s04e10 Carnage of Krell, Cuddling & Snuggling\", \"a collection of one- and two-shots in cody's pov, and his adventures and thoughts on the 212th's general\", 'English', '9,632', '10/?', '', '17', '244', '28', '2535', '', '', '05 Mar 2020', '05 Mar 2020']\n",
      "*****\n",
      "['work_id', 'title', 'author', 'gifted', 'rating', 'warnings', 'category', 'status', 'fandom', 'relationship', 'character', 'additional tags', 'summary', 'language', 'words', 'chapters', 'collections', 'comments', 'kudos', 'bookmarks', 'hits', 'series_part', 'series_name', 'updated', 'scrape_date']\n",
      "Row: ['22336816', 'Ripples', 'Blue_Sunshine', '', 'General Audiences', 'No Archive Warnings Apply', 'F/M, Gen', 'Work in Progress', 'Star Wars - All Media Types', 'Star Wars Prequel Trilogy', 'Star Wars: The Clone Wars (2008) - All Media Types', 'Star Wars Original Trilogy', 'Shmi Skywalker/Tholme', 'Ben Naasade, Obi-Wan Kenobi, Shaak Ti, Shmi Skywalker, Quinlan Vos, Plo Koon, OC Healer Ylar Kala, nightbrothers - Character, Tholme, Anakin Skywalker, Jax Pavan, Bruck Chun, OC Healer Weyl-Va', 'Jedi Temple, Master & Padawan Relationship(s), Jedi Training (Star Wars), Pregnancy, Rivalry, Talking, talking about feelings, Cultural Differences, Classes', 'If you are going to cast stones in ponds, you should expect to get wet.', 'English', '54,058', '23/?', '', '1108', '1322', '106', '19760', '17', 'The Desert Storm', '05 Mar 2020', '05 Mar 2020']\n",
      "*****\n",
      "['work_id', 'title', 'author', 'gifted', 'rating', 'warnings', 'category', 'status', 'fandom', 'relationship', 'character', 'additional tags', 'summary', 'language', 'words', 'chapters', 'collections', 'comments', 'kudos', 'bookmarks', 'hits', 'series_part', 'series_name', 'updated', 'scrape_date']\n",
      "Row: ['23034340', 'Watch Out For Us', 'innocent_until_proven_geeky', '', 'General Audiences', 'No Archive Warnings Apply', 'Gen', 'Complete Work', 'Star Wars: The Clone Wars (2008) - All Media Types', 'Star Wars - All Media Types', 'CT-7567 | Rex & Anakin Skywalker, Padme Amidala/Anakin Skywalker, Padme Amidala/Anakin Skywalker (mentioned)', 'Anakin Skywalker, CT-7567 | Rex, CT-5597 | Jesse, CT-5597 | Jesse (mentioned), Padme Amidala, Padme Amidala (mentioned)', 'Season 7 Spoilers, Clone Wars Season 7, TCWS7, Requested, 501st Legion (mentioned)', 'Anakin asks Rex a very important question.', 'English', '704', '1/1', '', '', '2', '', '24', '', '', '05 Mar 2020', '05 Mar 2020']\n",
      "*****\n",
      "['work_id', 'title', 'author', 'gifted', 'rating', 'warnings', 'category', 'status', 'fandom', 'relationship', 'character', 'additional tags', 'summary', 'language', 'words', 'chapters', 'collections', 'comments', 'kudos', 'bookmarks', 'hits', 'series_part', 'series_name', 'updated', 'scrape_date']\n",
      "Row: ['20770904', 'Tallying Scars', 'Aelwyn', '', 'Teen And Up Audiences', 'Major Character Death', 'No category', 'Work in Progress', 'Star Wars: The Clone Wars (2008) - All Media Types', 'Star Wars - All Media Types', '', 'CT-7567 | Rex, CC-2224 | Cody, CT-27-5555 | Fives | ARC-5555, CT-21-0408 | Echo, CT-5597 | Jesse, CT-6116 | Kix, Anakin Skywalker, Obi-Wan Kenobi, Ahsoka Tano, R2-D2 (Star Wars), Padme Amidala, C-3PO (Star Wars), Bail Organa, Original Clone Trooper Character(s), Hardcase (Star Wars), CT-5385 | Tup, Dogma (Star Wars), Waxer (Star Wars), Boil (Star Wars), Original Jedi Character(s)', \"Emotional Hurt/Comfort, Canonical Character Death, Not A Fix-It, This is Rex's Story, Cross-Posted on Wattpad, Star Wars Legends: Jedi Apprentice Series References, Star Wars Legends: Clone Commando Series References, No Rexsoka, not in the slightest, purely platonic relationship, like a brother and sister\", 'A long time ago in a galaxy far, far away...STAR WARS: THE CLONE WARSTALLYING SCARSIn a galaxy divided by war, it falls to the Grand Army of the Republic to restore the peace. The CLONE ARMY, led by Jedi commanders, continues to fight admirably in the face of overwhelming odds.Unfortunately, due to the taxing and stressful demands of battle many troopers are falling prey to an unrest which has spread through the ranks like a cancer. No one is immune. As more and more of the clones are killed in the war, the more fragile the predicament grows.Even the command of Anakin Skywalker, the 501st, has seen its fair share of losses. Unquestioning loyalty is put to the ultimate test in a new campaign against trust, and it falls to CAPTAIN REX to maintain order in a galaxy in the throes of chaos...', 'English', '103,861', '60/62', '', '4', '28', '3', '482', '', '', '05 Mar 2020', '05 Mar 2020']\n",
      "*****\n",
      "['work_id', 'title', 'author', 'gifted', 'rating', 'warnings', 'category', 'status', 'fandom', 'relationship', 'character', 'additional tags', 'summary', 'language', 'words', 'chapters', 'collections', 'comments', 'kudos', 'bookmarks', 'hits', 'series_part', 'series_name', 'updated', 'scrape_date']\n",
      "Row: ['23033674', 'On the Applications of Scarlet', 'blackkat', '', 'Teen And Up Audiences', 'No Archive Warnings Apply', 'M/M', 'Complete Work', 'Star Wars: The Clone Wars (2008) - All Media Types', 'CC-1010 | Fox/Obi-Wan Kenobi', 'Obi-Wan Kenobi, CC-1010 | Fox, CC-4477 | Thire', \"Alternate Universe - Everyone Lives/Nobody Dies, Humor, Flirting, Mutual Pining, well it's mutual in my head, Flustered Fox\", '“Oh, Commander,” Obi-Wan says, delighted. “Is that new armor? I have to say, that shade of red’s quite striking.”', 'English', '689', '1/1', '', '11', '77', '6', '297', '12', 'sol is a bastard and I never expected to be part of this fandom', '05 Mar 2020', '05 Mar 2020']\n",
      "*****\n",
      "['work_id', 'title', 'author', 'gifted', 'rating', 'warnings', 'category', 'status', 'fandom', 'relationship', 'character', 'additional tags', 'summary', 'language', 'words', 'chapters', 'collections', 'comments', 'kudos', 'bookmarks', 'hits', 'series_part', 'series_name', 'updated', 'scrape_date']\n",
      "Row: ['23031859', 'Arsus and Khoan Drabble Collection', 'amyhittheatmophere', '', 'Teen And Up Audiences', 'Choose Not To Use Archive Warnings, No Archive Warnings Apply', 'Gen, M/M', 'Work in Progress', 'Star Wars: The Clone Wars (2008) - All Media Types', 'Original Work', 'arsus delste/khoan cyone, Original Male Character/Original Male Character', 'arsus delste, khoan cyone', 'Original Character(s), Suggestive Themes, LGBTQ Themes, LGBTQ Character, Gay, Gay Male Character, Post-Star Wars: The Clone Wars, Canon-Typical Violence, Threats of Violence, Sith Empire, Jedi, Gray Jedi, Other Additional Tags to Be Added', \"Set in the Star Wars universe, Lancelin Winwar, under the alias 'Arsus Delste', is a undercover Sith Lord, Lord Maris, who has spent years settling himself into the Jedi temple on Coruscant. He has finally reached a high enough rank that he has been given a Padawan to train in the ways of the Jedi, Khoan Cyone. However, Lancelin doesn't intend to teach him the Jedi way, but the Sith way of the Force.These are some of their adventures, misfortunes, and messy moments in thier everyday lives.(yes, I take requests/prompts please send them my crops are dying I-)\", 'English', '504', '1/?', '', '', '', '', '2', '1', 'Star Wars AU', '05 Mar 2020', '05 Mar 2020']\n",
      "*****\n",
      "['work_id', 'title', 'author', 'gifted', 'rating', 'warnings', 'category', 'status', 'fandom', 'relationship', 'character', 'additional tags', 'summary', 'language', 'words', 'chapters', 'collections', 'comments', 'kudos', 'bookmarks', 'hits', 'series_part', 'series_name', 'updated', 'scrape_date']\n",
      "Row: ['22980811', 'Scion of the Empire', 'Jaina_Pridemoore', '', 'Mature', 'Graphic Depictions Of Violence, Major Character Death', 'F/F, M/M, Multi', 'Work in Progress', 'Star Wars - All Media Types', 'Star Wars Original Trilogy', 'Star Wars: The Clone Wars (2008) - All Media Types', 'Rogue One: A Star Wars Story (2016)', 'Leia Organa/Bisexuality, Luke Skywalker/Han Solo, Barriss Offee/Ahsoka Tano, Barriss Offee & Ahsoka Tano', 'Leia Organa, Luke Skywalker, Han Solo, Obi-Wan Kenobi, Ahsoka Tano, Barriss Offee, Padme Amidala, Inquisitors, Luminara Unduli, Wilhuff Tarkin', 'Sith Leia Organa, Padme Amidala Lives, Vader is dead, Rebel Queen Padme Amidala, Barrissoka melodrama, Basically Leia is Space Azula', 'Darth Vader was slain on Mustafar, depriving the Inquisitorius of the Master it needed, the Empire of its enforcer, and Darth Sidious of his perfect apprentice…Until he found Vader’s daughter, that is. Now, after a lifetime of brutal training, Darth Ravous has been unleashed on the galaxy. Corrupt officers, the terrorist rebellion, their cowardly general Amidala… none will withstand her wrath. OR: A New Hope, if Leia was raised by Palpatine.', 'English', '11,960', '4/19', '', '7', '14', '1', '130', '1', 'Sith!Leia', '05 Mar 2020', '05 Mar 2020']\n",
      "*****\n",
      "['work_id', 'title', 'author', 'gifted', 'rating', 'warnings', 'category', 'status', 'fandom', 'relationship', 'character', 'additional tags', 'summary', 'language', 'words', 'chapters', 'collections', 'comments', 'kudos', 'bookmarks', 'hits', 'series_part', 'series_name', 'updated', 'scrape_date']\n",
      "Row: ['21686296', 'The World Turned Upside Down', 'DuchessKenobi', '', 'Teen And Up Audiences', 'Choose Not To Use Archive Warnings', 'F/M', 'Work in Progress', 'Star Wars: The Clone Wars (2008) - All Media Types', 'Star Wars - All Media Types', 'Star Wars', 'Korkie Kryze/Soniee, Lux Bonteri/Soniee', 'Soniee (Star Wars), Bail Organa, Lux Bonteri, Breha Organa, Riyo Chuchi, Ion Papanoida, Almec (Star Wars), Saw Gerrera, Korkie Kryze, Lagos (Star Wars), Cham Syndulla', 'Post-Order 66, Hamilton References', \"This is an alternate sequel to my story the Ashla Spectrum. Royal Academy of Government Cadet Soniee is Force Sensitive though she was never sent to the Temple to learn how to control her powers. She did however visit Coruscant during the period covered in the last several episodes of season 5 of the Clone Wars and interacted with many of the senators and Jedi and took part in those events. She got back to Sundari in time to take part in the Siege of Mandalore and... this is what happens after that. I recommend reading the Ashla Spectrum first but i'll try to keep you in the loop if you haven't.\", 'English', '42,896', '13/?', '', '2', '', '', '88', '', '', '05 Mar 2020', '05 Mar 2020']\n",
      "*****\n",
      "['work_id', 'title', 'author', 'gifted', 'rating', 'warnings', 'category', 'status', 'fandom', 'relationship', 'character', 'additional tags', 'summary', 'language', 'words', 'chapters', 'collections', 'comments', 'kudos', 'bookmarks', 'hits', 'series_part', 'series_name', 'updated', 'scrape_date']\n",
      "Row: ['13776939', 'i take from you everything you will allow', 'chameleonchanging', '', 'Teen And Up Audiences', 'Choose Not To Use Archive Warnings', 'M/M', 'Work in Progress', 'Star Wars: The Clone Wars (2008) - All Media Types', 'Star Wars - All Media Types', 'Plo Koon/CC-3636 | Wolffe', 'Plo Koon, CC-3636 | Wolffe', 'Tumblr Prompt, Ficlet Collection', 'Wolffe and Plo and three long years in the Clone Wars, navigating a relationship that no one - including them - understands.', 'English', '8,568', '13/?', '', '35', '152', '29', '1998', '', '', '05 Mar 2020', '05 Mar 2020']\n",
      "*****\n",
      "['work_id', 'title', 'author', 'gifted', 'rating', 'warnings', 'category', 'status', 'fandom', 'relationship', 'character', 'additional tags', 'summary', 'language', 'words', 'chapters', 'collections', 'comments', 'kudos', 'bookmarks', 'hits', 'series_part', 'series_name', 'updated', 'scrape_date']\n",
      "Row: ['22786525', 'All Our Friends Want Us to Fall in Love', 'CaliBDiamond', '', 'Mature', 'Choose Not To Use Archive Warnings, No Archive Warnings Apply', 'F/M, Gen', 'Work in Progress', 'Star Wars: The Clone Wars (2008) - All Media Types', 'Original Clone Trooper Character(s)/Original Jedi Character(s)', 'Original Clone Trooper Character(s), Original Female Character(s), Original Jedi Character(s), Clone Troopers (Star Wars), Mace Windu, Obi-Wan Kenobi, Ahsoka Tano, Anakin Skywalker', 'Fluff, Angst, Friends to Lovers, Secret Relationship, Alternate Universe - Canon Divergence', \"It's obvious that something is happening between Iza Tacor and Clone Trooper Catcher, but they'll do their best to keep it hidden for as long as possible.\", 'English', '97,084', '14/?', '', '2', '14', '3', '217', '1', 'Show Me Your Love', '05 Mar 2020', '05 Mar 2020']\n",
      "*****\n",
      "['work_id', 'title', 'author', 'gifted', 'rating', 'warnings', 'category', 'status', 'fandom', 'relationship', 'character', 'additional tags', 'summary', 'language', 'words', 'chapters', 'collections', 'comments', 'kudos', 'bookmarks', 'hits', 'series_part', 'series_name', 'updated', 'scrape_date']\n",
      "Row: ['22053910', 'Space Race', 'planningconquest', '', 'Teen And Up Audiences', 'No Archive Warnings Apply', 'No category', 'Work in Progress', 'Star Wars - All Media Types', 'Star Wars Original Trilogy', 'Star Wars: Rebels', 'Star Wars: The Clone Wars (2008) - All Media Types', \"Leia Organa & Luke Skywalker, Luke Skywalker & Darth Vader, Leia Organa & Darth Vader, Past Qi'ra/Han Solo\", 'Luke Skywalker, Leia Organa, Han Solo, Darth Maul, Darth Vader, Obi-Wan Kenobi, R2-D2 (Star Wars), C-3PO (Star Wars), Kanan Jarrus, Ezra Bridger, Lando Calrissian, Greef Karga', 'Not-So-Dark Luke Skywalker, Not-So-Dark Leia Organa, Sith Training, Kidnapping, Aftermath of Torture, dark vs light, Space Race for the Twins, Escape', 'Darth Vader is plagued by visions and nightmares that become very real when the two Sith Apprentices make an untimely appearance.Obi-Wan Kenobi is on the trail of the kidnapped Luke and Leia, hunting them across the galaxy before it is too late.', 'English', '15,297', '11/?', '1', '51', '154', '28', '2365', '', '', '05 Mar 2020', '05 Mar 2020']\n",
      "*****\n",
      "['work_id', 'title', 'author', 'gifted', 'rating', 'warnings', 'category', 'status', 'fandom', 'relationship', 'character', 'additional tags', 'summary', 'language', 'words', 'chapters', 'collections', 'comments', 'kudos', 'bookmarks', 'hits', 'series_part', 'series_name', 'updated', 'scrape_date']\n",
      "Row: ['21503773', 'Jedi Babysitting for Professionals', 'Nihes', '', 'General Audiences', 'No Archive Warnings Apply', 'Gen', 'Work in Progress', 'Star Wars - All Media Types', 'Star Wars: The Clone Wars (2008) - All Media Types', 'Star Wars Prequel Trilogy', 'CC-2224 | Cody & Obi-Wan Kenobi, Padme Amidala/Anakin Skywalker (mentioned)', 'CC-2224 | Cody, Obi-Wan Kenobi', 'Alternate Universe - Canon Divergence, post-ROTS, Bromance, Alternate Universe - Everyone Lives/Nobody Dies, except Palpatine, Fix-It of Sorts, Politics, Bureaucracy, Protective Cody, Fluff and Crack, Anakin Skywalker is a Little Shit, Slice of Life, Snark', \"The war is over, Palpatine is dead, and everything should be fine. Except, of course, that Cody's general still manages to need babysitting, Skywalker causes trouble, the Senate is a collection of idiots, and Cody has to deal with the nightmare that is Republican bureaucracy.Oh, and Cody also needs to find a new job.\", 'English', '10,706', '3/5', '', '43', '308', '66', '2286', '', '', '05 Mar 2020', '05 Mar 2020']\n",
      "*****\n",
      "['work_id', 'title', 'author', 'gifted', 'rating', 'warnings', 'category', 'status', 'fandom', 'relationship', 'character', 'additional tags', 'summary', 'language', 'words', 'chapters', 'collections', 'comments', 'kudos', 'bookmarks', 'hits', 'series_part', 'series_name', 'updated', 'scrape_date']\n",
      "Row: ['22427221', 'Sky Trek: Over Still Waters', 'Jackxter', '', 'Teen And Up Audiences', 'No Archive Warnings Apply', 'F/F', 'Complete Work', 'Star Trek', 'Star Trek: The Next Generation', 'Star Wars - All Media Types', 'Star Wars Sequel Trilogy', 'Star Wars: The Clone Wars (2008) - All Media Types', 'Mass Effect Trilogy', 'Mass Effect - All Media Types', 'Teen Titans (Animated Series)', 'Hazbin Hotel (Web Series)', 'Stargate - All Media Types', 'Stargate Atlantis', 'Undertale (Video Game)', 'My Little Pony: Friendship is Magic', 'Fullmetal Alchemist: Brotherhood & Manga', 'Harry Potter - J. K. Rowling', 'Charlie Magne/Vaggie, Alphys/Undyne (Undertale), Jean-Luc Picard/Earl Grey Tea', \"Jean-Luc Picard, Geordi La Forge, Tasha Yar, William Riker, Rodney McKay, Cyborg (Character), Raven (DCU), Leia Organa, Ben Solo | Kylo Ren, Ahsoka Tano, Undyne (Undertale), Alphys (Undertale), Papyrus (Undertale), Sans (Undertale), Alphonse Elric, Princess Luna, Pipsqueak, Sunset Shimmer, Liara T'Soni, Worf (Star Trek:TNG/DS9), Charlie Magne, Hermione Granger\", 'Mash-up, Combined Fandoms, Fantasy, Airships, Skyships, Multiple Universes Colliding, Magitek, Magic, Magic Versus Technology, Elves, Demons, Monsters, Scifi Races to Fantasy Counterparts, Slice of Life, Jedi, The Force, Heartwarming, Solarpunk, Diselpunk, optimistic, Humanized Equestrians, Tieflings, Nymphs & Dryads', \"After the somewhat tense encounter at Farpoint, the Enterprise begins the relatively easy task of charting the previously inaccessible Arcturian Sea. This gives many of the crew quite a bit of free time, including four in particular.Luna attempts to bond with a former student of her sister, but finds her distant. Victor Stone gains the attention of a skilled alchemist, though not for the reason he expected. Leia tries to find out why her son, Ben, has been avoiding her. And finally, Tasha becomes the training partner of Undyne, who tries to unlock the former's magical potential. The calm before the next storm begins.--Sky Trek is a series that takes a bunch of fandoms, merges them together, and puts everything in a deiselpunk/solarpunk fantasy setting.\", 'English', '20,061', '5/5', '', '1', '6', '', '138', '2', 'Sky Trek', '05 Mar 2020', '05 Mar 2020']\n",
      "*****\n",
      "['work_id', 'title', 'author', 'gifted', 'rating', 'warnings', 'category', 'status', 'fandom', 'relationship', 'character', 'additional tags', 'summary', 'language', 'words', 'chapters', 'collections', 'comments', 'kudos', 'bookmarks', 'hits', 'series_part', 'series_name', 'updated', 'scrape_date']\n",
      "Row: ['23010139', 'Staring at the Sun', 'suburbia_goddess', '', 'Teen And Up Audiences', 'No Archive Warnings Apply', 'F/M', 'Work in Progress', 'Star Wars: The Clone Wars (2008) - All Media Types', 'Hunter (The Bad Batch) / Reader', 'Hunter (Star Wars: The Clone Wars), Tech (Star Wars), Wrecker (Star Wars), Crosshair (Star Wars)', \"I just think Hunter is neat, Crosshair is a sly bastard and i love him for it, tech deserves the world, wrecker stays out of this drama for the most part because he doesnt know what to do about it, hunter just wants to get back to you and crosshair isnt letting either of you have it, listen i love crosshair, hes just, he doesnt get it, he'll get his turn tho\", 'The Bad Batch gets some \"shore\" leave, and they decide to go out like most other clones to 79s. Hunter didn\\'t expect to meet someone he would get attached too so quickly, but when do things really go as planned when others, besides his brothers, are involved?', 'English', '4,783', '2/?', '', '1', '10', '', '75', '1', 'Staring At The Sun', '05 Mar 2020', '05 Mar 2020']\n",
      "*****\n"
     ]
    },
    {
     "name": "stdout",
     "output_type": "stream",
     "text": [
      "['work_id', 'title', 'author', 'gifted', 'rating', 'warnings', 'category', 'status', 'fandom', 'relationship', 'character', 'additional tags', 'summary', 'language', 'words', 'chapters', 'collections', 'comments', 'kudos', 'bookmarks', 'hits', 'series_part', 'series_name', 'updated', 'scrape_date']\n",
      "Row: ['23028571', 'Maybe', 'MinnieTheMoocherDA', '', 'General Audiences', 'No Archive Warnings Apply', 'M/M', 'Complete Work', 'Star Wars: The Clone Wars (2008) - All Media Types', 'Star Wars - All Media Types', 'Star Wars: Rebels', 'Gobi Glie/Cham Syndulla, Gobi Glie & Cham Syndulla, Kanan Jarrus/Hera Syndulla, Cham Syndulla & Hera Syndulla, CC-6454 | Ponds/Mace Windu', 'Gobi Glie, Cham Syndulla, Hera Syndulla, Mace Windu', '', 'Gobi tries to talk Cham into letting him go on the mission to free the Capital.', 'English', '554', '1/1', '', '', '3', '1', '13', '8', 'Clone wars drabbles', '05 Mar 2020', '05 Mar 2020']\n",
      "*****\n"
     ]
    }
   ],
   "source": [
    "works = soup.find_all(class_=\"work blurb group\")\n",
    "for work in works:\n",
    "    tags = get_tags(work)\n",
    "    req_tags = get_required_tags(work)\n",
    "    stats = get_stats(work)\n",
    "    header_tags = get_header(work)\n",
    "    fandoms = get_fandoms(work)\n",
    "    summary = get_summary(work)\n",
    "    updated = get_updated(work)\n",
    "    series = get_series(work)\n",
    "    header = ['work_id', 'title', 'author', 'gifted', 'rating', 'warnings', 'category', 'status', 'fandom', 'relationship', 'character', 'additional tags', 'summary','language', 'words', 'chapters', 'collections', 'comments', 'kudos', 'bookmarks', 'hits', 'series_part', 'series_name', 'updated', 'scrape_date']\n",
    "    row = header_tags + req_tags + fandoms + list(map(lambda x: ', '.join(x), tags)) + summary + stats + series + updated + [scrape_date]\n",
    "    row = header_tags + req_tags + fandoms + list(map(lambda x: ', '.join(x), tags)) + summary + stats + series + updated + [scrape_date]\n",
    "    print(header)\n",
    "    print(f\"Row: {row}\")\n",
    "    print(\"*****\") "
   ]
  },
  {
   "cell_type": "code",
   "execution_count": 108,
   "metadata": {},
   "outputs": [
    {
     "name": "stdout",
     "output_type": "stream",
     "text": [
      "[['stuff1', 'morestuff1'], [''], ['boop3'], ['blep3']]\n"
     ]
    }
   ],
   "source": [
    "tag1 = ['stuff1', 'morestuff1']\n",
    "tag2 = ['']\n",
    "tag3 = [['boop3'],['blep3']]\n",
    "collated = [tag1]+[tag2]+tag3\n",
    "print(collated)"
   ]
  },
  {
   "cell_type": "code",
   "execution_count": null,
   "metadata": {},
   "outputs": [],
   "source": [
    "#url = 'http://archiveofourown.org/works/'+str(22336816)+'/kudos'  \n",
    "url = 'http://archiveofourown.org/works/'+str(14737352)+'/kudos' \n",
    "#url = 'http://archiveofourown.org/works/'+str(22336817)+'/kudos' # 404\n",
    "headers = {'user-agent' : 'Homemade Bot; rebecca.sanjabi@gmail.com'}\n",
    "    \n",
    "req = requests.get(url, headers=headers)\n",
    "src = req.text\n",
    "soup = BeautifulSoup(src, 'html.parser')\n",
    "print(url)"
   ]
  },
  {
   "cell_type": "code",
   "execution_count": null,
   "metadata": {},
   "outputs": [],
   "source": []
  },
  {
   "cell_type": "code",
   "execution_count": null,
   "metadata": {},
   "outputs": [],
   "source": [
    "def get_kudos(soup):\n",
    "    try:\n",
    "        my_list = soup.find(id=\"kudos\").find_all('a')\n",
    "        secondary_list = [x.text for x in set(my_list)]\n",
    "        print(\"try\")\n",
    "    except AttributeError as e:\n",
    "        print(\"except\")\n",
    "        return []\n",
    "    else:\n",
    "        print(\"else\")\n",
    "        return secondary_list"
   ]
  },
  {
   "cell_type": "code",
   "execution_count": null,
   "metadata": {},
   "outputs": [],
   "source": [
    "get_kudos(soup)"
   ]
  },
  {
   "cell_type": "code",
   "execution_count": null,
   "metadata": {},
   "outputs": [],
   "source": [
    "if req.status_code != 200:\n",
    "    print('Access Denied')\n",
    "my_kudo_list = get_kudos(soup)\n",
    "unique_list = sorted(my_kudo_list)\n",
    "for el in unique_list:\n",
    "    print(el)\n",
    "print(len(unique_list))"
   ]
  },
  {
   "cell_type": "code",
   "execution_count": null,
   "metadata": {},
   "outputs": [],
   "source": [
    "import pandas as pd"
   ]
  },
  {
   "cell_type": "code",
   "execution_count": null,
   "metadata": {},
   "outputs": [],
   "source": [
    "df = pd.read_csv('../data/swr_fanworks/fanworks_kudos2.csv')"
   ]
  },
  {
   "cell_type": "code",
   "execution_count": null,
   "metadata": {
    "scrolled": false
   },
   "outputs": [],
   "source": [
    "df.head()"
   ]
  },
  {
   "cell_type": "code",
   "execution_count": null,
   "metadata": {},
   "outputs": [],
   "source": [
    "df['user'].value_counts()"
   ]
  },
  {
   "cell_type": "code",
   "execution_count": null,
   "metadata": {},
   "outputs": [],
   "source": [
    "import matplotlib.pyplot as plt\n",
    "fig = plt.figure(1, figsize=(9, 6))\n",
    "\n",
    "# Create an axes instance\n",
    "ax = fig.add_subplot(111)\n",
    "\n",
    "#ax.set_xticklabels(['English', 'Polski','Russkii'])\n",
    "#ax.set_xlabel(metric + ' and Languages')\n",
    "ax.set_ylim([0, 100])\n",
    "\n",
    "# Create the boxplot\n",
    "bp = ax.boxplot(df['user'].value_counts())\n",
    "\n",
    "# Save the figure\n",
    "fig.savefig('fig1.png', bbox_inches='tight')\n",
    "\n",
    "plt.show()"
   ]
  },
  {
   "cell_type": "code",
   "execution_count": null,
   "metadata": {},
   "outputs": [],
   "source": [
    "df.loc[df['user']=='pepoluan']"
   ]
  },
  {
   "cell_type": "code",
   "execution_count": null,
   "metadata": {},
   "outputs": [],
   "source": [
    "df.info()"
   ]
  },
  {
   "cell_type": "code",
   "execution_count": null,
   "metadata": {},
   "outputs": [],
   "source": [
    "len(df['work_id'].unique())"
   ]
  },
  {
   "cell_type": "code",
   "execution_count": null,
   "metadata": {},
   "outputs": [],
   "source": [
    "len(df['user'].unique())"
   ]
  },
  {
   "cell_type": "code",
   "execution_count": null,
   "metadata": {},
   "outputs": [],
   "source": [
    "columns_titles = [\"work_id\",\"user\"]\n",
    "df2=df.reindex(columns=columns_titles)"
   ]
  },
  {
   "cell_type": "code",
   "execution_count": null,
   "metadata": {},
   "outputs": [],
   "source": [
    "df2.head()"
   ]
  },
  {
   "cell_type": "code",
   "execution_count": null,
   "metadata": {},
   "outputs": [],
   "source": [
    "df2.to_csv('../data/swr_fanworks/fanworks_kudos2.csv', index=False)"
   ]
  },
  {
   "cell_type": "code",
   "execution_count": null,
   "metadata": {},
   "outputs": [],
   "source": [
    "def my_func(var, var2):\n",
    "    var = var + 3\n",
    "    var2 = var2/4\n",
    "    print(f\"Inside function var value: {var}\")\n",
    "    \n",
    "    return var"
   ]
  },
  {
   "cell_type": "code",
   "execution_count": null,
   "metadata": {},
   "outputs": [],
   "source": [
    "var = 1\n",
    "var2 = 4\n",
    "print(f\"Prior to function var value: {var}\")\n",
    "my_func(var, var2)\n",
    "print(f\"Post function var value: {var}\")\n"
   ]
  },
  {
   "cell_type": "code",
   "execution_count": null,
   "metadata": {},
   "outputs": [],
   "source": [
    "def reassign(list):\n",
    "  list = [0, 1]\n",
    "\n",
    "def append(list):\n",
    "  list.append(1)\n",
    "\n",
    "list = [0]\n",
    "print(list)\n",
    "reassign(list)\n",
    "print(list)\n",
    "append(list)\n",
    "print(list)"
   ]
  },
  {
   "cell_type": "code",
   "execution_count": null,
   "metadata": {},
   "outputs": [],
   "source": [
    "listA = [0]\n",
    "listB = listA\n",
    "listB.append(1)\n",
    "print(listA)"
   ]
  },
  {
   "cell_type": "code",
   "execution_count": null,
   "metadata": {},
   "outputs": [],
   "source": [
    "import pandas as pd\n",
    "import seaborn as sns\n",
    "import matplotlib.pyplot as plt\n",
    "from sklearn.preprocessing import MultiLabelBinarizer\n",
    "\n",
    "%matplotlib inline\n",
    "\n",
    "plt.style.use('bmh')\n",
    "pd.options.display.float_format = '{:,.0f}'.format\n",
    "pd.set_option(\"display.max_columns\", 40)"
   ]
  },
  {
   "cell_type": "code",
   "execution_count": null,
   "metadata": {},
   "outputs": [],
   "source": [
    "df = pd.read_csv('../data/fanfics_metadata.csv')\n",
    "cols_with_missing = [col for col in df.columns if df[col].isnull().any()]\n",
    "cols_with_missing"
   ]
  },
  {
   "cell_type": "code",
   "execution_count": null,
   "metadata": {},
   "outputs": [],
   "source": [
    "df['category'].fillna('No Category Specified', inplace=True)\n",
    "df['relationship'].fillna('No Relationship Specified', inplace=True)\n",
    "df['character'].fillna('No Character Specified', inplace=True)\n",
    "df['additional tags'].fillna('No Additional Tags Specified', inplace=True)\n",
    "df['words'].fillna(0, inplace=True)\n",
    "df['comments'].fillna(0, inplace=True)\n",
    "df['kudos'].fillna(0, inplace=True)\n",
    "df['bookmarks'].fillna(0, inplace=True)\n",
    "df['hits'].fillna(0, inplace=True)"
   ]
  },
  {
   "cell_type": "code",
   "execution_count": null,
   "metadata": {},
   "outputs": [],
   "source": [
    "df['kudos'].describe()"
   ]
  },
  {
   "cell_type": "code",
   "execution_count": null,
   "metadata": {},
   "outputs": [],
   "source": [
    "df['kudos'].value_counts().sort_values()"
   ]
  },
  {
   "cell_type": "code",
   "execution_count": null,
   "metadata": {},
   "outputs": [],
   "source": [
    "df.loc[df['kudos'] != 0].count()"
   ]
  },
  {
   "cell_type": "code",
   "execution_count": null,
   "metadata": {},
   "outputs": [],
   "source": [
    "from scipy.sparse import csr_matrix\n",
    "\n",
    "docs = [[\"hello\", \"world\", \"hello\"], [\"goodbye\", \"cruel\", \"world\"]]\n",
    "indptr = [0]\n",
    "indices = []\n",
    "data = []\n",
    "vocabulary = {}\n",
    "for d in docs:\n",
    "    for term in d:\n",
    "        index = vocabulary.setdefault(term, len(vocabulary))\n",
    "        indices.append(index)\n",
    "        data.append(1)\n",
    "        indptr.append(len(indices))\n",
    "        print(f\"term: {term} index: {index} indices: {indices} data: {data} vocab: {vocabulary}\")\n",
    "csr_matrix((data, indices, indptr), dtype=int).toarray()\n"
   ]
  },
  {
   "cell_type": "code",
   "execution_count": null,
   "metadata": {},
   "outputs": [],
   "source": []
  },
  {
   "cell_type": "code",
   "execution_count": null,
   "metadata": {},
   "outputs": [],
   "source": [
    "str = '255.255.255.255'\n",
    "str.replace('.', '[.]')"
   ]
  },
  {
   "cell_type": "code",
   "execution_count": null,
   "metadata": {},
   "outputs": [],
   "source": []
  }
 ],
 "metadata": {
  "kernelspec": {
   "display_name": "Python 3.7.3 64-bit",
   "language": "python",
   "name": "python37364bitdf3c78cf64194a55a128d85384e140b3"
  },
  "language_info": {
   "codemirror_mode": {
    "name": "ipython",
    "version": 3
   },
   "file_extension": ".py",
   "mimetype": "text/x-python",
   "name": "python",
   "nbconvert_exporter": "python",
   "pygments_lexer": "ipython3",
   "version": "3.7.3"
  }
 },
 "nbformat": 4,
 "nbformat_minor": 4
}
