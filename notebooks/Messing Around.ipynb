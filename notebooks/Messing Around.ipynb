{
 "cells": [
  {
   "cell_type": "code",
   "execution_count": 1,
   "metadata": {},
   "outputs": [],
   "source": [
    "from bs4 import BeautifulSoup\n",
    "import requests"
   ]
  },
  {
   "cell_type": "code",
   "execution_count": 29,
   "metadata": {},
   "outputs": [
    {
     "name": "stdout",
     "output_type": "stream",
     "text": [
      "http://archiveofourown.org/works/22336817/kudos\n"
     ]
    }
   ],
   "source": [
    "#url = 'http://archiveofourown.org/works/'+str(22336816)+'/kudos'  \n",
    "#url = 'http://archiveofourown.org/works/'+str(14737352)+'/kudos' \n",
    "url = 'http://archiveofourown.org/works/'+str(22336817)+'/kudos' # 404\n",
    "headers = {'user-agent' : 'Homemade Bot; rebecca.sanjabi@gmail.com'}\n",
    "    \n",
    "req = requests.get(url, headers=headers)\n",
    "src = req.text\n",
    "soup = BeautifulSoup(src, 'html.parser')\n",
    "print(url)"
   ]
  },
  {
   "cell_type": "code",
   "execution_count": 30,
   "metadata": {},
   "outputs": [],
   "source": [
    "def get_kudos(soup):\n",
    "    try:\n",
    "        my_list = soup.find(id=\"kudos\").find_all('a')\n",
    "        return [x.text for x in set(my_list)]\n",
    "    except AttributeError as e:\n",
    "        return []"
   ]
  },
  {
   "cell_type": "code",
   "execution_count": 32,
   "metadata": {},
   "outputs": [
    {
     "name": "stdout",
     "output_type": "stream",
     "text": [
      "Access Denied\n",
      "0\n"
     ]
    }
   ],
   "source": [
    "if req.status_code != 200:\n",
    "    print('Access Denied')\n",
    "my_kudo_list = get_kudos(soup)\n",
    "unique_list = sorted(my_kudo_list)\n",
    "for el in unique_list:\n",
    "    print(el)\n",
    "print(len(unique_list))"
   ]
  },
  {
   "cell_type": "code",
   "execution_count": null,
   "metadata": {},
   "outputs": [],
   "source": []
  }
 ],
 "metadata": {
  "kernelspec": {
   "display_name": "Python 3",
   "language": "python",
   "name": "python3"
  },
  "language_info": {
   "codemirror_mode": {
    "name": "ipython",
    "version": 3
   },
   "file_extension": ".py",
   "mimetype": "text/x-python",
   "name": "python",
   "nbconvert_exporter": "python",
   "pygments_lexer": "ipython3",
   "version": "3.7.4"
  }
 },
 "nbformat": 4,
 "nbformat_minor": 4
}
