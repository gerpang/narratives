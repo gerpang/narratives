{
 "cells": [
  {
   "cell_type": "code",
   "execution_count": null,
   "metadata": {},
   "outputs": [],
   "source": [
    "from bs4 import BeautifulSoup\n",
    "import requests"
   ]
  },
  {
   "cell_type": "code",
   "execution_count": null,
   "metadata": {},
   "outputs": [],
   "source": [
    "#url = 'http://archiveofourown.org/works/'+str(22336816)+'/kudos'  \n",
    "url = 'http://archiveofourown.org/works/'+str(14737352)+'/kudos' \n",
    "#url = 'http://archiveofourown.org/works/'+str(22336817)+'/kudos' # 404\n",
    "headers = {'user-agent' : 'Homemade Bot; rebecca.sanjabi@gmail.com'}\n",
    "    \n",
    "req = requests.get(url, headers=headers)\n",
    "src = req.text\n",
    "soup = BeautifulSoup(src, 'html.parser')\n",
    "print(url)"
   ]
  },
  {
   "cell_type": "code",
   "execution_count": null,
   "metadata": {},
   "outputs": [],
   "source": [
    "def get_kudos(soup):\n",
    "    try:\n",
    "        my_list = soup.find(id=\"kudos\").find_all('a')\n",
    "        secondary_list = [x.text for x in set(my_list)]\n",
    "        print(\"try\")\n",
    "    except AttributeError as e:\n",
    "        print(\"except\")\n",
    "        return []\n",
    "    else:\n",
    "        print(\"else\")\n",
    "        return secondary_list"
   ]
  },
  {
   "cell_type": "code",
   "execution_count": null,
   "metadata": {},
   "outputs": [],
   "source": [
    "get_kudos(soup)"
   ]
  },
  {
   "cell_type": "code",
   "execution_count": null,
   "metadata": {},
   "outputs": [],
   "source": [
    "if req.status_code != 200:\n",
    "    print('Access Denied')\n",
    "my_kudo_list = get_kudos(soup)\n",
    "unique_list = sorted(my_kudo_list)\n",
    "for el in unique_list:\n",
    "    print(el)\n",
    "print(len(unique_list))"
   ]
  },
  {
   "cell_type": "code",
   "execution_count": 1,
   "metadata": {},
   "outputs": [],
   "source": [
    "import pandas as pd"
   ]
  },
  {
   "cell_type": "code",
   "execution_count": 2,
   "metadata": {},
   "outputs": [],
   "source": [
    "df = pd.read_csv('../data/swr_fanworks/fanworks_kudos2.csv')"
   ]
  },
  {
   "cell_type": "code",
   "execution_count": 3,
   "metadata": {
    "scrolled": false
   },
   "outputs": [
    {
     "data": {
      "text/html": [
       "<div>\n",
       "<style scoped>\n",
       "    .dataframe tbody tr th:only-of-type {\n",
       "        vertical-align: middle;\n",
       "    }\n",
       "\n",
       "    .dataframe tbody tr th {\n",
       "        vertical-align: top;\n",
       "    }\n",
       "\n",
       "    .dataframe thead th {\n",
       "        text-align: right;\n",
       "    }\n",
       "</style>\n",
       "<table border=\"1\" class=\"dataframe\">\n",
       "  <thead>\n",
       "    <tr style=\"text-align: right;\">\n",
       "      <th></th>\n",
       "      <th>user</th>\n",
       "      <th>work_id</th>\n",
       "    </tr>\n",
       "  </thead>\n",
       "  <tbody>\n",
       "    <tr>\n",
       "      <th>0</th>\n",
       "      <td>klutzyelf</td>\n",
       "      <td>3104510</td>\n",
       "    </tr>\n",
       "    <tr>\n",
       "      <th>1</th>\n",
       "      <td>Ello_its_meme</td>\n",
       "      <td>3104510</td>\n",
       "    </tr>\n",
       "    <tr>\n",
       "      <th>2</th>\n",
       "      <td>JadedBlade</td>\n",
       "      <td>3104510</td>\n",
       "    </tr>\n",
       "    <tr>\n",
       "      <th>3</th>\n",
       "      <td>Moony_PirateKing</td>\n",
       "      <td>3104510</td>\n",
       "    </tr>\n",
       "    <tr>\n",
       "      <th>4</th>\n",
       "      <td>EgoBang07</td>\n",
       "      <td>3104510</td>\n",
       "    </tr>\n",
       "  </tbody>\n",
       "</table>\n",
       "</div>"
      ],
      "text/plain": [
       "               user  work_id\n",
       "0         klutzyelf  3104510\n",
       "1     Ello_its_meme  3104510\n",
       "2        JadedBlade  3104510\n",
       "3  Moony_PirateKing  3104510\n",
       "4         EgoBang07  3104510"
      ]
     },
     "execution_count": 3,
     "metadata": {},
     "output_type": "execute_result"
    }
   ],
   "source": [
    "df.head()"
   ]
  },
  {
   "cell_type": "code",
   "execution_count": 20,
   "metadata": {},
   "outputs": [
    {
     "data": {
      "text/plain": [
       "LokiLaufeysonLove    917\n",
       "annastronaut         685\n",
       "cannedpeaches        662\n",
       "EyeLoch              649\n",
       "LuaKitsune           595\n",
       "                    ... \n",
       "AndrasteLuna           1\n",
       "Cloveroftheleaf        1\n",
       "incarnadinedreams      1\n",
       "JediMasterDomino       1\n",
       "Moonraykir             1\n",
       "Name: user, Length: 18096, dtype: int64"
      ]
     },
     "execution_count": 20,
     "metadata": {},
     "output_type": "execute_result"
    }
   ],
   "source": [
    "df['user'].value_counts()"
   ]
  },
  {
   "cell_type": "code",
   "execution_count": 12,
   "metadata": {},
   "outputs": [
    {
     "data": {
      "image/png": "[encoded data removed]",
      "text/plain": [
       "<Figure size 648x432 with 1 Axes>"
      ]
     },
     "metadata": {
      "needs_background": "light"
     },
     "output_type": "display_data"
    }
   ],
   "source": [
    "import matplotlib.pyplot as plt\n",
    "fig = plt.figure(1, figsize=(9, 6))\n",
    "\n",
    "# Create an axes instance\n",
    "ax = fig.add_subplot(111)\n",
    "\n",
    "#ax.set_xticklabels(['English', 'Polski','Russkii'])\n",
    "#ax.set_xlabel(metric + ' and Languages')\n",
    "ax.set_ylim([0, 100])\n",
    "\n",
    "# Create the boxplot\n",
    "bp = ax.boxplot(df['user'].value_counts())\n",
    "\n",
    "# Save the figure\n",
    "fig.savefig('fig1.png', bbox_inches='tight')\n",
    "\n",
    "plt.show()"
   ]
  },
  {
   "cell_type": "code",
   "execution_count": null,
   "metadata": {},
   "outputs": [],
   "source": [
    "df.loc[df['user']=='pepoluan']"
   ]
  },
  {
   "cell_type": "code",
   "execution_count": null,
   "metadata": {},
   "outputs": [],
   "source": [
    "df.info()"
   ]
  },
  {
   "cell_type": "code",
   "execution_count": null,
   "metadata": {},
   "outputs": [],
   "source": [
    "len(df['work_id'].unique())"
   ]
  },
  {
   "cell_type": "code",
   "execution_count": null,
   "metadata": {},
   "outputs": [],
   "source": [
    "len(df['user'].unique())"
   ]
  },
  {
   "cell_type": "code",
   "execution_count": null,
   "metadata": {},
   "outputs": [],
   "source": [
    "columns_titles = [\"work_id\",\"user\"]\n",
    "df2=df.reindex(columns=columns_titles)"
   ]
  },
  {
   "cell_type": "code",
   "execution_count": null,
   "metadata": {},
   "outputs": [],
   "source": [
    "df2.head()"
   ]
  },
  {
   "cell_type": "code",
   "execution_count": null,
   "metadata": {},
   "outputs": [],
   "source": [
    "df2.to_csv('../data/swr_fanworks/fanworks_kudos2.csv', index=False)"
   ]
  },
  {
   "cell_type": "code",
   "execution_count": null,
   "metadata": {},
   "outputs": [],
   "source": [
    "def my_func(var, var2):\n",
    "    var = var + 3\n",
    "    var2 = var2/4\n",
    "    print(f\"Inside function var value: {var}\")\n",
    "    \n",
    "    return var"
   ]
  },
  {
   "cell_type": "code",
   "execution_count": null,
   "metadata": {},
   "outputs": [],
   "source": [
    "var = 1\n",
    "var2 = 4\n",
    "print(f\"Prior to function var value: {var}\")\n",
    "my_func(var, var2)\n",
    "print(f\"Post function var value: {var}\")\n"
   ]
  },
  {
   "cell_type": "code",
   "execution_count": null,
   "metadata": {},
   "outputs": [],
   "source": [
    "def reassign(list):\n",
    "  list = [0, 1]\n",
    "\n",
    "def append(list):\n",
    "  list.append(1)\n",
    "\n",
    "list = [0]\n",
    "print(list)\n",
    "reassign(list)\n",
    "print(list)\n",
    "append(list)\n",
    "print(list)"
   ]
  },
  {
   "cell_type": "code",
   "execution_count": null,
   "metadata": {},
   "outputs": [],
   "source": [
    "listA = [0]\n",
    "listB = listA\n",
    "listB.append(1)\n",
    "print(listA)"
   ]
  },
  {
   "cell_type": "code",
   "execution_count": 21,
   "metadata": {},
   "outputs": [],
   "source": [
    "import pandas as pd\n",
    "import seaborn as sns\n",
    "import matplotlib.pyplot as plt\n",
    "from sklearn.preprocessing import MultiLabelBinarizer\n",
    "\n",
    "%matplotlib inline\n",
    "\n",
    "plt.style.use('bmh')\n",
    "pd.options.display.float_format = '{:,.0f}'.format\n",
    "pd.set_option(\"display.max_columns\", 40)"
   ]
  },
  {
   "cell_type": "code",
   "execution_count": 22,
   "metadata": {},
   "outputs": [
    {
     "data": {
      "text/plain": [
       "['category',\n",
       " 'relationship',\n",
       " 'character',\n",
       " 'additional tags',\n",
       " 'words',\n",
       " 'comments',\n",
       " 'kudos',\n",
       " 'bookmarks',\n",
       " 'hits']"
      ]
     },
     "execution_count": 22,
     "metadata": {},
     "output_type": "execute_result"
    }
   ],
   "source": [
    "df = pd.read_csv('../data/fanfics_metadata.csv')\n",
    "cols_with_missing = [col for col in df.columns if df[col].isnull().any()]\n",
    "cols_with_missing"
   ]
  },
  {
   "cell_type": "code",
   "execution_count": 23,
   "metadata": {},
   "outputs": [],
   "source": [
    "df['category'].fillna('No Category Specified', inplace=True)\n",
    "df['relationship'].fillna('No Relationship Specified', inplace=True)\n",
    "df['character'].fillna('No Character Specified', inplace=True)\n",
    "df['additional tags'].fillna('No Additional Tags Specified', inplace=True)\n",
    "df['words'].fillna(0, inplace=True)\n",
    "df['comments'].fillna(0, inplace=True)\n",
    "df['kudos'].fillna(0, inplace=True)\n",
    "df['bookmarks'].fillna(0, inplace=True)\n",
    "df['hits'].fillna(0, inplace=True)"
   ]
  },
  {
   "cell_type": "code",
   "execution_count": 26,
   "metadata": {},
   "outputs": [
    {
     "data": {
      "text/plain": [
       "count   4,320\n",
       "mean       69\n",
       "std       107\n",
       "min         0\n",
       "25%        18\n",
       "50%        40\n",
       "75%        81\n",
       "max     1,917\n",
       "Name: kudos, dtype: float64"
      ]
     },
     "execution_count": 26,
     "metadata": {},
     "output_type": "execute_result"
    }
   ],
   "source": [
    "df['kudos'].describe()"
   ]
  },
  {
   "cell_type": "code",
   "execution_count": 37,
   "metadata": {},
   "outputs": [
    {
     "data": {
      "text/plain": [
       "608     1\n",
       "333     1\n",
       "354     1\n",
       "390     1\n",
       "204     1\n",
       "       ..\n",
       "12     66\n",
       "4      67\n",
       "5      70\n",
       "8      70\n",
       "6      75\n",
       "Name: kudos, Length: 376, dtype: int64"
      ]
     },
     "execution_count": 37,
     "metadata": {},
     "output_type": "execute_result"
    }
   ],
   "source": [
    "df['kudos'].value_counts().sort_values()"
   ]
  },
  {
   "cell_type": "code",
   "execution_count": 41,
   "metadata": {},
   "outputs": [
    {
     "data": {
      "text/plain": [
       "work_id            4290\n",
       "title              4290\n",
       "rating             4290\n",
       "category           4290\n",
       "fandom             4290\n",
       "relationship       4290\n",
       "character          4290\n",
       "additional tags    4290\n",
       "language           4290\n",
       "published          4290\n",
       "status             4290\n",
       "status date        4290\n",
       "words              4290\n",
       "chapters           4290\n",
       "comments           4290\n",
       "kudos              4290\n",
       "bookmarks          4290\n",
       "hits               4290\n",
       "dtype: int64"
      ]
     },
     "execution_count": 41,
     "metadata": {},
     "output_type": "execute_result"
    }
   ],
   "source": [
    "df.loc[df['kudos'] != 0].count()"
   ]
  },
  {
   "cell_type": "code",
   "execution_count": 49,
   "metadata": {},
   "outputs": [
    {
     "name": "stdout",
     "output_type": "stream",
     "text": [
      "term: hello index: 0 indices: [0] data: [1] vocab: {'hello': 0}\n",
      "term: world index: 1 indices: [0, 1] data: [1, 1] vocab: {'hello': 0, 'world': 1}\n",
      "term: hello index: 0 indices: [0, 1, 0] data: [1, 1, 1] vocab: {'hello': 0, 'world': 1}\n",
      "term: goodbye index: 2 indices: [0, 1, 0, 2] data: [1, 1, 1, 1] vocab: {'hello': 0, 'world': 1, 'goodbye': 2}\n",
      "term: cruel index: 3 indices: [0, 1, 0, 2, 3] data: [1, 1, 1, 1, 1] vocab: {'hello': 0, 'world': 1, 'goodbye': 2, 'cruel': 3}\n",
      "term: world index: 1 indices: [0, 1, 0, 2, 3, 1] data: [1, 1, 1, 1, 1, 1] vocab: {'hello': 0, 'world': 1, 'goodbye': 2, 'cruel': 3}\n"
     ]
    },
    {
     "data": {
      "text/plain": [
       "array([[1, 0, 0, 0],\n",
       "       [0, 1, 0, 0],\n",
       "       [1, 0, 0, 0],\n",
       "       [0, 0, 1, 0],\n",
       "       [0, 0, 0, 1],\n",
       "       [0, 1, 0, 0]])"
      ]
     },
     "execution_count": 49,
     "metadata": {},
     "output_type": "execute_result"
    }
   ],
   "source": [
    "from scipy.sparse import csr_matrix\n",
    "\n",
    "docs = [[\"hello\", \"world\", \"hello\"], [\"goodbye\", \"cruel\", \"world\"]]\n",
    "indptr = [0]\n",
    "indices = []\n",
    "data = []\n",
    "vocabulary = {}\n",
    "for d in docs:\n",
    "    for term in d:\n",
    "        index = vocabulary.setdefault(term, len(vocabulary))\n",
    "        indices.append(index)\n",
    "        data.append(1)\n",
    "        indptr.append(len(indices))\n",
    "        print(f\"term: {term} index: {index} indices: {indices} data: {data} vocab: {vocabulary}\")\n",
    "csr_matrix((data, indices, indptr), dtype=int).toarray()\n"
   ]
  },
  {
   "cell_type": "code",
   "execution_count": 46,
   "metadata": {},
   "outputs": [
    {
     "ename": "TypeError",
     "evalue": "'property' object is not callable",
     "output_type": "error",
     "traceback": [
      "\u001b[0;31m---------------------------------------------------------------------------\u001b[0m",
      "\u001b[0;31mTypeError\u001b[0m                                 Traceback (most recent call last)",
      "\u001b[0;32m<ipython-input-46-0b6b7dd5c145>\u001b[0m in \u001b[0;36m<module>\u001b[0;34m\u001b[0m\n\u001b[0;32m----> 1\u001b[0;31m \u001b[0mcsr_matrix\u001b[0m\u001b[0;34m.\u001b[0m\u001b[0mshape\u001b[0m\u001b[0;34m(\u001b[0m\u001b[0;34m)\u001b[0m\u001b[0;34m\u001b[0m\u001b[0;34m\u001b[0m\u001b[0m\n\u001b[0m",
      "\u001b[0;31mTypeError\u001b[0m: 'property' object is not callable"
     ]
    }
   ],
   "source": []
  },
  {
   "cell_type": "code",
   "execution_count": 51,
   "metadata": {},
   "outputs": [
    {
     "data": {
      "text/plain": [
       "'255[.]255[.]255[.]255'"
      ]
     },
     "execution_count": 51,
     "metadata": {},
     "output_type": "execute_result"
    }
   ],
   "source": [
    "str = '255.255.255.255'\n",
    "str.replace('.', '[.]')"
   ]
  },
  {
   "cell_type": "code",
   "execution_count": null,
   "metadata": {},
   "outputs": [],
   "source": []
  }
 ],
 "metadata": {
  "kernelspec": {
   "display_name": "Python 3",
   "language": "python",
   "name": "python3"
  },
  "language_info": {
   "codemirror_mode": {
    "name": "ipython",
    "version": 3
   },
   "file_extension": ".py",
   "mimetype": "text/x-python",
   "name": "python",
   "nbconvert_exporter": "python",
   "pygments_lexer": "ipython3",
   "version": "3.7.4"
  }
 },
 "nbformat": 4,
 "nbformat_minor": 4
}
